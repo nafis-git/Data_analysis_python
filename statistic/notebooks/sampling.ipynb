{
 "cells": [
  {
   "cell_type": "markdown",
   "id": "aeba749b",
   "metadata": {},
   "source": [
    "# Sampling\n",
    "It's a powerful skill used in survey analysis and experimental design to draw conclusions without surveying an entire population"
   ]
  },
  {
   "cell_type": "markdown",
   "id": "2836e0f9",
   "metadata": {},
   "source": [
    "\n",
    "## What is covered\n",
    "#### basic principles of sampling\n",
    "- the problems caused by selection bias\n",
    "- what pseudo-random numbers are\n",
    "#### how to perform the four most common methods of sampling: \n",
    "- simple random sampling, \n",
    "- systematic sampling, \n",
    "- stratified sampling, \n",
    "- and cluster sampling. \n",
    "#### sampling distribution\n",
    "- sample size affects estimates of population parameters, \n",
    "- how to use repeated sampling to generate a sampling distribution, \n",
    "- the difference between approximate and exact sampling distributions, \n",
    "- central limit theorem. \n",
    "#### bootstrapping \n",
    "- estimate population parameters from a single sample, \n",
    "- what the standard error of a statistic \n",
    "- two ways to calculate confidence intervals."
   ]
  },
  {
   "cell_type": "code",
   "execution_count": 1,
   "id": "3ca1d123",
   "metadata": {},
   "outputs": [],
   "source": [
    "# !pip install pyarrow\n",
    "import warnings\n",
    "warnings.filterwarnings('ignore')\n",
    "import matplotlib.pyplot as plt\n",
    "import pandas as pd\n",
    "import numpy as np"
   ]
  },
  {
   "cell_type": "code",
   "execution_count": 2,
   "id": "864a5218",
   "metadata": {},
   "outputs": [
    {
     "data": {
      "text/html": [
       "<div>\n",
       "<style scoped>\n",
       "    .dataframe tbody tr th:only-of-type {\n",
       "        vertical-align: middle;\n",
       "    }\n",
       "\n",
       "    .dataframe tbody tr th {\n",
       "        vertical-align: top;\n",
       "    }\n",
       "\n",
       "    .dataframe thead th {\n",
       "        text-align: right;\n",
       "    }\n",
       "</style>\n",
       "<table border=\"1\" class=\"dataframe\">\n",
       "  <thead>\n",
       "    <tr style=\"text-align: right;\">\n",
       "      <th></th>\n",
       "      <th>acousticness</th>\n",
       "      <th>artists</th>\n",
       "      <th>danceability</th>\n",
       "      <th>duration_ms</th>\n",
       "      <th>duration_minutes</th>\n",
       "      <th>energy</th>\n",
       "      <th>explicit</th>\n",
       "      <th>id</th>\n",
       "      <th>instrumentalness</th>\n",
       "      <th>key</th>\n",
       "      <th>liveness</th>\n",
       "      <th>loudness</th>\n",
       "      <th>mode</th>\n",
       "      <th>name</th>\n",
       "      <th>popularity</th>\n",
       "      <th>release_date</th>\n",
       "      <th>speechiness</th>\n",
       "      <th>tempo</th>\n",
       "      <th>valence</th>\n",
       "      <th>year</th>\n",
       "    </tr>\n",
       "  </thead>\n",
       "  <tbody>\n",
       "    <tr>\n",
       "      <th>0</th>\n",
       "      <td>0.97200</td>\n",
       "      <td>['David Bauer']</td>\n",
       "      <td>0.567</td>\n",
       "      <td>313293.0</td>\n",
       "      <td>5.221550</td>\n",
       "      <td>0.227</td>\n",
       "      <td>0.0</td>\n",
       "      <td>0w0D8H1ubRerCXHWYJkinO</td>\n",
       "      <td>0.601000</td>\n",
       "      <td>10.0</td>\n",
       "      <td>0.110</td>\n",
       "      <td>-13.441</td>\n",
       "      <td>1.0</td>\n",
       "      <td>Shout to the Lord</td>\n",
       "      <td>47.0</td>\n",
       "      <td>2000</td>\n",
       "      <td>0.0290</td>\n",
       "      <td>136.123</td>\n",
       "      <td>0.0396</td>\n",
       "      <td>2000.0</td>\n",
       "    </tr>\n",
       "    <tr>\n",
       "      <th>1</th>\n",
       "      <td>0.32100</td>\n",
       "      <td>['Etta James']</td>\n",
       "      <td>0.821</td>\n",
       "      <td>360240.0</td>\n",
       "      <td>6.004000</td>\n",
       "      <td>0.418</td>\n",
       "      <td>0.0</td>\n",
       "      <td>4JVeqfE2tpi7Pv63LJZtPh</td>\n",
       "      <td>0.000372</td>\n",
       "      <td>9.0</td>\n",
       "      <td>0.222</td>\n",
       "      <td>-9.841</td>\n",
       "      <td>0.0</td>\n",
       "      <td>Miss You</td>\n",
       "      <td>51.0</td>\n",
       "      <td>2000-12-12</td>\n",
       "      <td>0.0407</td>\n",
       "      <td>117.382</td>\n",
       "      <td>0.8030</td>\n",
       "      <td>2000.0</td>\n",
       "    </tr>\n",
       "    <tr>\n",
       "      <th>2</th>\n",
       "      <td>0.00659</td>\n",
       "      <td>['Quasimoto']</td>\n",
       "      <td>0.706</td>\n",
       "      <td>202507.0</td>\n",
       "      <td>3.375117</td>\n",
       "      <td>0.602</td>\n",
       "      <td>1.0</td>\n",
       "      <td>5pxtdhLAi0RTh1gNqhGMNA</td>\n",
       "      <td>0.000138</td>\n",
       "      <td>11.0</td>\n",
       "      <td>0.400</td>\n",
       "      <td>-8.306</td>\n",
       "      <td>0.0</td>\n",
       "      <td>Real Eyes</td>\n",
       "      <td>44.0</td>\n",
       "      <td>2000-06-13</td>\n",
       "      <td>0.3420</td>\n",
       "      <td>89.692</td>\n",
       "      <td>0.4790</td>\n",
       "      <td>2000.0</td>\n",
       "    </tr>\n",
       "    <tr>\n",
       "      <th>3</th>\n",
       "      <td>0.00390</td>\n",
       "      <td>['Millencolin']</td>\n",
       "      <td>0.368</td>\n",
       "      <td>173360.0</td>\n",
       "      <td>2.889333</td>\n",
       "      <td>0.977</td>\n",
       "      <td>0.0</td>\n",
       "      <td>3jRsoe4Vkxa4BMYqGHX8L0</td>\n",
       "      <td>0.000000</td>\n",
       "      <td>11.0</td>\n",
       "      <td>0.350</td>\n",
       "      <td>-2.757</td>\n",
       "      <td>0.0</td>\n",
       "      <td>Penguins &amp; Polarbears</td>\n",
       "      <td>52.0</td>\n",
       "      <td>2000-02-22</td>\n",
       "      <td>0.1270</td>\n",
       "      <td>165.889</td>\n",
       "      <td>0.5480</td>\n",
       "      <td>2000.0</td>\n",
       "    </tr>\n",
       "    <tr>\n",
       "      <th>4</th>\n",
       "      <td>0.12200</td>\n",
       "      <td>['Steve Chou']</td>\n",
       "      <td>0.501</td>\n",
       "      <td>344200.0</td>\n",
       "      <td>5.736667</td>\n",
       "      <td>0.511</td>\n",
       "      <td>0.0</td>\n",
       "      <td>4mronxcllhfyhBRqyZi8kU</td>\n",
       "      <td>0.000000</td>\n",
       "      <td>7.0</td>\n",
       "      <td>0.279</td>\n",
       "      <td>-9.836</td>\n",
       "      <td>0.0</td>\n",
       "      <td>黃昏</td>\n",
       "      <td>53.0</td>\n",
       "      <td>2000-12-25</td>\n",
       "      <td>0.0291</td>\n",
       "      <td>78.045</td>\n",
       "      <td>0.1130</td>\n",
       "      <td>2000.0</td>\n",
       "    </tr>\n",
       "  </tbody>\n",
       "</table>\n",
       "</div>"
      ],
      "text/plain": [
       "   acousticness          artists  danceability  duration_ms  duration_minutes  \\\n",
       "0       0.97200  ['David Bauer']         0.567     313293.0          5.221550   \n",
       "1       0.32100   ['Etta James']         0.821     360240.0          6.004000   \n",
       "2       0.00659    ['Quasimoto']         0.706     202507.0          3.375117   \n",
       "3       0.00390  ['Millencolin']         0.368     173360.0          2.889333   \n",
       "4       0.12200   ['Steve Chou']         0.501     344200.0          5.736667   \n",
       "\n",
       "   energy  explicit                      id  instrumentalness   key  liveness  \\\n",
       "0   0.227       0.0  0w0D8H1ubRerCXHWYJkinO          0.601000  10.0     0.110   \n",
       "1   0.418       0.0  4JVeqfE2tpi7Pv63LJZtPh          0.000372   9.0     0.222   \n",
       "2   0.602       1.0  5pxtdhLAi0RTh1gNqhGMNA          0.000138  11.0     0.400   \n",
       "3   0.977       0.0  3jRsoe4Vkxa4BMYqGHX8L0          0.000000  11.0     0.350   \n",
       "4   0.511       0.0  4mronxcllhfyhBRqyZi8kU          0.000000   7.0     0.279   \n",
       "\n",
       "   loudness  mode                   name  popularity release_date  \\\n",
       "0   -13.441   1.0      Shout to the Lord        47.0         2000   \n",
       "1    -9.841   0.0               Miss You        51.0   2000-12-12   \n",
       "2    -8.306   0.0              Real Eyes        44.0   2000-06-13   \n",
       "3    -2.757   0.0  Penguins & Polarbears        52.0   2000-02-22   \n",
       "4    -9.836   0.0                     黃昏        53.0   2000-12-25   \n",
       "\n",
       "   speechiness    tempo  valence    year  \n",
       "0       0.0290  136.123   0.0396  2000.0  \n",
       "1       0.0407  117.382   0.8030  2000.0  \n",
       "2       0.3420   89.692   0.4790  2000.0  \n",
       "3       0.1270  165.889   0.5480  2000.0  \n",
       "4       0.0291   78.045   0.1130  2000.0  "
      ]
     },
     "execution_count": 2,
     "metadata": {},
     "output_type": "execute_result"
    }
   ],
   "source": [
    "import pandas as pd\n",
    "url = 'https://raw.githubusercontent.com/nafis-git/Data_analysis_python/main/statistic/data/spotify_2000_2020.feather'\n",
    "spotify = pd.read_feather(url)\n",
    "spotify.head()"
   ]
  },
  {
   "cell_type": "code",
   "execution_count": 3,
   "id": "315a1bd1",
   "metadata": {},
   "outputs": [
    {
     "name": "stdout",
     "output_type": "stream",
     "text": [
      " mean in sample =  3.834974949999998 \n",
      " mean in population =  3.8521519140899896\n"
     ]
    }
   ],
   "source": [
    "# take a smaple of 1000 and compare mean song duration in the sample and in the whole population.\n",
    "sample_1000 = spotify.sample(1000)\n",
    "print(' mean in sample = ',sample_1000['duration_minutes'].mean(),'\\n',\n",
    "      'mean in population = ', spotify['duration_minutes'].mean())"
   ]
  },
  {
   "cell_type": "code",
   "execution_count": 4,
   "id": "9833f319",
   "metadata": {},
   "outputs": [
    {
     "data": {
      "text/plain": [
       "<AxesSubplot:>"
      ]
     },
     "execution_count": 4,
     "metadata": {},
     "output_type": "execute_result"
    },
    {
     "data": {
      "image/png": "[encoded data removed]",
      "text/plain": [
       "<Figure size 432x288 with 1 Axes>"
      ]
     },
     "metadata": {
      "needs_background": "light"
     },
     "output_type": "display_data"
    }
   ],
   "source": [
    "#conviniance sampling\n",
    "# plot a  histogram to use acousticness of spotify with bins of width 0.01 from 0 to 1\n",
    "import numpy as np\n",
    "spotify['acousticness'].hist(bins=np.arange(0, 1.01, 0.01))"
   ]
  },
  {
   "cell_type": "code",
   "execution_count": 5,
   "id": "24bab8c5",
   "metadata": {},
   "outputs": [
    {
     "data": {
      "text/plain": [
       "<AxesSubplot:>"
      ]
     },
     "execution_count": 5,
     "metadata": {},
     "output_type": "execute_result"
    },
    {
     "data": {
      "image/png": "[encoded data removed]",
      "text/plain": [
       "<Figure size 432x288 with 1 Axes>"
      ]
     },
     "metadata": {
      "needs_background": "light"
     },
     "output_type": "display_data"
    }
   ],
   "source": [
    "#Update the histogram code to use the sample_1000 dataset\n",
    "sample_1000['acousticness'].hist(bins=np.arange(0, 1.01, 0.01))"
   ]
  },
  {
   "cell_type": "code",
   "execution_count": 6,
   "id": "fd294e53",
   "metadata": {},
   "outputs": [
    {
     "data": {
      "text/plain": [
       "<AxesSubplot:>"
      ]
     },
     "execution_count": 6,
     "metadata": {},
     "output_type": "execute_result"
    },
    {
     "data": {
      "image/png": "[encoded data removed]",
      "text/plain": [
       "<Figure size 432x288 with 1 Axes>"
      ]
     },
     "metadata": {
      "needs_background": "light"
     },
     "output_type": "display_data"
    }
   ],
   "source": [
    "# sample last 100 first rows\n",
    "sample_top_1000 = spotify.iloc[-100:]\n",
    "sample_top_1000['acousticness'].hist(bins=np.arange(0, 1.01, 0.01))"
   ]
  },
  {
   "cell_type": "markdown",
   "id": "80241700",
   "metadata": {},
   "source": [
    "### note\n",
    "Almost same distribution which indicates that the sampling is random and can refect the whol population, but if we chose for instance last 100 first rows and plot the hist of it , it does not follow the same distribution as of the whole populatopn"
   ]
  },
  {
   "cell_type": "markdown",
   "id": "6ed286e1",
   "metadata": {},
   "source": [
    "### True random numbers\n",
    "- Generated from physical processes, like ipping coins\n",
    "- Hotbits uses radioactive decay\n",
    "- RANDOM.ORG uses atmospheric noise\n",
    ">True randomness is expensive\n",
    "### Pseudo-random number generation\n",
    "- Pseudo-random number generation is cheap and fast\n",
    "- Next \"random\" number calculated from previous \"random\" number\n",
    "- The rst \"random\" number calculated from a seed\n",
    "- The same seed value yields the same random numbers\n",
    "\n",
    "### Random number generating functions\n",
    ">Prepend with numpy.random , such as numpy.random.beta()\n",
    "\n",
    "|function| distribution| function| distribution|\n",
    "|:--|:--|:--|:--|\n",
    "|.beta|Beta|.hypergeometric| Hypergeometric|\n",
    "|.binomial| Binomial| .lognormal| Lognormal|\n",
    "|.chisquare| Chi-squared|.negative_binomial|Negative binomial|\n",
    "|.exponential| Exponential|.normal|Normal|\n",
    "|.f|F|.poisson|Poisson|\n",
    "|.gamma|Gamma|.standard_t|t|\n",
    "|.geometric|Geometric|.uniform|Uniform|\n",
    "\n",
    "### Random numbers seeds\n",
    "> we use seed to generate a same results and to be able tp reproduce the results  \n",
    "ex:  \n",
    "coffee_ratings.sample(n=5, random_state=19000113)  \n",
    "np.random.seed(20000229)   \n",
    "np.random.normal(loc=2, scale=1.5, size=2)"
   ]
  },
  {
   "cell_type": "markdown",
   "id": "9c1fd585",
   "metadata": {},
   "source": [
    "### Systematic sampling - defining the interval\n",
    ">ex:  \n",
    "coffee_ratings.iloc[::interval]\n",
    "### Systematic sampling is only safe if we don't see a pattern in this scatter plot\n",
    "- to make sytematic sampling safe we can shuffle the row at first\n",
    "> ex:\n",
    "shuffled = coffee_ratings.sample(frac=1)\n",
    "shuffled = shuffled.reset_index(drop=True).reset_index()"
   ]
  },
  {
   "cell_type": "code",
   "execution_count": 7,
   "id": "e126c129",
   "metadata": {},
   "outputs": [
    {
     "data": {
      "text/html": [
       "<div>\n",
       "<style scoped>\n",
       "    .dataframe tbody tr th:only-of-type {\n",
       "        vertical-align: middle;\n",
       "    }\n",
       "\n",
       "    .dataframe tbody tr th {\n",
       "        vertical-align: top;\n",
       "    }\n",
       "\n",
       "    .dataframe thead th {\n",
       "        text-align: right;\n",
       "    }\n",
       "</style>\n",
       "<table border=\"1\" class=\"dataframe\">\n",
       "  <thead>\n",
       "    <tr style=\"text-align: right;\">\n",
       "      <th></th>\n",
       "      <th>acousticness</th>\n",
       "      <th>artists</th>\n",
       "      <th>danceability</th>\n",
       "      <th>duration_ms</th>\n",
       "      <th>duration_minutes</th>\n",
       "      <th>energy</th>\n",
       "      <th>explicit</th>\n",
       "      <th>id</th>\n",
       "      <th>instrumentalness</th>\n",
       "      <th>key</th>\n",
       "      <th>liveness</th>\n",
       "      <th>loudness</th>\n",
       "      <th>mode</th>\n",
       "      <th>name</th>\n",
       "      <th>popularity</th>\n",
       "      <th>release_date</th>\n",
       "      <th>speechiness</th>\n",
       "      <th>tempo</th>\n",
       "      <th>valence</th>\n",
       "      <th>year</th>\n",
       "    </tr>\n",
       "  </thead>\n",
       "  <tbody>\n",
       "    <tr>\n",
       "      <th>0</th>\n",
       "      <td>0.97200</td>\n",
       "      <td>['David Bauer']</td>\n",
       "      <td>0.567</td>\n",
       "      <td>313293.0</td>\n",
       "      <td>5.221550</td>\n",
       "      <td>0.227</td>\n",
       "      <td>0.0</td>\n",
       "      <td>0w0D8H1ubRerCXHWYJkinO</td>\n",
       "      <td>0.601000</td>\n",
       "      <td>10.0</td>\n",
       "      <td>0.110</td>\n",
       "      <td>-13.441</td>\n",
       "      <td>1.0</td>\n",
       "      <td>Shout to the Lord</td>\n",
       "      <td>47.0</td>\n",
       "      <td>2000</td>\n",
       "      <td>0.0290</td>\n",
       "      <td>136.123</td>\n",
       "      <td>0.0396</td>\n",
       "      <td>2000.0</td>\n",
       "    </tr>\n",
       "    <tr>\n",
       "      <th>1</th>\n",
       "      <td>0.32100</td>\n",
       "      <td>['Etta James']</td>\n",
       "      <td>0.821</td>\n",
       "      <td>360240.0</td>\n",
       "      <td>6.004000</td>\n",
       "      <td>0.418</td>\n",
       "      <td>0.0</td>\n",
       "      <td>4JVeqfE2tpi7Pv63LJZtPh</td>\n",
       "      <td>0.000372</td>\n",
       "      <td>9.0</td>\n",
       "      <td>0.222</td>\n",
       "      <td>-9.841</td>\n",
       "      <td>0.0</td>\n",
       "      <td>Miss You</td>\n",
       "      <td>51.0</td>\n",
       "      <td>2000-12-12</td>\n",
       "      <td>0.0407</td>\n",
       "      <td>117.382</td>\n",
       "      <td>0.8030</td>\n",
       "      <td>2000.0</td>\n",
       "    </tr>\n",
       "    <tr>\n",
       "      <th>2</th>\n",
       "      <td>0.00659</td>\n",
       "      <td>['Quasimoto']</td>\n",
       "      <td>0.706</td>\n",
       "      <td>202507.0</td>\n",
       "      <td>3.375117</td>\n",
       "      <td>0.602</td>\n",
       "      <td>1.0</td>\n",
       "      <td>5pxtdhLAi0RTh1gNqhGMNA</td>\n",
       "      <td>0.000138</td>\n",
       "      <td>11.0</td>\n",
       "      <td>0.400</td>\n",
       "      <td>-8.306</td>\n",
       "      <td>0.0</td>\n",
       "      <td>Real Eyes</td>\n",
       "      <td>44.0</td>\n",
       "      <td>2000-06-13</td>\n",
       "      <td>0.3420</td>\n",
       "      <td>89.692</td>\n",
       "      <td>0.4790</td>\n",
       "      <td>2000.0</td>\n",
       "    </tr>\n",
       "    <tr>\n",
       "      <th>3</th>\n",
       "      <td>0.00390</td>\n",
       "      <td>['Millencolin']</td>\n",
       "      <td>0.368</td>\n",
       "      <td>173360.0</td>\n",
       "      <td>2.889333</td>\n",
       "      <td>0.977</td>\n",
       "      <td>0.0</td>\n",
       "      <td>3jRsoe4Vkxa4BMYqGHX8L0</td>\n",
       "      <td>0.000000</td>\n",
       "      <td>11.0</td>\n",
       "      <td>0.350</td>\n",
       "      <td>-2.757</td>\n",
       "      <td>0.0</td>\n",
       "      <td>Penguins &amp; Polarbears</td>\n",
       "      <td>52.0</td>\n",
       "      <td>2000-02-22</td>\n",
       "      <td>0.1270</td>\n",
       "      <td>165.889</td>\n",
       "      <td>0.5480</td>\n",
       "      <td>2000.0</td>\n",
       "    </tr>\n",
       "    <tr>\n",
       "      <th>4</th>\n",
       "      <td>0.12200</td>\n",
       "      <td>['Steve Chou']</td>\n",
       "      <td>0.501</td>\n",
       "      <td>344200.0</td>\n",
       "      <td>5.736667</td>\n",
       "      <td>0.511</td>\n",
       "      <td>0.0</td>\n",
       "      <td>4mronxcllhfyhBRqyZi8kU</td>\n",
       "      <td>0.000000</td>\n",
       "      <td>7.0</td>\n",
       "      <td>0.279</td>\n",
       "      <td>-9.836</td>\n",
       "      <td>0.0</td>\n",
       "      <td>黃昏</td>\n",
       "      <td>53.0</td>\n",
       "      <td>2000-12-25</td>\n",
       "      <td>0.0291</td>\n",
       "      <td>78.045</td>\n",
       "      <td>0.1130</td>\n",
       "      <td>2000.0</td>\n",
       "    </tr>\n",
       "  </tbody>\n",
       "</table>\n",
       "</div>"
      ],
      "text/plain": [
       "   acousticness          artists  danceability  duration_ms  duration_minutes  \\\n",
       "0       0.97200  ['David Bauer']         0.567     313293.0          5.221550   \n",
       "1       0.32100   ['Etta James']         0.821     360240.0          6.004000   \n",
       "2       0.00659    ['Quasimoto']         0.706     202507.0          3.375117   \n",
       "3       0.00390  ['Millencolin']         0.368     173360.0          2.889333   \n",
       "4       0.12200   ['Steve Chou']         0.501     344200.0          5.736667   \n",
       "\n",
       "   energy  explicit                      id  instrumentalness   key  liveness  \\\n",
       "0   0.227       0.0  0w0D8H1ubRerCXHWYJkinO          0.601000  10.0     0.110   \n",
       "1   0.418       0.0  4JVeqfE2tpi7Pv63LJZtPh          0.000372   9.0     0.222   \n",
       "2   0.602       1.0  5pxtdhLAi0RTh1gNqhGMNA          0.000138  11.0     0.400   \n",
       "3   0.977       0.0  3jRsoe4Vkxa4BMYqGHX8L0          0.000000  11.0     0.350   \n",
       "4   0.511       0.0  4mronxcllhfyhBRqyZi8kU          0.000000   7.0     0.279   \n",
       "\n",
       "   loudness  mode                   name  popularity release_date  \\\n",
       "0   -13.441   1.0      Shout to the Lord        47.0         2000   \n",
       "1    -9.841   0.0               Miss You        51.0   2000-12-12   \n",
       "2    -8.306   0.0              Real Eyes        44.0   2000-06-13   \n",
       "3    -2.757   0.0  Penguins & Polarbears        52.0   2000-02-22   \n",
       "4    -9.836   0.0                     黃昏        53.0   2000-12-25   \n",
       "\n",
       "   speechiness    tempo  valence    year  \n",
       "0       0.0290  136.123   0.0396  2000.0  \n",
       "1       0.0407  117.382   0.8030  2000.0  \n",
       "2       0.3420   89.692   0.4790  2000.0  \n",
       "3       0.1270  165.889   0.5480  2000.0  \n",
       "4       0.0291   78.045   0.1130  2000.0  "
      ]
     },
     "execution_count": 7,
     "metadata": {},
     "output_type": "execute_result"
    }
   ],
   "source": [
    "spotify.head()"
   ]
  },
  {
   "cell_type": "code",
   "execution_count": 8,
   "id": "1d98a959",
   "metadata": {},
   "outputs": [
    {
     "data": {
      "text/html": [
       "<div>\n",
       "<style scoped>\n",
       "    .dataframe tbody tr th:only-of-type {\n",
       "        vertical-align: middle;\n",
       "    }\n",
       "\n",
       "    .dataframe tbody tr th {\n",
       "        vertical-align: top;\n",
       "    }\n",
       "\n",
       "    .dataframe thead th {\n",
       "        text-align: right;\n",
       "    }\n",
       "</style>\n",
       "<table border=\"1\" class=\"dataframe\">\n",
       "  <thead>\n",
       "    <tr style=\"text-align: right;\">\n",
       "      <th></th>\n",
       "      <th>acousticness</th>\n",
       "      <th>artists</th>\n",
       "      <th>danceability</th>\n",
       "      <th>duration_ms</th>\n",
       "      <th>duration_minutes</th>\n",
       "      <th>energy</th>\n",
       "      <th>explicit</th>\n",
       "      <th>id</th>\n",
       "      <th>instrumentalness</th>\n",
       "      <th>key</th>\n",
       "      <th>liveness</th>\n",
       "      <th>loudness</th>\n",
       "      <th>mode</th>\n",
       "      <th>name</th>\n",
       "      <th>popularity</th>\n",
       "      <th>release_date</th>\n",
       "      <th>speechiness</th>\n",
       "      <th>tempo</th>\n",
       "      <th>valence</th>\n",
       "      <th>year</th>\n",
       "    </tr>\n",
       "  </thead>\n",
       "  <tbody>\n",
       "    <tr>\n",
       "      <th>12276</th>\n",
       "      <td>0.3060</td>\n",
       "      <td>['Gerardo Coronel']</td>\n",
       "      <td>0.838</td>\n",
       "      <td>140236.0</td>\n",
       "      <td>2.337267</td>\n",
       "      <td>0.482</td>\n",
       "      <td>1.0</td>\n",
       "      <td>5ZyUe1pOBYblWLN2E3xJXu</td>\n",
       "      <td>0.000000</td>\n",
       "      <td>4.0</td>\n",
       "      <td>0.0959</td>\n",
       "      <td>-5.273</td>\n",
       "      <td>0.0</td>\n",
       "      <td>Te Deseo Lo Mejor</td>\n",
       "      <td>66.0</td>\n",
       "      <td>2017-04-28</td>\n",
       "      <td>0.0352</td>\n",
       "      <td>100.049</td>\n",
       "      <td>0.862</td>\n",
       "      <td>2017.0</td>\n",
       "    </tr>\n",
       "    <tr>\n",
       "      <th>28414</th>\n",
       "      <td>0.0113</td>\n",
       "      <td>['Atlas Genius']</td>\n",
       "      <td>0.721</td>\n",
       "      <td>217387.0</td>\n",
       "      <td>3.623117</td>\n",
       "      <td>0.822</td>\n",
       "      <td>0.0</td>\n",
       "      <td>0wDEiGfq4pw7FAkYKpkwMo</td>\n",
       "      <td>0.000070</td>\n",
       "      <td>7.0</td>\n",
       "      <td>0.0898</td>\n",
       "      <td>-4.843</td>\n",
       "      <td>1.0</td>\n",
       "      <td>Trojans</td>\n",
       "      <td>59.0</td>\n",
       "      <td>2013-02-18</td>\n",
       "      <td>0.0391</td>\n",
       "      <td>140.002</td>\n",
       "      <td>0.536</td>\n",
       "      <td>2013.0</td>\n",
       "    </tr>\n",
       "    <tr>\n",
       "      <th>23347</th>\n",
       "      <td>0.0168</td>\n",
       "      <td>['Red Hot Chili Peppers']</td>\n",
       "      <td>0.554</td>\n",
       "      <td>265507.0</td>\n",
       "      <td>4.425117</td>\n",
       "      <td>0.490</td>\n",
       "      <td>0.0</td>\n",
       "      <td>23NPGXlSaIqWzvxIRhM2oG</td>\n",
       "      <td>0.000534</td>\n",
       "      <td>4.0</td>\n",
       "      <td>0.1360</td>\n",
       "      <td>-8.046</td>\n",
       "      <td>1.0</td>\n",
       "      <td>Under the Bridge</td>\n",
       "      <td>63.0</td>\n",
       "      <td>2003-11-18</td>\n",
       "      <td>0.0457</td>\n",
       "      <td>84.275</td>\n",
       "      <td>0.513</td>\n",
       "      <td>2003.0</td>\n",
       "    </tr>\n",
       "    <tr>\n",
       "      <th>8070</th>\n",
       "      <td>0.0203</td>\n",
       "      <td>['Sir Sly']</td>\n",
       "      <td>0.764</td>\n",
       "      <td>226587.0</td>\n",
       "      <td>3.776450</td>\n",
       "      <td>0.661</td>\n",
       "      <td>0.0</td>\n",
       "      <td>0w4m3Xp4svlIoyL94Zjlyd</td>\n",
       "      <td>0.000179</td>\n",
       "      <td>5.0</td>\n",
       "      <td>0.1790</td>\n",
       "      <td>-8.276</td>\n",
       "      <td>1.0</td>\n",
       "      <td>&amp;Run</td>\n",
       "      <td>59.0</td>\n",
       "      <td>2017-06-30</td>\n",
       "      <td>0.0526</td>\n",
       "      <td>92.018</td>\n",
       "      <td>0.479</td>\n",
       "      <td>2017.0</td>\n",
       "    </tr>\n",
       "    <tr>\n",
       "      <th>7371</th>\n",
       "      <td>0.7460</td>\n",
       "      <td>['The Black Keys']</td>\n",
       "      <td>0.436</td>\n",
       "      <td>311840.0</td>\n",
       "      <td>5.197333</td>\n",
       "      <td>0.288</td>\n",
       "      <td>0.0</td>\n",
       "      <td>3ghXwIS6cr3P5InauKlqFy</td>\n",
       "      <td>0.002080</td>\n",
       "      <td>7.0</td>\n",
       "      <td>0.0980</td>\n",
       "      <td>-10.726</td>\n",
       "      <td>1.0</td>\n",
       "      <td>These Days</td>\n",
       "      <td>45.0</td>\n",
       "      <td>2010-05-18</td>\n",
       "      <td>0.0315</td>\n",
       "      <td>117.482</td>\n",
       "      <td>0.268</td>\n",
       "      <td>2010.0</td>\n",
       "    </tr>\n",
       "  </tbody>\n",
       "</table>\n",
       "</div>"
      ],
      "text/plain": [
       "       acousticness                    artists  danceability  duration_ms  \\\n",
       "12276        0.3060        ['Gerardo Coronel']         0.838     140236.0   \n",
       "28414        0.0113           ['Atlas Genius']         0.721     217387.0   \n",
       "23347        0.0168  ['Red Hot Chili Peppers']         0.554     265507.0   \n",
       "8070         0.0203                ['Sir Sly']         0.764     226587.0   \n",
       "7371         0.7460         ['The Black Keys']         0.436     311840.0   \n",
       "\n",
       "       duration_minutes  energy  explicit                      id  \\\n",
       "12276          2.337267   0.482       1.0  5ZyUe1pOBYblWLN2E3xJXu   \n",
       "28414          3.623117   0.822       0.0  0wDEiGfq4pw7FAkYKpkwMo   \n",
       "23347          4.425117   0.490       0.0  23NPGXlSaIqWzvxIRhM2oG   \n",
       "8070           3.776450   0.661       0.0  0w4m3Xp4svlIoyL94Zjlyd   \n",
       "7371           5.197333   0.288       0.0  3ghXwIS6cr3P5InauKlqFy   \n",
       "\n",
       "       instrumentalness  key  liveness  loudness  mode               name  \\\n",
       "12276          0.000000  4.0    0.0959    -5.273   0.0  Te Deseo Lo Mejor   \n",
       "28414          0.000070  7.0    0.0898    -4.843   1.0            Trojans   \n",
       "23347          0.000534  4.0    0.1360    -8.046   1.0   Under the Bridge   \n",
       "8070           0.000179  5.0    0.1790    -8.276   1.0               &Run   \n",
       "7371           0.002080  7.0    0.0980   -10.726   1.0         These Days   \n",
       "\n",
       "       popularity release_date  speechiness    tempo  valence    year  \n",
       "12276        66.0   2017-04-28       0.0352  100.049    0.862  2017.0  \n",
       "28414        59.0   2013-02-18       0.0391  140.002    0.536  2013.0  \n",
       "23347        63.0   2003-11-18       0.0457   84.275    0.513  2003.0  \n",
       "8070         59.0   2017-06-30       0.0526   92.018    0.479  2017.0  \n",
       "7371         45.0   2010-05-18       0.0315  117.482    0.268  2010.0  "
      ]
     },
     "execution_count": 8,
     "metadata": {},
     "output_type": "execute_result"
    }
   ],
   "source": [
    "shuffled = spotify.sample(frac = 1)\n",
    "shuffled.head()"
   ]
  },
  {
   "cell_type": "code",
   "execution_count": 9,
   "id": "f0692d30",
   "metadata": {},
   "outputs": [
    {
     "data": {
      "text/html": [
       "<div>\n",
       "<style scoped>\n",
       "    .dataframe tbody tr th:only-of-type {\n",
       "        vertical-align: middle;\n",
       "    }\n",
       "\n",
       "    .dataframe tbody tr th {\n",
       "        vertical-align: top;\n",
       "    }\n",
       "\n",
       "    .dataframe thead th {\n",
       "        text-align: right;\n",
       "    }\n",
       "</style>\n",
       "<table border=\"1\" class=\"dataframe\">\n",
       "  <thead>\n",
       "    <tr style=\"text-align: right;\">\n",
       "      <th></th>\n",
       "      <th>acousticness</th>\n",
       "      <th>artists</th>\n",
       "      <th>danceability</th>\n",
       "      <th>duration_ms</th>\n",
       "      <th>duration_minutes</th>\n",
       "      <th>energy</th>\n",
       "      <th>explicit</th>\n",
       "      <th>id</th>\n",
       "      <th>instrumentalness</th>\n",
       "      <th>key</th>\n",
       "      <th>liveness</th>\n",
       "      <th>loudness</th>\n",
       "      <th>mode</th>\n",
       "      <th>name</th>\n",
       "      <th>popularity</th>\n",
       "      <th>release_date</th>\n",
       "      <th>speechiness</th>\n",
       "      <th>tempo</th>\n",
       "      <th>valence</th>\n",
       "      <th>year</th>\n",
       "    </tr>\n",
       "  </thead>\n",
       "  <tbody>\n",
       "    <tr>\n",
       "      <th>0</th>\n",
       "      <td>0.3060</td>\n",
       "      <td>['Gerardo Coronel']</td>\n",
       "      <td>0.838</td>\n",
       "      <td>140236.0</td>\n",
       "      <td>2.337267</td>\n",
       "      <td>0.482</td>\n",
       "      <td>1.0</td>\n",
       "      <td>5ZyUe1pOBYblWLN2E3xJXu</td>\n",
       "      <td>0.000000</td>\n",
       "      <td>4.0</td>\n",
       "      <td>0.0959</td>\n",
       "      <td>-5.273</td>\n",
       "      <td>0.0</td>\n",
       "      <td>Te Deseo Lo Mejor</td>\n",
       "      <td>66.0</td>\n",
       "      <td>2017-04-28</td>\n",
       "      <td>0.0352</td>\n",
       "      <td>100.049</td>\n",
       "      <td>0.862</td>\n",
       "      <td>2017.0</td>\n",
       "    </tr>\n",
       "    <tr>\n",
       "      <th>1</th>\n",
       "      <td>0.0113</td>\n",
       "      <td>['Atlas Genius']</td>\n",
       "      <td>0.721</td>\n",
       "      <td>217387.0</td>\n",
       "      <td>3.623117</td>\n",
       "      <td>0.822</td>\n",
       "      <td>0.0</td>\n",
       "      <td>0wDEiGfq4pw7FAkYKpkwMo</td>\n",
       "      <td>0.000070</td>\n",
       "      <td>7.0</td>\n",
       "      <td>0.0898</td>\n",
       "      <td>-4.843</td>\n",
       "      <td>1.0</td>\n",
       "      <td>Trojans</td>\n",
       "      <td>59.0</td>\n",
       "      <td>2013-02-18</td>\n",
       "      <td>0.0391</td>\n",
       "      <td>140.002</td>\n",
       "      <td>0.536</td>\n",
       "      <td>2013.0</td>\n",
       "    </tr>\n",
       "    <tr>\n",
       "      <th>2</th>\n",
       "      <td>0.0168</td>\n",
       "      <td>['Red Hot Chili Peppers']</td>\n",
       "      <td>0.554</td>\n",
       "      <td>265507.0</td>\n",
       "      <td>4.425117</td>\n",
       "      <td>0.490</td>\n",
       "      <td>0.0</td>\n",
       "      <td>23NPGXlSaIqWzvxIRhM2oG</td>\n",
       "      <td>0.000534</td>\n",
       "      <td>4.0</td>\n",
       "      <td>0.1360</td>\n",
       "      <td>-8.046</td>\n",
       "      <td>1.0</td>\n",
       "      <td>Under the Bridge</td>\n",
       "      <td>63.0</td>\n",
       "      <td>2003-11-18</td>\n",
       "      <td>0.0457</td>\n",
       "      <td>84.275</td>\n",
       "      <td>0.513</td>\n",
       "      <td>2003.0</td>\n",
       "    </tr>\n",
       "    <tr>\n",
       "      <th>3</th>\n",
       "      <td>0.0203</td>\n",
       "      <td>['Sir Sly']</td>\n",
       "      <td>0.764</td>\n",
       "      <td>226587.0</td>\n",
       "      <td>3.776450</td>\n",
       "      <td>0.661</td>\n",
       "      <td>0.0</td>\n",
       "      <td>0w4m3Xp4svlIoyL94Zjlyd</td>\n",
       "      <td>0.000179</td>\n",
       "      <td>5.0</td>\n",
       "      <td>0.1790</td>\n",
       "      <td>-8.276</td>\n",
       "      <td>1.0</td>\n",
       "      <td>&amp;Run</td>\n",
       "      <td>59.0</td>\n",
       "      <td>2017-06-30</td>\n",
       "      <td>0.0526</td>\n",
       "      <td>92.018</td>\n",
       "      <td>0.479</td>\n",
       "      <td>2017.0</td>\n",
       "    </tr>\n",
       "    <tr>\n",
       "      <th>4</th>\n",
       "      <td>0.7460</td>\n",
       "      <td>['The Black Keys']</td>\n",
       "      <td>0.436</td>\n",
       "      <td>311840.0</td>\n",
       "      <td>5.197333</td>\n",
       "      <td>0.288</td>\n",
       "      <td>0.0</td>\n",
       "      <td>3ghXwIS6cr3P5InauKlqFy</td>\n",
       "      <td>0.002080</td>\n",
       "      <td>7.0</td>\n",
       "      <td>0.0980</td>\n",
       "      <td>-10.726</td>\n",
       "      <td>1.0</td>\n",
       "      <td>These Days</td>\n",
       "      <td>45.0</td>\n",
       "      <td>2010-05-18</td>\n",
       "      <td>0.0315</td>\n",
       "      <td>117.482</td>\n",
       "      <td>0.268</td>\n",
       "      <td>2010.0</td>\n",
       "    </tr>\n",
       "  </tbody>\n",
       "</table>\n",
       "</div>"
      ],
      "text/plain": [
       "   acousticness                    artists  danceability  duration_ms  \\\n",
       "0        0.3060        ['Gerardo Coronel']         0.838     140236.0   \n",
       "1        0.0113           ['Atlas Genius']         0.721     217387.0   \n",
       "2        0.0168  ['Red Hot Chili Peppers']         0.554     265507.0   \n",
       "3        0.0203                ['Sir Sly']         0.764     226587.0   \n",
       "4        0.7460         ['The Black Keys']         0.436     311840.0   \n",
       "\n",
       "   duration_minutes  energy  explicit                      id  \\\n",
       "0          2.337267   0.482       1.0  5ZyUe1pOBYblWLN2E3xJXu   \n",
       "1          3.623117   0.822       0.0  0wDEiGfq4pw7FAkYKpkwMo   \n",
       "2          4.425117   0.490       0.0  23NPGXlSaIqWzvxIRhM2oG   \n",
       "3          3.776450   0.661       0.0  0w4m3Xp4svlIoyL94Zjlyd   \n",
       "4          5.197333   0.288       0.0  3ghXwIS6cr3P5InauKlqFy   \n",
       "\n",
       "   instrumentalness  key  liveness  loudness  mode               name  \\\n",
       "0          0.000000  4.0    0.0959    -5.273   0.0  Te Deseo Lo Mejor   \n",
       "1          0.000070  7.0    0.0898    -4.843   1.0            Trojans   \n",
       "2          0.000534  4.0    0.1360    -8.046   1.0   Under the Bridge   \n",
       "3          0.000179  5.0    0.1790    -8.276   1.0               &Run   \n",
       "4          0.002080  7.0    0.0980   -10.726   1.0         These Days   \n",
       "\n",
       "   popularity release_date  speechiness    tempo  valence    year  \n",
       "0        66.0   2017-04-28       0.0352  100.049    0.862  2017.0  \n",
       "1        59.0   2013-02-18       0.0391  140.002    0.536  2013.0  \n",
       "2        63.0   2003-11-18       0.0457   84.275    0.513  2003.0  \n",
       "3        59.0   2017-06-30       0.0526   92.018    0.479  2017.0  \n",
       "4        45.0   2010-05-18       0.0315  117.482    0.268  2010.0  "
      ]
     },
     "execution_count": 9,
     "metadata": {},
     "output_type": "execute_result"
    }
   ],
   "source": [
    "# rest the index \n",
    "shuffled.reset_index(drop = True, inplace = True)\n",
    "shuffled.head()"
   ]
  },
  {
   "cell_type": "code",
   "execution_count": 10,
   "id": "39a95a63",
   "metadata": {},
   "outputs": [
    {
     "data": {
      "text/html": [
       "<div>\n",
       "<style scoped>\n",
       "    .dataframe tbody tr th:only-of-type {\n",
       "        vertical-align: middle;\n",
       "    }\n",
       "\n",
       "    .dataframe tbody tr th {\n",
       "        vertical-align: top;\n",
       "    }\n",
       "\n",
       "    .dataframe thead th {\n",
       "        text-align: right;\n",
       "    }\n",
       "</style>\n",
       "<table border=\"1\" class=\"dataframe\">\n",
       "  <thead>\n",
       "    <tr style=\"text-align: right;\">\n",
       "      <th></th>\n",
       "      <th>acousticness</th>\n",
       "      <th>artists</th>\n",
       "      <th>danceability</th>\n",
       "      <th>duration_ms</th>\n",
       "      <th>duration_minutes</th>\n",
       "      <th>energy</th>\n",
       "      <th>explicit</th>\n",
       "      <th>id</th>\n",
       "      <th>instrumentalness</th>\n",
       "      <th>key</th>\n",
       "      <th>liveness</th>\n",
       "      <th>loudness</th>\n",
       "      <th>mode</th>\n",
       "      <th>name</th>\n",
       "      <th>popularity</th>\n",
       "      <th>release_date</th>\n",
       "      <th>speechiness</th>\n",
       "      <th>tempo</th>\n",
       "      <th>valence</th>\n",
       "      <th>year</th>\n",
       "    </tr>\n",
       "  </thead>\n",
       "  <tbody>\n",
       "    <tr>\n",
       "      <th>0</th>\n",
       "      <td>0.30600</td>\n",
       "      <td>['Gerardo Coronel']</td>\n",
       "      <td>0.838</td>\n",
       "      <td>140236.0</td>\n",
       "      <td>2.337267</td>\n",
       "      <td>0.482</td>\n",
       "      <td>1.0</td>\n",
       "      <td>5ZyUe1pOBYblWLN2E3xJXu</td>\n",
       "      <td>0.000</td>\n",
       "      <td>4.0</td>\n",
       "      <td>0.0959</td>\n",
       "      <td>-5.273</td>\n",
       "      <td>0.0</td>\n",
       "      <td>Te Deseo Lo Mejor</td>\n",
       "      <td>66.0</td>\n",
       "      <td>2017-04-28</td>\n",
       "      <td>0.0352</td>\n",
       "      <td>100.049</td>\n",
       "      <td>0.862</td>\n",
       "      <td>2017.0</td>\n",
       "    </tr>\n",
       "    <tr>\n",
       "      <th>20</th>\n",
       "      <td>0.03050</td>\n",
       "      <td>['Styles P', 'Pharoahe Monch']</td>\n",
       "      <td>0.427</td>\n",
       "      <td>189427.0</td>\n",
       "      <td>3.157117</td>\n",
       "      <td>0.706</td>\n",
       "      <td>1.0</td>\n",
       "      <td>4bEC9WAGg0ednUtNAlgZV4</td>\n",
       "      <td>0.000</td>\n",
       "      <td>0.0</td>\n",
       "      <td>0.3230</td>\n",
       "      <td>-6.533</td>\n",
       "      <td>1.0</td>\n",
       "      <td>The Life - Album Version Edit (Explicit)</td>\n",
       "      <td>46.0</td>\n",
       "      <td>2002-01-01</td>\n",
       "      <td>0.3550</td>\n",
       "      <td>173.913</td>\n",
       "      <td>0.508</td>\n",
       "      <td>2002.0</td>\n",
       "    </tr>\n",
       "    <tr>\n",
       "      <th>40</th>\n",
       "      <td>0.00222</td>\n",
       "      <td>['Austin Mahone', 'Flo Rida']</td>\n",
       "      <td>0.738</td>\n",
       "      <td>182526.0</td>\n",
       "      <td>3.042100</td>\n",
       "      <td>0.743</td>\n",
       "      <td>0.0</td>\n",
       "      <td>1qzrXebgUeRjCagXFNECHe</td>\n",
       "      <td>0.000</td>\n",
       "      <td>1.0</td>\n",
       "      <td>0.1340</td>\n",
       "      <td>-4.730</td>\n",
       "      <td>1.0</td>\n",
       "      <td>Say You're Just a Friend (feat. Flo Rida)</td>\n",
       "      <td>55.0</td>\n",
       "      <td>2014</td>\n",
       "      <td>0.0574</td>\n",
       "      <td>99.975</td>\n",
       "      <td>0.711</td>\n",
       "      <td>2014.0</td>\n",
       "    </tr>\n",
       "    <tr>\n",
       "      <th>60</th>\n",
       "      <td>0.80600</td>\n",
       "      <td>['Grizzly Bear']</td>\n",
       "      <td>0.226</td>\n",
       "      <td>314413.0</td>\n",
       "      <td>5.240217</td>\n",
       "      <td>0.400</td>\n",
       "      <td>0.0</td>\n",
       "      <td>4BmtCb6sdMqECAItGmFDvU</td>\n",
       "      <td>0.747</td>\n",
       "      <td>11.0</td>\n",
       "      <td>0.1080</td>\n",
       "      <td>-10.256</td>\n",
       "      <td>1.0</td>\n",
       "      <td>Knife</td>\n",
       "      <td>47.0</td>\n",
       "      <td>2006-09-04</td>\n",
       "      <td>0.0298</td>\n",
       "      <td>88.673</td>\n",
       "      <td>0.101</td>\n",
       "      <td>2006.0</td>\n",
       "    </tr>\n",
       "    <tr>\n",
       "      <th>80</th>\n",
       "      <td>0.31300</td>\n",
       "      <td>['Mark Chesnutt']</td>\n",
       "      <td>0.500</td>\n",
       "      <td>163307.0</td>\n",
       "      <td>2.721783</td>\n",
       "      <td>0.865</td>\n",
       "      <td>0.0</td>\n",
       "      <td>1vFyOiwgezbBMIFtT4t0it</td>\n",
       "      <td>0.000</td>\n",
       "      <td>9.0</td>\n",
       "      <td>0.1100</td>\n",
       "      <td>-9.706</td>\n",
       "      <td>1.0</td>\n",
       "      <td>It's A Little Too Late</td>\n",
       "      <td>49.0</td>\n",
       "      <td>2001-01-01</td>\n",
       "      <td>0.0440</td>\n",
       "      <td>172.946</td>\n",
       "      <td>0.777</td>\n",
       "      <td>2001.0</td>\n",
       "    </tr>\n",
       "  </tbody>\n",
       "</table>\n",
       "</div>"
      ],
      "text/plain": [
       "    acousticness                         artists  danceability  duration_ms  \\\n",
       "0        0.30600             ['Gerardo Coronel']         0.838     140236.0   \n",
       "20       0.03050  ['Styles P', 'Pharoahe Monch']         0.427     189427.0   \n",
       "40       0.00222   ['Austin Mahone', 'Flo Rida']         0.738     182526.0   \n",
       "60       0.80600                ['Grizzly Bear']         0.226     314413.0   \n",
       "80       0.31300               ['Mark Chesnutt']         0.500     163307.0   \n",
       "\n",
       "    duration_minutes  energy  explicit                      id  \\\n",
       "0           2.337267   0.482       1.0  5ZyUe1pOBYblWLN2E3xJXu   \n",
       "20          3.157117   0.706       1.0  4bEC9WAGg0ednUtNAlgZV4   \n",
       "40          3.042100   0.743       0.0  1qzrXebgUeRjCagXFNECHe   \n",
       "60          5.240217   0.400       0.0  4BmtCb6sdMqECAItGmFDvU   \n",
       "80          2.721783   0.865       0.0  1vFyOiwgezbBMIFtT4t0it   \n",
       "\n",
       "    instrumentalness   key  liveness  loudness  mode  \\\n",
       "0              0.000   4.0    0.0959    -5.273   0.0   \n",
       "20             0.000   0.0    0.3230    -6.533   1.0   \n",
       "40             0.000   1.0    0.1340    -4.730   1.0   \n",
       "60             0.747  11.0    0.1080   -10.256   1.0   \n",
       "80             0.000   9.0    0.1100    -9.706   1.0   \n",
       "\n",
       "                                         name  popularity release_date  \\\n",
       "0                           Te Deseo Lo Mejor        66.0   2017-04-28   \n",
       "20   The Life - Album Version Edit (Explicit)        46.0   2002-01-01   \n",
       "40  Say You're Just a Friend (feat. Flo Rida)        55.0         2014   \n",
       "60                                      Knife        47.0   2006-09-04   \n",
       "80                     It's A Little Too Late        49.0   2001-01-01   \n",
       "\n",
       "    speechiness    tempo  valence    year  \n",
       "0        0.0352  100.049    0.862  2017.0  \n",
       "20       0.3550  173.913    0.508  2002.0  \n",
       "40       0.0574   99.975    0.711  2014.0  \n",
       "60       0.0298   88.673    0.101  2006.0  \n",
       "80       0.0440  172.946    0.777  2001.0  "
      ]
     },
     "execution_count": 10,
     "metadata": {},
     "output_type": "execute_result"
    }
   ],
   "source": [
    "# now that we shuffle the dataframe, we can slice it by an interval and it act as random sampling\n",
    "# to sample every 2o rows\n",
    "shuffled.iloc[::20].head()"
   ]
  },
  {
   "cell_type": "markdown",
   "id": "4c6fa15b",
   "metadata": {},
   "source": [
    "### Stratified \n",
    "Stratified sampling is useful if you care about subgroups\n",
    "#### Proportional stratified sampling\n",
    "When we are interested in subgroups within the population, we should carefully control the counts of each subgroup within the population. Proportional stratified sampling results in subgroup sizes within the sample that are representative of the subgroup sizes within the population. It is equivalent to performing a simple random sample on each subgroup.\n",
    "#### equal counts stratified sampling\n",
    "If you want each subgroup to have equal weight in your analysis, then equal counts stratified sampling is the appropriate technique\n",
    "### Weighted Sampling\n",
    "we create a column of weights that adjust the relative probability of sampling each row."
   ]
  },
  {
   "cell_type": "code",
   "execution_count": 11,
   "id": "ce7f88c2",
   "metadata": {},
   "outputs": [
    {
     "data": {
      "text/html": [
       "<div>\n",
       "<style scoped>\n",
       "    .dataframe tbody tr th:only-of-type {\n",
       "        vertical-align: middle;\n",
       "    }\n",
       "\n",
       "    .dataframe tbody tr th {\n",
       "        vertical-align: top;\n",
       "    }\n",
       "\n",
       "    .dataframe thead th {\n",
       "        text-align: right;\n",
       "    }\n",
       "</style>\n",
       "<table border=\"1\" class=\"dataframe\">\n",
       "  <thead>\n",
       "    <tr style=\"text-align: right;\">\n",
       "      <th></th>\n",
       "      <th>id</th>\n",
       "      <th>country</th>\n",
       "      <th>managed_by</th>\n",
       "      <th>fulfill_via</th>\n",
       "      <th>vendor_inco_term</th>\n",
       "      <th>shipment_mode</th>\n",
       "      <th>late_delivery</th>\n",
       "      <th>late</th>\n",
       "      <th>product_group</th>\n",
       "      <th>sub_classification</th>\n",
       "      <th>...</th>\n",
       "      <th>line_item_quantity</th>\n",
       "      <th>line_item_value</th>\n",
       "      <th>pack_price</th>\n",
       "      <th>unit_price</th>\n",
       "      <th>manufacturing_site</th>\n",
       "      <th>first_line_designation</th>\n",
       "      <th>weight_kilograms</th>\n",
       "      <th>freight_cost_usd</th>\n",
       "      <th>freight_cost_groups</th>\n",
       "      <th>line_item_insurance_usd</th>\n",
       "    </tr>\n",
       "  </thead>\n",
       "  <tbody>\n",
       "    <tr>\n",
       "      <th>0</th>\n",
       "      <td>36203.0</td>\n",
       "      <td>Nigeria</td>\n",
       "      <td>PMO - US</td>\n",
       "      <td>Direct Drop</td>\n",
       "      <td>EXW</td>\n",
       "      <td>Air</td>\n",
       "      <td>1.0</td>\n",
       "      <td>Yes</td>\n",
       "      <td>HRDT</td>\n",
       "      <td>HIV test</td>\n",
       "      <td>...</td>\n",
       "      <td>2996.0</td>\n",
       "      <td>266644.00</td>\n",
       "      <td>89.00</td>\n",
       "      <td>0.89</td>\n",
       "      <td>Alere Medical Co., Ltd.</td>\n",
       "      <td>Yes</td>\n",
       "      <td>1426.0</td>\n",
       "      <td>33279.83</td>\n",
       "      <td>expensive</td>\n",
       "      <td>373.83</td>\n",
       "    </tr>\n",
       "    <tr>\n",
       "      <th>1</th>\n",
       "      <td>30998.0</td>\n",
       "      <td>Botswana</td>\n",
       "      <td>PMO - US</td>\n",
       "      <td>Direct Drop</td>\n",
       "      <td>EXW</td>\n",
       "      <td>Air</td>\n",
       "      <td>0.0</td>\n",
       "      <td>No</td>\n",
       "      <td>HRDT</td>\n",
       "      <td>HIV test</td>\n",
       "      <td>...</td>\n",
       "      <td>25.0</td>\n",
       "      <td>800.00</td>\n",
       "      <td>32.00</td>\n",
       "      <td>1.60</td>\n",
       "      <td>Trinity Biotech, Plc</td>\n",
       "      <td>Yes</td>\n",
       "      <td>10.0</td>\n",
       "      <td>559.89</td>\n",
       "      <td>reasonable</td>\n",
       "      <td>1.72</td>\n",
       "    </tr>\n",
       "    <tr>\n",
       "      <th>2</th>\n",
       "      <td>69871.0</td>\n",
       "      <td>Vietnam</td>\n",
       "      <td>PMO - US</td>\n",
       "      <td>Direct Drop</td>\n",
       "      <td>EXW</td>\n",
       "      <td>Air</td>\n",
       "      <td>0.0</td>\n",
       "      <td>No</td>\n",
       "      <td>ARV</td>\n",
       "      <td>Adult</td>\n",
       "      <td>...</td>\n",
       "      <td>22925.0</td>\n",
       "      <td>110040.00</td>\n",
       "      <td>4.80</td>\n",
       "      <td>0.08</td>\n",
       "      <td>Hetero Unit III Hyderabad IN</td>\n",
       "      <td>Yes</td>\n",
       "      <td>3723.0</td>\n",
       "      <td>19056.13</td>\n",
       "      <td>expensive</td>\n",
       "      <td>181.57</td>\n",
       "    </tr>\n",
       "    <tr>\n",
       "      <th>3</th>\n",
       "      <td>17648.0</td>\n",
       "      <td>South Africa</td>\n",
       "      <td>PMO - US</td>\n",
       "      <td>Direct Drop</td>\n",
       "      <td>DDP</td>\n",
       "      <td>Ocean</td>\n",
       "      <td>0.0</td>\n",
       "      <td>No</td>\n",
       "      <td>ARV</td>\n",
       "      <td>Adult</td>\n",
       "      <td>...</td>\n",
       "      <td>152535.0</td>\n",
       "      <td>361507.95</td>\n",
       "      <td>2.37</td>\n",
       "      <td>0.04</td>\n",
       "      <td>Aurobindo Unit III, India</td>\n",
       "      <td>Yes</td>\n",
       "      <td>7698.0</td>\n",
       "      <td>11372.23</td>\n",
       "      <td>expensive</td>\n",
       "      <td>779.41</td>\n",
       "    </tr>\n",
       "    <tr>\n",
       "      <th>4</th>\n",
       "      <td>5647.0</td>\n",
       "      <td>Uganda</td>\n",
       "      <td>PMO - US</td>\n",
       "      <td>Direct Drop</td>\n",
       "      <td>EXW</td>\n",
       "      <td>Air</td>\n",
       "      <td>0.0</td>\n",
       "      <td>No</td>\n",
       "      <td>HRDT</td>\n",
       "      <td>HIV test - Ancillary</td>\n",
       "      <td>...</td>\n",
       "      <td>850.0</td>\n",
       "      <td>8.50</td>\n",
       "      <td>0.01</td>\n",
       "      <td>0.00</td>\n",
       "      <td>Inverness Japan</td>\n",
       "      <td>Yes</td>\n",
       "      <td>56.0</td>\n",
       "      <td>360.00</td>\n",
       "      <td>reasonable</td>\n",
       "      <td>0.01</td>\n",
       "    </tr>\n",
       "  </tbody>\n",
       "</table>\n",
       "<p>5 rows × 27 columns</p>\n",
       "</div>"
      ],
      "text/plain": [
       "        id       country managed_by  fulfill_via vendor_inco_term  \\\n",
       "0  36203.0       Nigeria   PMO - US  Direct Drop              EXW   \n",
       "1  30998.0      Botswana   PMO - US  Direct Drop              EXW   \n",
       "2  69871.0       Vietnam   PMO - US  Direct Drop              EXW   \n",
       "3  17648.0  South Africa   PMO - US  Direct Drop              DDP   \n",
       "4   5647.0        Uganda   PMO - US  Direct Drop              EXW   \n",
       "\n",
       "  shipment_mode  late_delivery late product_group    sub_classification  ...  \\\n",
       "0           Air            1.0  Yes          HRDT              HIV test  ...   \n",
       "1           Air            0.0   No          HRDT              HIV test  ...   \n",
       "2           Air            0.0   No           ARV                 Adult  ...   \n",
       "3         Ocean            0.0   No           ARV                 Adult  ...   \n",
       "4           Air            0.0   No          HRDT  HIV test - Ancillary  ...   \n",
       "\n",
       "  line_item_quantity line_item_value pack_price unit_price  \\\n",
       "0             2996.0       266644.00      89.00       0.89   \n",
       "1               25.0          800.00      32.00       1.60   \n",
       "2            22925.0       110040.00       4.80       0.08   \n",
       "3           152535.0       361507.95       2.37       0.04   \n",
       "4              850.0            8.50       0.01       0.00   \n",
       "\n",
       "             manufacturing_site first_line_designation  weight_kilograms  \\\n",
       "0       Alere Medical Co., Ltd.                    Yes            1426.0   \n",
       "1          Trinity Biotech, Plc                    Yes              10.0   \n",
       "2  Hetero Unit III Hyderabad IN                    Yes            3723.0   \n",
       "3     Aurobindo Unit III, India                    Yes            7698.0   \n",
       "4               Inverness Japan                    Yes              56.0   \n",
       "\n",
       "   freight_cost_usd  freight_cost_groups  line_item_insurance_usd  \n",
       "0          33279.83            expensive                   373.83  \n",
       "1            559.89           reasonable                     1.72  \n",
       "2          19056.13            expensive                   181.57  \n",
       "3          11372.23            expensive                   779.41  \n",
       "4            360.00           reasonable                     0.01  \n",
       "\n",
       "[5 rows x 27 columns]"
      ]
     },
     "execution_count": 11,
     "metadata": {},
     "output_type": "execute_result"
    }
   ],
   "source": [
    "url = 'https://raw.githubusercontent.com/nafis-git/Data_analysis_python/main/statistic/data/late_shipments.feather'\n",
    "shipments = pd.read_feather(url)\n",
    "shipments.head()"
   ]
  },
  {
   "cell_type": "code",
   "execution_count": 12,
   "id": "3af66cda",
   "metadata": {},
   "outputs": [],
   "source": [
    "\"\"\"Proportional stratified sampling\"\"\"\n",
    "# make a sample of the shipment dataframe in a way that each shipment_mode has quarter of each shipment modes\n",
    "portion_str_samp = shipments.groupby('shipment_mode').sample(frac = .25, random_state = 2022)\n",
    "# make a simple randome sample of the shipment dataframe which has quarter of each shipment modes\n",
    "simple_samp = shipments.sample(frac = .25, random_state = 2022)"
   ]
  },
  {
   "cell_type": "code",
   "execution_count": 13,
   "id": "aa90827a",
   "metadata": {},
   "outputs": [
    {
     "name": "stdout",
     "output_type": "stream",
     "text": [
      "the proportion in shipmen_mode column of stratified sample is : \n",
      " Air            0.904\n",
      "Ocean          0.088\n",
      "Air Charter    0.008\n",
      "Name: shipment_mode, dtype: float64\n",
      "the proportion in shipmen_mode column of simple random sample of shipment dataframe is : \n",
      " Air            0.900\n",
      "Ocean          0.088\n",
      "Air Charter    0.012\n",
      "Name: shipment_mode, dtype: float64\n",
      "the proportion in shipmen_mode column of shipments dataframe is : \n",
      " Air            0.906\n",
      "Ocean          0.088\n",
      "Air Charter    0.006\n",
      "Name: shipment_mode, dtype: float64\n"
     ]
    }
   ],
   "source": [
    "# to comapre the preportion in each group of shipment mode in the portion_str_samp and the population \n",
    "star_por = portion_str_samp['shipment_mode'].value_counts(normalize = True)\n",
    "simple_por = simple_samp['shipment_mode'].value_counts(normalize = True)\n",
    "pop_por = shipments['shipment_mode'].value_counts(normalize = True)\n",
    "\n",
    "print('the proportion in shipmen_mode column of stratified sample is :', '\\n',star_por)\n",
    "print('the proportion in shipmen_mode column of simple random sample of shipment dataframe is :','\\n', simple_por)\n",
    "print('the proportion in shipmen_mode column of shipments dataframe is :', '\\n',pop_por)"
   ]
  },
  {
   "cell_type": "code",
   "execution_count": 14,
   "id": "13829912",
   "metadata": {},
   "outputs": [],
   "source": [
    "\"\"\"equal counts stratified sampling\"\"\"\n",
    "# make a sample of the shipment dataframe in a way that each shipment_mode has 5 sample from each mode \n",
    "\"\"\"take into consideration that the sample size in this case should not exceed any of the mode's counts\"\"\"\n",
    "# unique_modes = list(shipments['shipment_mode'].unique())\n",
    "# sample_size = int((.25*len(shipments))//len(unique_modes))\n",
    "equal_str_samp = shipments.groupby('shipment_mode').sample(5, random_state = 2022)"
   ]
  },
  {
   "cell_type": "code",
   "execution_count": 15,
   "id": "54f54a54",
   "metadata": {},
   "outputs": [
    {
     "data": {
      "text/plain": [
       "Air            0.333333\n",
       "Air Charter    0.333333\n",
       "Ocean          0.333333\n",
       "Name: shipment_mode, dtype: float64"
      ]
     },
     "execution_count": 15,
     "metadata": {},
     "output_type": "execute_result"
    }
   ],
   "source": [
    "equal_str_samp['shipment_mode'].value_counts(normalize = True)"
   ]
  },
  {
   "cell_type": "code",
   "execution_count": 16,
   "id": "553cb830",
   "metadata": {},
   "outputs": [],
   "source": [
    "\"\"\"Weighted random sampling\"\"\"\n",
    "# we want to emphasis on Ocean shipment, so we weight it 2 in comparision to other two modes\n",
    "condition = shipments['shipment_mode']=='Ocean'\n",
    "shipments['weight'] = np.where(condition,2,1)\n",
    "weight_sample= shipments.sample(frac = .2, weights = 'weight')"
   ]
  },
  {
   "cell_type": "code",
   "execution_count": 17,
   "id": "5a21949a",
   "metadata": {},
   "outputs": [
    {
     "data": {
      "text/plain": [
       "Air            0.830\n",
       "Ocean          0.165\n",
       "Air Charter    0.005\n",
       "Name: shipment_mode, dtype: float64"
      ]
     },
     "execution_count": 17,
     "metadata": {},
     "output_type": "execute_result"
    }
   ],
   "source": [
    "weight_sample['shipment_mode'].value_counts(normalize = True)"
   ]
  },
  {
   "cell_type": "markdown",
   "id": "2d00eca9",
   "metadata": {},
   "source": [
    "### Cluster sampling:\n",
    "is a two-stage sampling technique that is closely related to stratified sampling. First, you randomly sample which subgroups to include in the sample, then randomly sample rows within each subgroup.\n",
    "### Stratified sampling vs. cluster sampling\n",
    "|<b>Stratified sampling </b>|<b>Cluster sampling </b> |\n",
    "|:-|:-|\n",
    "|Split the population into subgroups|Use simple random sampling to pick some subgroups|  \n",
    "|Use simple random sampling on every subgroup|Use simple random sampling on only those subgroups|   \n",
    "\n",
    "  \n",
    " "
   ]
  },
  {
   "cell_type": "code",
   "execution_count": 18,
   "id": "18239fcf",
   "metadata": {},
   "outputs": [],
   "source": [
    "# change type of country column to 'category'\n",
    "shipments['country'] = shipments['country'].astype('category')"
   ]
  },
  {
   "cell_type": "code",
   "execution_count": 19,
   "id": "8e9e84ca",
   "metadata": {},
   "outputs": [],
   "source": [
    "import random\n",
    "# Create a list of unique country  from shipments, and assign to country_col.\n",
    "country_col = list(shipments['country'].unique())\n",
    "#Randomly sample four country_sample values from country_col.\n",
    "country_sample = random.sample(country_col,k =2 )"
   ]
  },
  {
   "cell_type": "code",
   "execution_count": 20,
   "id": "10055d54",
   "metadata": {},
   "outputs": [],
   "source": [
    "# ubset shipment for the sampled country  by filtering for rows where country is in country_sample\n",
    "condition = shipments['country'].isin(country_sample)\n",
    "filtered_ships = shipments[condition]\n",
    "filtered_ships['country'] = filtered_ships['country'].cat.remove_unused_categories()"
   ]
  },
  {
   "cell_type": "code",
   "execution_count": 21,
   "id": "dc26d325",
   "metadata": {},
   "outputs": [],
   "source": [
    "# just check to see the counts for each country in the sample to then define a valid sample number\n",
    "count_sample_country = filtered_ships.groupby('country').country.count()\n",
    "n_sample = count_sample_country.min()"
   ]
  },
  {
   "cell_type": "code",
   "execution_count": 22,
   "id": "1fdc39d1",
   "metadata": {},
   "outputs": [
    {
     "data": {
      "text/html": [
       "<div>\n",
       "<style scoped>\n",
       "    .dataframe tbody tr th:only-of-type {\n",
       "        vertical-align: middle;\n",
       "    }\n",
       "\n",
       "    .dataframe tbody tr th {\n",
       "        vertical-align: top;\n",
       "    }\n",
       "\n",
       "    .dataframe thead th {\n",
       "        text-align: right;\n",
       "    }\n",
       "</style>\n",
       "<table border=\"1\" class=\"dataframe\">\n",
       "  <thead>\n",
       "    <tr style=\"text-align: right;\">\n",
       "      <th></th>\n",
       "      <th>id</th>\n",
       "      <th>country</th>\n",
       "      <th>managed_by</th>\n",
       "      <th>fulfill_via</th>\n",
       "      <th>vendor_inco_term</th>\n",
       "      <th>shipment_mode</th>\n",
       "      <th>late_delivery</th>\n",
       "      <th>late</th>\n",
       "      <th>product_group</th>\n",
       "      <th>sub_classification</th>\n",
       "      <th>...</th>\n",
       "      <th>line_item_value</th>\n",
       "      <th>pack_price</th>\n",
       "      <th>unit_price</th>\n",
       "      <th>manufacturing_site</th>\n",
       "      <th>first_line_designation</th>\n",
       "      <th>weight_kilograms</th>\n",
       "      <th>freight_cost_usd</th>\n",
       "      <th>freight_cost_groups</th>\n",
       "      <th>line_item_insurance_usd</th>\n",
       "      <th>weight</th>\n",
       "    </tr>\n",
       "  </thead>\n",
       "  <tbody>\n",
       "    <tr>\n",
       "      <th>111</th>\n",
       "      <td>10085.0</td>\n",
       "      <td>Ethiopia</td>\n",
       "      <td>PMO - US</td>\n",
       "      <td>Direct Drop</td>\n",
       "      <td>EXW</td>\n",
       "      <td>Air</td>\n",
       "      <td>0.0</td>\n",
       "      <td>No</td>\n",
       "      <td>HRDT</td>\n",
       "      <td>HIV test</td>\n",
       "      <td>...</td>\n",
       "      <td>251775.0</td>\n",
       "      <td>27.0</td>\n",
       "      <td>1.35</td>\n",
       "      <td>Chembio Diagnostics Sys. Inc.</td>\n",
       "      <td>Yes</td>\n",
       "      <td>3061.0</td>\n",
       "      <td>15288.75</td>\n",
       "      <td>expensive</td>\n",
       "      <td>493.48</td>\n",
       "      <td>1</td>\n",
       "    </tr>\n",
       "    <tr>\n",
       "      <th>938</th>\n",
       "      <td>64864.0</td>\n",
       "      <td>Ethiopia</td>\n",
       "      <td>PMO - US</td>\n",
       "      <td>Direct Drop</td>\n",
       "      <td>EXW</td>\n",
       "      <td>Air</td>\n",
       "      <td>0.0</td>\n",
       "      <td>No</td>\n",
       "      <td>HRDT</td>\n",
       "      <td>HIV test</td>\n",
       "      <td>...</td>\n",
       "      <td>11700.0</td>\n",
       "      <td>32.5</td>\n",
       "      <td>1.62</td>\n",
       "      <td>Chembio Diagnostics Sys. Inc.</td>\n",
       "      <td>Yes</td>\n",
       "      <td>112.0</td>\n",
       "      <td>1414.69</td>\n",
       "      <td>reasonable</td>\n",
       "      <td>13.77</td>\n",
       "      <td>1</td>\n",
       "    </tr>\n",
       "    <tr>\n",
       "      <th>66</th>\n",
       "      <td>55504.0</td>\n",
       "      <td>Ethiopia</td>\n",
       "      <td>PMO - US</td>\n",
       "      <td>Direct Drop</td>\n",
       "      <td>EXW</td>\n",
       "      <td>Air</td>\n",
       "      <td>0.0</td>\n",
       "      <td>No</td>\n",
       "      <td>HRDT</td>\n",
       "      <td>HIV test</td>\n",
       "      <td>...</td>\n",
       "      <td>864.0</td>\n",
       "      <td>32.0</td>\n",
       "      <td>1.60</td>\n",
       "      <td>Trinity Biotech, Plc</td>\n",
       "      <td>Yes</td>\n",
       "      <td>10.0</td>\n",
       "      <td>490.23</td>\n",
       "      <td>reasonable</td>\n",
       "      <td>1.21</td>\n",
       "      <td>1</td>\n",
       "    </tr>\n",
       "    <tr>\n",
       "      <th>407</th>\n",
       "      <td>1973.0</td>\n",
       "      <td>Ethiopia</td>\n",
       "      <td>PMO - US</td>\n",
       "      <td>Direct Drop</td>\n",
       "      <td>EXW</td>\n",
       "      <td>Air</td>\n",
       "      <td>0.0</td>\n",
       "      <td>No</td>\n",
       "      <td>HRDT</td>\n",
       "      <td>HIV test</td>\n",
       "      <td>...</td>\n",
       "      <td>107514.0</td>\n",
       "      <td>27.0</td>\n",
       "      <td>1.35</td>\n",
       "      <td>Chembio Diagnostics Sys. Inc.</td>\n",
       "      <td>Yes</td>\n",
       "      <td>1445.0</td>\n",
       "      <td>7303.25</td>\n",
       "      <td>expensive</td>\n",
       "      <td>210.73</td>\n",
       "      <td>1</td>\n",
       "    </tr>\n",
       "    <tr>\n",
       "      <th>652</th>\n",
       "      <td>42980.0</td>\n",
       "      <td>Ethiopia</td>\n",
       "      <td>PMO - US</td>\n",
       "      <td>Direct Drop</td>\n",
       "      <td>EXW</td>\n",
       "      <td>Air</td>\n",
       "      <td>0.0</td>\n",
       "      <td>No</td>\n",
       "      <td>HRDT</td>\n",
       "      <td>HIV test</td>\n",
       "      <td>...</td>\n",
       "      <td>22638.0</td>\n",
       "      <td>24.5</td>\n",
       "      <td>24.50</td>\n",
       "      <td>KHB Test Kit Facility, Shanghai China</td>\n",
       "      <td>Yes</td>\n",
       "      <td>656.0</td>\n",
       "      <td>6488.44</td>\n",
       "      <td>expensive</td>\n",
       "      <td>31.74</td>\n",
       "      <td>1</td>\n",
       "    </tr>\n",
       "  </tbody>\n",
       "</table>\n",
       "<p>5 rows × 28 columns</p>\n",
       "</div>"
      ],
      "text/plain": [
       "          id   country managed_by  fulfill_via vendor_inco_term shipment_mode  \\\n",
       "111  10085.0  Ethiopia   PMO - US  Direct Drop              EXW           Air   \n",
       "938  64864.0  Ethiopia   PMO - US  Direct Drop              EXW           Air   \n",
       "66   55504.0  Ethiopia   PMO - US  Direct Drop              EXW           Air   \n",
       "407   1973.0  Ethiopia   PMO - US  Direct Drop              EXW           Air   \n",
       "652  42980.0  Ethiopia   PMO - US  Direct Drop              EXW           Air   \n",
       "\n",
       "     late_delivery late product_group sub_classification  ... line_item_value  \\\n",
       "111            0.0   No          HRDT           HIV test  ...        251775.0   \n",
       "938            0.0   No          HRDT           HIV test  ...         11700.0   \n",
       "66             0.0   No          HRDT           HIV test  ...           864.0   \n",
       "407            0.0   No          HRDT           HIV test  ...        107514.0   \n",
       "652            0.0   No          HRDT           HIV test  ...         22638.0   \n",
       "\n",
       "    pack_price unit_price                     manufacturing_site  \\\n",
       "111       27.0       1.35          Chembio Diagnostics Sys. Inc.   \n",
       "938       32.5       1.62          Chembio Diagnostics Sys. Inc.   \n",
       "66        32.0       1.60                   Trinity Biotech, Plc   \n",
       "407       27.0       1.35          Chembio Diagnostics Sys. Inc.   \n",
       "652       24.5      24.50  KHB Test Kit Facility, Shanghai China   \n",
       "\n",
       "    first_line_designation weight_kilograms  freight_cost_usd  \\\n",
       "111                    Yes           3061.0          15288.75   \n",
       "938                    Yes            112.0           1414.69   \n",
       "66                     Yes             10.0            490.23   \n",
       "407                    Yes           1445.0           7303.25   \n",
       "652                    Yes            656.0           6488.44   \n",
       "\n",
       "     freight_cost_groups  line_item_insurance_usd  weight  \n",
       "111            expensive                   493.48       1  \n",
       "938           reasonable                    13.77       1  \n",
       "66            reasonable                     1.21       1  \n",
       "407            expensive                   210.73       1  \n",
       "652            expensive                    31.74       1  \n",
       "\n",
       "[5 rows x 28 columns]"
      ]
     },
     "execution_count": 22,
     "metadata": {},
     "output_type": "execute_result"
    }
   ],
   "source": [
    "# Randomly sample 10 shipment from each country\n",
    "country_cluster = filtered_ships.groupby('country').sample(n= n_sample, random_state = 2022)\n",
    "\n",
    "\n",
    "# Print the sample\n",
    "country_cluster.head()"
   ]
  },
  {
   "cell_type": "markdown",
   "id": "3a736554",
   "metadata": {},
   "source": [
    "#### Relative errors: \n",
    "Absolute difference between the population and a sample mean divided by the population mean is relative error. \n",
    "larger sample sizes will give us more accurate resultsand relative error decreases as the sample size increases. If our sample size is small, the sample mean we calculate can be wildly different by adding one or two more random rows to the sample and adding just a few more samples can give us much better accuracy. Further to the right of the plot, the line is less steep. If we already have a large sample size, adding a few more rows to the sample doesn't bring as much benefit."
   ]
  },
  {
   "cell_type": "code",
   "execution_count": 23,
   "id": "7cd4fc08",
   "metadata": {},
   "outputs": [],
   "source": [
    "# calculate relative error for pack_price in the shipments dataframe for differnt sample sizes and plot it against the sample size\n",
    "errors = []\n",
    "mean_pop = shipments['pack_price'].mean()\n",
    "for n in range(5,300, 5):\n",
    "    mean_sample = shipments.sample(n, random_state = 2022)['pack_price'].mean()\n",
    "    s_error = np.abs(mean_pop-mean_sample)*(100/mean_pop)\n",
    "    errors.append(s_error)"
   ]
  },
  {
   "cell_type": "code",
   "execution_count": 24,
   "id": "6dcb4e11",
   "metadata": {},
   "outputs": [
    {
     "data": {
      "text/plain": [
       "Text(0, 0.5, 'relative error')"
      ]
     },
     "execution_count": 24,
     "metadata": {},
     "output_type": "execute_result"
    },
    {
     "data": {
      "image/png": "[encoded data removed]",
      "text/plain": [
       "<Figure size 432x288 with 1 Axes>"
      ]
     },
     "metadata": {
      "needs_background": "light"
     },
     "output_type": "display_data"
    }
   ],
   "source": [
    "plt.plot(list(range(5,300,5)),errors )\n",
    "plt.xlabel('sample size')\n",
    "plt.ylabel('relative error')"
   ]
  },
  {
   "cell_type": "code",
   "execution_count": 25,
   "id": "d5f935b4",
   "metadata": {},
   "outputs": [],
   "source": [
    "# Distribution of sample means for sample size 30\n",
    "\"\"\" plot histogram of the sample mean distribution for times repeat\"\"\"\n",
    "def hist_mean_distri(population, sample_size, column, times):\n",
    "    means = []\n",
    "    for r in range(times):\n",
    "        sample_mean = population.sample(n = sample_size)[column].mean()\n",
    "        means.append(sample_mean)\n",
    "    p = plt.hist(means, bins = sample_size)\n",
    "    plt.xlabel('Sample_mean')\n",
    "    plt.show()"
   ]
  },
  {
   "cell_type": "markdown",
   "id": "4b862fc2",
   "metadata": {},
   "source": [
    "- We aim to check smaple mean for several replicates for sample size of 30 \n"
   ]
  },
  {
   "cell_type": "code",
   "execution_count": 26,
   "id": "7b16a151",
   "metadata": {},
   "outputs": [
    {
     "data": {
      "image/png": "[encoded data removed]",
      "text/plain": [
       "<Figure size 432x288 with 1 Axes>"
      ]
     },
     "metadata": {
      "needs_background": "light"
     },
     "output_type": "display_data"
    }
   ],
   "source": [
    "# repeat sampling for example 100 times to see the distribution of sample mean for pack_price of shipments dataframe\n",
    "hist_mean_distri(shipments, 30, 'pack_price', 100)"
   ]
  },
  {
   "cell_type": "code",
   "execution_count": 27,
   "id": "42bb9be7",
   "metadata": {},
   "outputs": [
    {
     "data": {
      "image/png": "[encoded data removed]",
      "text/plain": [
       "<Figure size 432x288 with 1 Axes>"
      ]
     },
     "metadata": {
      "needs_background": "light"
     },
     "output_type": "display_data"
    }
   ],
   "source": [
    "# lets repeat for 1000\n",
    "hist_mean_distri(shipments, 30, 'pack_price', 1000)"
   ]
  },
  {
   "cell_type": "code",
   "execution_count": 28,
   "id": "6a5fa66f",
   "metadata": {},
   "outputs": [
    {
     "data": {
      "image/png": "[encoded data removed]",
      "text/plain": [
       "<Figure size 432x288 with 1 Axes>"
      ]
     },
     "metadata": {
      "needs_background": "light"
     },
     "output_type": "display_data"
    }
   ],
   "source": [
    "# lets repeat for 10000\n",
    "hist_mean_distri(shipments, 30, 'pack_price', 10000)\n",
    "# they roughly follow a bell-shaped curve, like a normal distribution."
   ]
  },
  {
   "cell_type": "markdown",
   "id": "b1dc7a2a",
   "metadata": {},
   "source": [
    "### sampling distribution.\n",
    " A distribution of replicates of sample means, or other point estimates, is known as a sampling distribution "
   ]
  },
  {
   "cell_type": "code",
   "execution_count": 29,
   "id": "93e9a834",
   "metadata": {},
   "outputs": [
    {
     "data": {
      "image/png": "[encoded data removed]",
      "text/plain": [
       "<Figure size 432x288 with 1 Axes>"
      ]
     },
     "metadata": {
      "needs_background": "light"
     },
     "output_type": "display_data"
    }
   ],
   "source": [
    "# lets check sampling distribution for  sample size of 100 for 10000 replica\n",
    "hist_mean_distri(shipments, 100, 'pack_price', 10000)\n",
    "#increasing the sample size to one hundred results in a much narrower range"
   ]
  },
  {
   "cell_type": "markdown",
   "id": "4c673e78",
   "metadata": {},
   "source": [
    "### Approximate sampling distributions\n",
    "Long before you start dealing with big datasets, it becomes computationally impossible to calculate the exact sampling distribution. That means we need to rely on approximations."
   ]
  },
  {
   "cell_type": "code",
   "execution_count": 30,
   "id": "add7e59b",
   "metadata": {},
   "outputs": [],
   "source": [
    "# generate all possible combinations of rolls using the expand_grid function\n",
    "#product('ABCD', repeat=2) >> AA AB AC AD BA BB BC BD CA CB CC CD DA DB DC DD\n",
    "import itertools\n",
    "def expand_grid(data_dict):\n",
    "    rows = itertools.product(*data_dict.values())\n",
    "    return pd.DataFrame.from_records(rows, columns=data_dict.keys())"
   ]
  },
  {
   "cell_type": "code",
   "execution_count": 31,
   "id": "20e3a1ea",
   "metadata": {},
   "outputs": [
    {
     "name": "stdout",
     "output_type": "stream",
     "text": [
      "       die1  die2  die3  die4  die5 mean_roll\n",
      "0         1     1     1     1     1       1.0\n",
      "1         1     1     1     1     2       1.2\n",
      "2         1     1     1     1     3       1.4\n",
      "3         1     1     1     1     4       1.6\n",
      "4         1     1     1     1     5       1.8\n",
      "...     ...   ...   ...   ...   ...       ...\n",
      "32763     8     8     8     8     4       7.2\n",
      "32764     8     8     8     8     5       7.4\n",
      "32765     8     8     8     8     6       7.6\n",
      "32766     8     8     8     8     7       7.8\n",
      "32767     8     8     8     8     8       8.0\n",
      "\n",
      "[32768 rows x 6 columns]\n"
     ]
    }
   ],
   "source": [
    "# Expand a grid representing 5 8-sided dice\n",
    "dice = expand_grid({'die1': [1, 2, 3, 4, 5, 6,7,8],'die2': [1, 2, 3, 4, 5, 6,7,8],\n",
    "'die3': [1, 2, 3, 4, 5, 6,7,8],'die4': [1, 2, 3, 4, 5, 6,7,8], 'die5': [1, 2, 3, 4, 5, 6,7,8]})\n",
    "# Add a column of mean rolls and convert to a categorical\n",
    "dice['mean_roll'] = dice.mean(axis = 1)\n",
    "                     \n",
    "                    \n",
    "dice['mean_roll'] = dice['mean_roll'].astype('category')\n",
    "\n",
    "# Print result\n",
    "print(dice)"
   ]
  },
  {
   "cell_type": "code",
   "execution_count": 32,
   "id": "cc8acfda",
   "metadata": {},
   "outputs": [
    {
     "data": {
      "text/plain": [
       "<AxesSubplot:>"
      ]
     },
     "execution_count": 32,
     "metadata": {},
     "output_type": "execute_result"
    },
    {
     "data": {
      "image/png": "[encoded data removed]",
      "text/plain": [
       "<Figure size 432x288 with 1 Axes>"
      ]
     },
     "metadata": {
      "needs_background": "light"
     },
     "output_type": "display_data"
    }
   ],
   "source": [
    "# Draw a bar plot of mean_roll\n",
    "dice['mean_roll'].value_counts(sort = False).plot(kind = 'bar')"
   ]
  },
  {
   "cell_type": "markdown",
   "id": "bb106dc3",
   "metadata": {},
   "source": [
    "Calculating the exact sampling distribution is only possible in very simple situations. With just five eight-sided dice, the number of possible rolls is 8**5, which is over thirty thousand. When the dataset is more complicated, for example, where a variable has hundreds or thousands of categories, the number of possible outcomes becomes too difficult to compute exactly.\n",
    "In this situation, you can calculate an approximate sampling distribution by simulating the exact sampling distribution. That is, you can repeat a procedure over and over again to simulate both the sampling process and the sample statistic calculation process."
   ]
  },
  {
   "cell_type": "code",
   "execution_count": 33,
   "id": "ddeb8470",
   "metadata": {},
   "outputs": [
    {
     "name": "stdout",
     "output_type": "stream",
     "text": [
      "[6 3 7 7 1]\n"
     ]
    },
    {
     "data": {
      "text/plain": [
       "4.8"
      ]
     },
     "execution_count": 33,
     "metadata": {},
     "output_type": "execute_result"
    }
   ],
   "source": [
    "#Sample one to eight, five times, with replacement. Assign to five_rolls.\n",
    "sample = np.random.choice(range(1,9), 5)\n",
    "print(sample)\n",
    "# Calculate the mean of five_rolls\n",
    "np.mean(sample)"
   ]
  },
  {
   "cell_type": "code",
   "execution_count": 34,
   "id": "215612cc",
   "metadata": {},
   "outputs": [
    {
     "name": "stdout",
     "output_type": "stream",
     "text": [
      "[5.4, 4.6, 4.6, 3.6, 3.0, 4.8, 4.6, 5.4, 2.8, 5.0]\n"
     ]
    }
   ],
   "source": [
    "# Replicate the sampling code 1000 times, assigning each result to the list sample_means_1000\n",
    "means =[]\n",
    "for r in range(1000):\n",
    "    sample = np.random.choice(range(1,9), 5)\n",
    "    means.append(np.mean(sample))\n",
    "print(means[:10])"
   ]
  },
  {
   "cell_type": "code",
   "execution_count": 35,
   "id": "6dd24b9a",
   "metadata": {},
   "outputs": [
    {
     "data": {
      "image/png": "[encoded data removed]",
      "text/plain": [
       "<Figure size 432x288 with 1 Axes>"
      ]
     },
     "metadata": {
      "needs_background": "light"
     },
     "output_type": "display_data"
    }
   ],
   "source": [
    "# Draw a histogram of sample_means_1000 with 20 bins\n",
    "plt.hist(means, bins = 20)\n",
    "plt.show()"
   ]
  },
  {
   "cell_type": "markdown",
   "id": "cf9aa2f1",
   "metadata": {},
   "source": [
    "### note\n",
    "Here's a histogram of the approximate sampling distribution of mean rolls. This time, it uses the simulated rather than the exact values. It's known as an approximate sampling distribution. Notice that although it isn't perfect, it's pretty close to the exact sampling distribution"
   ]
  },
  {
   "cell_type": "markdown",
   "id": "2cdd58de",
   "metadata": {},
   "source": [
    "### central limit theorem\n",
    "The means of independent samples have normal distributions. \n",
    "##### as the sample size increases, we see two things:\n",
    "- The distribution of these averages gets closer to being normal\n",
    "- the width of this sampling distribution gets narrower.\n",
    "\n",
    "### summary statistics on our sampling distributions \n",
    "- <b>mean</b> of sampling distributions is almost equal to of  the sample means\n",
    "- <b>standard deviation</b> of sampling distributions is smaller than std of  the sample, and they decrease as the sample size increases.divide the population standard deviation, in this case around 2-point-7, by the square root of the sample size, we get an estimate of the standard deviation of the sampling distribution for that sample size. \n",
    "### standard error\n",
    "This standard deviation of the sampling distribution has a special name: the standard error."
   ]
  },
  {
   "cell_type": "markdown",
   "id": "dab1813a",
   "metadata": {},
   "source": [
    "### Principles of bootstrapping\n",
    "Bootstrapping is, in some sense, the opposite of sampling from a population. Sampling treats your dataset as the population, and you generate a random subset. Bootstrapping treats your dataset as a sample and uses it to build up a theoretical population.The bootstrapping workflow is to generate a resample of the same size as the population, calculate a summary statistic, then repeat this to get a distribution of summary statistics.\n",
    "#### The bootstrapping process has three steps:\n",
    "- First, randomly sample with replacement to get a resample the same size as the original dataset.(resampling) \n",
    "- Then, calculate a statistic, such as a mean of one of the columns. Note that the mean isn't always the choice here and bootstrapping allows for complex statistics to be computed, too. \n",
    "- Then, replicate this many times to get lots of these bootstrap statistics.\n"
   ]
  },
  {
   "cell_type": "code",
   "execution_count": 36,
   "id": "215c0e70",
   "metadata": {},
   "outputs": [
    {
     "data": {
      "text/html": [
       "<div>\n",
       "<style scoped>\n",
       "    .dataframe tbody tr th:only-of-type {\n",
       "        vertical-align: middle;\n",
       "    }\n",
       "\n",
       "    .dataframe tbody tr th {\n",
       "        vertical-align: top;\n",
       "    }\n",
       "\n",
       "    .dataframe thead th {\n",
       "        text-align: right;\n",
       "    }\n",
       "</style>\n",
       "<table border=\"1\" class=\"dataframe\">\n",
       "  <thead>\n",
       "    <tr style=\"text-align: right;\">\n",
       "      <th></th>\n",
       "      <th>acousticness</th>\n",
       "      <th>artists</th>\n",
       "      <th>danceability</th>\n",
       "      <th>duration_ms</th>\n",
       "      <th>duration_minutes</th>\n",
       "      <th>energy</th>\n",
       "      <th>explicit</th>\n",
       "      <th>id</th>\n",
       "      <th>instrumentalness</th>\n",
       "      <th>key</th>\n",
       "      <th>liveness</th>\n",
       "      <th>loudness</th>\n",
       "      <th>mode</th>\n",
       "      <th>name</th>\n",
       "      <th>popularity</th>\n",
       "      <th>release_date</th>\n",
       "      <th>speechiness</th>\n",
       "      <th>tempo</th>\n",
       "      <th>valence</th>\n",
       "      <th>year</th>\n",
       "    </tr>\n",
       "  </thead>\n",
       "  <tbody>\n",
       "    <tr>\n",
       "      <th>0</th>\n",
       "      <td>0.97200</td>\n",
       "      <td>['David Bauer']</td>\n",
       "      <td>0.567</td>\n",
       "      <td>313293.0</td>\n",
       "      <td>5.221550</td>\n",
       "      <td>0.227</td>\n",
       "      <td>0.0</td>\n",
       "      <td>0w0D8H1ubRerCXHWYJkinO</td>\n",
       "      <td>0.601000</td>\n",
       "      <td>10.0</td>\n",
       "      <td>0.110</td>\n",
       "      <td>-13.441</td>\n",
       "      <td>1.0</td>\n",
       "      <td>Shout to the Lord</td>\n",
       "      <td>47.0</td>\n",
       "      <td>2000</td>\n",
       "      <td>0.0290</td>\n",
       "      <td>136.123</td>\n",
       "      <td>0.0396</td>\n",
       "      <td>2000.0</td>\n",
       "    </tr>\n",
       "    <tr>\n",
       "      <th>1</th>\n",
       "      <td>0.32100</td>\n",
       "      <td>['Etta James']</td>\n",
       "      <td>0.821</td>\n",
       "      <td>360240.0</td>\n",
       "      <td>6.004000</td>\n",
       "      <td>0.418</td>\n",
       "      <td>0.0</td>\n",
       "      <td>4JVeqfE2tpi7Pv63LJZtPh</td>\n",
       "      <td>0.000372</td>\n",
       "      <td>9.0</td>\n",
       "      <td>0.222</td>\n",
       "      <td>-9.841</td>\n",
       "      <td>0.0</td>\n",
       "      <td>Miss You</td>\n",
       "      <td>51.0</td>\n",
       "      <td>2000-12-12</td>\n",
       "      <td>0.0407</td>\n",
       "      <td>117.382</td>\n",
       "      <td>0.8030</td>\n",
       "      <td>2000.0</td>\n",
       "    </tr>\n",
       "    <tr>\n",
       "      <th>2</th>\n",
       "      <td>0.00659</td>\n",
       "      <td>['Quasimoto']</td>\n",
       "      <td>0.706</td>\n",
       "      <td>202507.0</td>\n",
       "      <td>3.375117</td>\n",
       "      <td>0.602</td>\n",
       "      <td>1.0</td>\n",
       "      <td>5pxtdhLAi0RTh1gNqhGMNA</td>\n",
       "      <td>0.000138</td>\n",
       "      <td>11.0</td>\n",
       "      <td>0.400</td>\n",
       "      <td>-8.306</td>\n",
       "      <td>0.0</td>\n",
       "      <td>Real Eyes</td>\n",
       "      <td>44.0</td>\n",
       "      <td>2000-06-13</td>\n",
       "      <td>0.3420</td>\n",
       "      <td>89.692</td>\n",
       "      <td>0.4790</td>\n",
       "      <td>2000.0</td>\n",
       "    </tr>\n",
       "    <tr>\n",
       "      <th>3</th>\n",
       "      <td>0.00390</td>\n",
       "      <td>['Millencolin']</td>\n",
       "      <td>0.368</td>\n",
       "      <td>173360.0</td>\n",
       "      <td>2.889333</td>\n",
       "      <td>0.977</td>\n",
       "      <td>0.0</td>\n",
       "      <td>3jRsoe4Vkxa4BMYqGHX8L0</td>\n",
       "      <td>0.000000</td>\n",
       "      <td>11.0</td>\n",
       "      <td>0.350</td>\n",
       "      <td>-2.757</td>\n",
       "      <td>0.0</td>\n",
       "      <td>Penguins &amp; Polarbears</td>\n",
       "      <td>52.0</td>\n",
       "      <td>2000-02-22</td>\n",
       "      <td>0.1270</td>\n",
       "      <td>165.889</td>\n",
       "      <td>0.5480</td>\n",
       "      <td>2000.0</td>\n",
       "    </tr>\n",
       "    <tr>\n",
       "      <th>4</th>\n",
       "      <td>0.12200</td>\n",
       "      <td>['Steve Chou']</td>\n",
       "      <td>0.501</td>\n",
       "      <td>344200.0</td>\n",
       "      <td>5.736667</td>\n",
       "      <td>0.511</td>\n",
       "      <td>0.0</td>\n",
       "      <td>4mronxcllhfyhBRqyZi8kU</td>\n",
       "      <td>0.000000</td>\n",
       "      <td>7.0</td>\n",
       "      <td>0.279</td>\n",
       "      <td>-9.836</td>\n",
       "      <td>0.0</td>\n",
       "      <td>黃昏</td>\n",
       "      <td>53.0</td>\n",
       "      <td>2000-12-25</td>\n",
       "      <td>0.0291</td>\n",
       "      <td>78.045</td>\n",
       "      <td>0.1130</td>\n",
       "      <td>2000.0</td>\n",
       "    </tr>\n",
       "  </tbody>\n",
       "</table>\n",
       "</div>"
      ],
      "text/plain": [
       "   acousticness          artists  danceability  duration_ms  duration_minutes  \\\n",
       "0       0.97200  ['David Bauer']         0.567     313293.0          5.221550   \n",
       "1       0.32100   ['Etta James']         0.821     360240.0          6.004000   \n",
       "2       0.00659    ['Quasimoto']         0.706     202507.0          3.375117   \n",
       "3       0.00390  ['Millencolin']         0.368     173360.0          2.889333   \n",
       "4       0.12200   ['Steve Chou']         0.501     344200.0          5.736667   \n",
       "\n",
       "   energy  explicit                      id  instrumentalness   key  liveness  \\\n",
       "0   0.227       0.0  0w0D8H1ubRerCXHWYJkinO          0.601000  10.0     0.110   \n",
       "1   0.418       0.0  4JVeqfE2tpi7Pv63LJZtPh          0.000372   9.0     0.222   \n",
       "2   0.602       1.0  5pxtdhLAi0RTh1gNqhGMNA          0.000138  11.0     0.400   \n",
       "3   0.977       0.0  3jRsoe4Vkxa4BMYqGHX8L0          0.000000  11.0     0.350   \n",
       "4   0.511       0.0  4mronxcllhfyhBRqyZi8kU          0.000000   7.0     0.279   \n",
       "\n",
       "   loudness  mode                   name  popularity release_date  \\\n",
       "0   -13.441   1.0      Shout to the Lord        47.0         2000   \n",
       "1    -9.841   0.0               Miss You        51.0   2000-12-12   \n",
       "2    -8.306   0.0              Real Eyes        44.0   2000-06-13   \n",
       "3    -2.757   0.0  Penguins & Polarbears        52.0   2000-02-22   \n",
       "4    -9.836   0.0                     黃昏        53.0   2000-12-25   \n",
       "\n",
       "   speechiness    tempo  valence    year  \n",
       "0       0.0290  136.123   0.0396  2000.0  \n",
       "1       0.0407  117.382   0.8030  2000.0  \n",
       "2       0.3420   89.692   0.4790  2000.0  \n",
       "3       0.1270  165.889   0.5480  2000.0  \n",
       "4       0.0291   78.045   0.1130  2000.0  "
      ]
     },
     "execution_count": 36,
     "metadata": {},
     "output_type": "execute_result"
    }
   ],
   "source": [
    "# make a smaple of spotify is a subset of the spotify_population dataset and creat a row index column called 'index', keep only  the artist name, song name, and danceability columns \n",
    "spotify.head()"
   ]
  },
  {
   "cell_type": "code",
   "execution_count": 58,
   "id": "57355af4",
   "metadata": {},
   "outputs": [],
   "source": [
    "spotify_cols = spotify.loc[:,['name','artists', 'danceability', 'popularity']]\n",
    "spotify_cols.reset_index(inplace = True)\n",
    "spotify_sample = spotify_cols.sample(5000, random_state = 2020)"
   ]
  },
  {
   "cell_type": "code",
   "execution_count": 59,
   "id": "4e2be2d8",
   "metadata": {},
   "outputs": [
    {
     "data": {
      "text/html": [
       "<div>\n",
       "<style scoped>\n",
       "    .dataframe tbody tr th:only-of-type {\n",
       "        vertical-align: middle;\n",
       "    }\n",
       "\n",
       "    .dataframe tbody tr th {\n",
       "        vertical-align: top;\n",
       "    }\n",
       "\n",
       "    .dataframe thead th {\n",
       "        text-align: right;\n",
       "    }\n",
       "</style>\n",
       "<table border=\"1\" class=\"dataframe\">\n",
       "  <thead>\n",
       "    <tr style=\"text-align: right;\">\n",
       "      <th></th>\n",
       "      <th>index</th>\n",
       "      <th>name</th>\n",
       "      <th>artists</th>\n",
       "      <th>danceability</th>\n",
       "      <th>popularity</th>\n",
       "    </tr>\n",
       "  </thead>\n",
       "  <tbody>\n",
       "    <tr>\n",
       "      <th>2152</th>\n",
       "      <td>2152</td>\n",
       "      <td>La sitiera</td>\n",
       "      <td>['Omara Portuondo']</td>\n",
       "      <td>0.618</td>\n",
       "      <td>52.0</td>\n",
       "    </tr>\n",
       "    <tr>\n",
       "      <th>7125</th>\n",
       "      <td>7125</td>\n",
       "      <td>Top Yourself</td>\n",
       "      <td>['The Raconteurs']</td>\n",
       "      <td>0.505</td>\n",
       "      <td>43.0</td>\n",
       "    </tr>\n",
       "    <tr>\n",
       "      <th>16293</th>\n",
       "      <td>16293</td>\n",
       "      <td>22 (OVER S∞∞N)</td>\n",
       "      <td>['Bon Iver']</td>\n",
       "      <td>0.298</td>\n",
       "      <td>57.0</td>\n",
       "    </tr>\n",
       "    <tr>\n",
       "      <th>28515</th>\n",
       "      <td>28515</td>\n",
       "      <td>Deira City Centre</td>\n",
       "      <td>['Night Lovell']</td>\n",
       "      <td>0.677</td>\n",
       "      <td>67.0</td>\n",
       "    </tr>\n",
       "    <tr>\n",
       "      <th>27886</th>\n",
       "      <td>27886</td>\n",
       "      <td>There Will Be A Day</td>\n",
       "      <td>['Jeremy Camp']</td>\n",
       "      <td>0.345</td>\n",
       "      <td>54.0</td>\n",
       "    </tr>\n",
       "  </tbody>\n",
       "</table>\n",
       "</div>"
      ],
      "text/plain": [
       "       index                 name              artists  danceability  \\\n",
       "2152    2152           La sitiera  ['Omara Portuondo']         0.618   \n",
       "7125    7125         Top Yourself   ['The Raconteurs']         0.505   \n",
       "16293  16293       22 (OVER S∞∞N)         ['Bon Iver']         0.298   \n",
       "28515  28515    Deira City Centre     ['Night Lovell']         0.677   \n",
       "27886  27886  There Will Be A Day      ['Jeremy Camp']         0.345   \n",
       "\n",
       "       popularity  \n",
       "2152         52.0  \n",
       "7125         43.0  \n",
       "16293        57.0  \n",
       "28515        67.0  \n",
       "27886        54.0  "
      ]
     },
     "execution_count": 59,
     "metadata": {},
     "output_type": "execute_result"
    }
   ],
   "source": [
    "spotify_sample.head()"
   ]
  },
  {
   "cell_type": "code",
   "execution_count": 60,
   "id": "bf301ae8",
   "metadata": {},
   "outputs": [],
   "source": [
    "## Generate 1 bootstrap resample\n",
    "spotify_1_resample = spotify_sample.sample(frac = 1, replace = True)"
   ]
  },
  {
   "cell_type": "code",
   "execution_count": 61,
   "id": "b74cc4e8",
   "metadata": {},
   "outputs": [
    {
     "data": {
      "text/plain": [
       "0.5909621"
      ]
     },
     "execution_count": 61,
     "metadata": {},
     "output_type": "execute_result"
    }
   ],
   "source": [
    "# Calculate the mean of the danceability\n",
    "mean_danceability = np.mean(spotify_1_resample['danceability'])\n",
    "mean_danceability"
   ]
  },
  {
   "cell_type": "code",
   "execution_count": 62,
   "id": "e41b37c1",
   "metadata": {},
   "outputs": [],
   "source": [
    "#Replicate this 1000 times\n",
    "mean_1000 = []\n",
    "for r in range(1000):\n",
    "    ## Generate 1 bootstrap resample\n",
    "    spotify_1_resample = spotify_sample.sample(frac = 1, replace = True)\n",
    "    # Calculate the mean of the danceability\n",
    "    mean_danceability = np.mean(spotify_1_resample['danceability'])\n",
    "    mean_1000.append(mean_danceability)  "
   ]
  },
  {
   "cell_type": "code",
   "execution_count": 63,
   "id": "59d15e74",
   "metadata": {},
   "outputs": [
    {
     "data": {
      "image/png": "[encoded data removed]",
      "text/plain": [
       "<Figure size 432x288 with 1 Axes>"
      ]
     },
     "metadata": {
      "needs_background": "light"
     },
     "output_type": "display_data"
    }
   ],
   "source": [
    "p = plt.hist(mean_1000)"
   ]
  },
  {
   "cell_type": "markdown",
   "id": "80c545e9",
   "metadata": {},
   "source": [
    "### Q \n",
    "comapre the sampling distribution, bootstrap sampling, and population's means and strandard\n",
    "> Calculate the mean popularity in 4 ways:\n",
    "Population: from spotify_population, take the mean of popularity.\n",
    "Sample: from spotify_sample, take the mean of popularity.\n",
    "Sampling distribution: from sampling_distribution, take its mean.\n",
    "Bootstrap distribution: from bootstrap_distribution, take its mean."
   ]
  },
  {
   "cell_type": "code",
   "execution_count": 70,
   "id": "8386bc33",
   "metadata": {},
   "outputs": [],
   "source": [
    "#Generate a sampling distribution of 2000 replicates.\n",
    "#Sample 500 rows of the population without replacement and calculate the mean popularity\n",
    "mean_sample_2000 = []\n",
    "for r in range(2000):\n",
    "    ## Generate 1 sample of 500\n",
    "    spotify_sample_1= spotify.sample(5000)\n",
    "    # Calculate the mean of the danceability\n",
    "    mean_popularity = np.mean(spotify_sample_1['popularity'])\n",
    "    mean_sample_2000.append(mean_popularity)  "
   ]
  },
  {
   "cell_type": "code",
   "execution_count": 71,
   "id": "9c050708",
   "metadata": {},
   "outputs": [
    {
     "data": {
      "text/plain": [
       "[54.6402, 54.738, 55.0764, 54.6104]"
      ]
     },
     "execution_count": 71,
     "metadata": {},
     "output_type": "execute_result"
    }
   ],
   "source": [
    "mean_sample_2000[:4]"
   ]
  },
  {
   "cell_type": "code",
   "execution_count": 72,
   "id": "931348da",
   "metadata": {},
   "outputs": [],
   "source": [
    "#Generate a bootstrap distribution of 2000 replicates.\n",
    "#Sample 500 rows of the sample with replacement and calculate the mean popularity.\n",
    "mean_resample_2000 = []\n",
    "for r in range(2000):\n",
    "    ## Generate 1 bootstrap resample\n",
    "    spotify_1_resample = spotify_sample.sample(frac = 1, replace = True)\n",
    "    # Calculate the mean of the danceability\n",
    "    mean_popularity = np.mean(spotify_1_resample['popularity'])\n",
    "    mean_resample_2000.append(mean_popularity)  "
   ]
  },
  {
   "cell_type": "code",
   "execution_count": 73,
   "id": "acc6d5c5",
   "metadata": {},
   "outputs": [
    {
     "data": {
      "text/plain": [
       "[54.7172, 54.7874, 55.0306, 55.038]"
      ]
     },
     "execution_count": 73,
     "metadata": {},
     "output_type": "execute_result"
    }
   ],
   "source": [
    "mean_resample_2000[:4]"
   ]
  },
  {
   "cell_type": "code",
   "execution_count": 74,
   "id": "7c3c72ac",
   "metadata": {},
   "outputs": [
    {
     "name": "stdout",
     "output_type": "stream",
     "text": [
      "[54.837142308430955, 54.903, 54.839241799999996, 54.8999613]\n"
     ]
    }
   ],
   "source": [
    "# Calculate the population mean popularity\n",
    "pop_mean = spotify['popularity'].mean()\n",
    "\n",
    "# Calculate the original sample mean popularity\n",
    "samp_mean = spotify_sample['popularity'].mean()\n",
    "\n",
    "# Calculate the sampling distribution estimate of mean popularity\n",
    "samp_distn_mean = np.mean(mean_sample_2000)\n",
    "\n",
    "# Calculate the bootstrap dist'n estimate of mean popularity\n",
    "boot_distn_mean = np.mean(mean_resample_2000)\n",
    "\n",
    "# Print the means\n",
    "print([pop_mean, samp_mean, samp_distn_mean, boot_distn_mean])"
   ]
  },
  {
   "cell_type": "markdown",
   "id": "9cef3bcf",
   "metadata": {},
   "source": [
    "### notes:\n",
    "- The sampling distribution mean is the best estimate of the true population mean; the bootstrap distribution mean is closest to the original sample mean.\n",
    "- The bootstrap distribution mean is usually almost identical to the original sample mean. However, that is not often a good thing. If the original sample wasn't closely representative of the population, then the bootstrap distribution mean won't be a good estimate of the population mean. "
   ]
  },
  {
   "cell_type": "markdown",
   "id": "b6539f6c",
   "metadata": {},
   "source": [
    "### Q.\n",
    ">Calculate the standard deviation of popularity in 4 ways.  \n",
    "Population: from spotify_population, take the standard deviation of popularity.  \n",
    "Original sample: from spotify_sample, take the standard deviation of popularity.  \n",
    "Sampling distribution: from sampling_distribution, take its standard deviation and multiply by the square root of the sample size (5000).  \n",
    "Bootstrap distribution: from bootstrap_distribution, take its standard deviation and multiply by the square root of the sample size.  "
   ]
  },
  {
   "cell_type": "code",
   "execution_count": 75,
   "id": "1c203225",
   "metadata": {},
   "outputs": [
    {
     "name": "stdout",
     "output_type": "stream",
     "text": [
      "[10.880065274257204, 10.817420871855889, 10.229434369874209, 11.011115835714547]\n"
     ]
    }
   ],
   "source": [
    "# Calculate the population mean popularity\n",
    "pop_std = spotify['popularity'].std(ddof = 0)\n",
    "\n",
    "# Calculate the original sample mean popularity\n",
    "samp_std = spotify_sample['popularity'].std(ddof = 1)\n",
    "\n",
    "# Calculate the sampling distribution estimate of mean popularity\n",
    "samp_distn_std = np.std(mean_sample_2000, ddof = 1)*np.sqrt(5000)\n",
    "\n",
    "# Calculate the bootstrap dist'n estimate of mean popularity\n",
    "boot_distn_std = np.std(mean_resample_2000, ddof = 1)*np.sqrt(5000)\n",
    "\n",
    "# Print the means\n",
    "print([pop_std, samp_std, samp_distn_std, boot_distn_std])"
   ]
  },
  {
   "cell_type": "markdown",
   "id": "d64f6248",
   "metadata": {},
   "source": [
    "- If we multiply that standard error by the square root of the sample size, we get an estimate of the standard deviation in the original population."
   ]
  },
  {
   "cell_type": "markdown",
   "id": "e2122911",
   "metadata": {},
   "source": [
    "### Confidance interval\n",
    "Confidence intervals account for uncertainty in our estimate of a population parameter by providing a range of possible values. We are confident that the true value lies somewhere in the interval specified by that range.\n",
    "#### Mean plus or minus one standard deviation\n",
    "If we create a confidence interval by adding and subtracting one standard deviation from the mean, we see that there are lots of values in the bootstrap distribution outside of this one standard deviation confidence interval.\n",
    "#### Quantile method for confidence intervals\n",
    "If we want to include ninety-five percent of the values in the confidence interval, we can use quantiles. To get the middle ninety-five percent of values, we go from the point-zero-two-five quantile to the point-nine-seven-five quantile since the difference between those two numbers is point-nine-five. To calculate the lower and upper bounds for this confidence interval, we call quantile from NumPy, passing the distribution values and the quantile values to use. \n",
    "#### or\n",
    "as inverse of cdf is ppf , from scipy.stats we can call norm.ppf on (quantile, mean, standard_error= std of the boorstrap distribution) of the bootstrap distribution  \n",
    "<code>from scipy.stats import norm\n",
    "lower = norm.ppf(0.025, loc=point_estimate, scale=std_error)\n",
    "upper = norm.ppf(0.975, loc=point_estimate, scale=std_error)\n",
    "print((lower, upper))</code>"
   ]
  },
  {
   "cell_type": "markdown",
   "id": "44dba57a",
   "metadata": {},
   "source": [
    "### Q.\n",
    "- Generate a 95% confidence interval using the quantile method on the bootstrap distribution, setting the 0.025 quantile as lower_quant and the 0.975 quantile as upper_quant\n",
    "- Generate a 95% confidence interval using the standard error method from the bootstrap distribution.\n",
    "- Calculate point_estimate as the mean of bootstrap_distribution, and standard_error as the standard deviation of bootstrap_distribution.\n",
    "- Calculate lower_se as the 0.025 quantile of an inv. CDF from a normal distribution with mean point_estimate and standard deviation standard_error.\n",
    "- Calculate upper_se as the 0.975 quantile of that same inv. CDF"
   ]
  },
  {
   "cell_type": "code",
   "execution_count": 77,
   "id": "c7f4c012",
   "metadata": {},
   "outputs": [],
   "source": [
    "bootstrap_distribution = mean_resample_2000"
   ]
  },
  {
   "cell_type": "code",
   "execution_count": 78,
   "id": "d4a0a09d",
   "metadata": {},
   "outputs": [
    {
     "name": "stdout",
     "output_type": "stream",
     "text": [
      "(54.600795, 55.19941)\n"
     ]
    }
   ],
   "source": [
    "# Generate a 95% confidence interval using the quantile method\n",
    "lower_quant = np.quantile(bootstrap_distribution, 0.025)\n",
    "upper_quant = np.quantile(bootstrap_distribution, 0.975)\n",
    "\n",
    "# Print quantile method confidence interval\n",
    "print((lower_quant, upper_quant))"
   ]
  },
  {
   "cell_type": "code",
   "execution_count": 79,
   "id": "05693bff",
   "metadata": {},
   "outputs": [],
   "source": [
    "# Generate a 95% confidence interval using the standard error method from the bootstrap distribution.\n",
    "mean_dist_strap = np.mean(bootstrap_distribution)\n",
    "std_dist_strap = np.std(bootstrap_distribution, ddof = 1) # the amount named standard error"
   ]
  },
  {
   "cell_type": "code",
   "execution_count": 85,
   "id": "9ebf5ff5",
   "metadata": {},
   "outputs": [
    {
     "name": "stdout",
     "output_type": "stream",
     "text": [
      "(54.59475434905852, 55.20516825094148)\n"
     ]
    }
   ],
   "source": [
    "from scipy.stats import norm \n",
    "lower_quant = norm.ppf(.025, mean_dist_strap, std_dist_strap)\n",
    "upper_quant = norm.ppf(.975, mean_dist_strap, std_dist_strap)\n",
    "print((lower_quant, upper_quant))"
   ]
  },
  {
   "cell_type": "code",
   "execution_count": null,
   "id": "0dd96a7c",
   "metadata": {},
   "outputs": [],
   "source": []
  }
 ],
 "metadata": {
  "kernelspec": {
   "display_name": "Python 3 (ipykernel)",
   "language": "python",
   "name": "python3"
  },
  "language_info": {
   "codemirror_mode": {
    "name": "ipython",
    "version": 3
   },
   "file_extension": ".py",
   "mimetype": "text/x-python",
   "name": "python",
   "nbconvert_exporter": "python",
   "pygments_lexer": "ipython3",
   "version": "3.8.13"
  }
 },
 "nbformat": 4,
 "nbformat_minor": 5
}
