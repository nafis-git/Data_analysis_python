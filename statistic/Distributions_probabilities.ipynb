{
 "cells": [
  {
   "cell_type": "markdown",
   "id": "1468534f",
   "metadata": {},
   "source": [
    "# Calculating probabilities"
   ]
  },
  {
   "cell_type": "markdown",
   "id": "17058e90",
   "metadata": {},
   "source": [
    "This dataset comes from an Iranian telecom company, with each row representing a customer over a year period. Along with a churn label, there is information on the customers' activity, such as call failures and subscription length. I added some smaple data to have a normal distributaion for age groups"
   ]
  },
  {
   "cell_type": "markdown",
   "id": "7240790f",
   "metadata": {},
   "source": [
    "<code> import numpy as np\n",
    "df_sample = df.sample(200)\n",
    "np.random.seed(120)\n",
    "df_sample['Age'] = np.random.randint(32,44,200)\n",
    "df_sample.reset_index(drop = True, inplace = True)\n",
    "df_s2 = df.sample(500)\n",
    "import numpy as np\n",
    "np.random.seed(120)\n",
    "df_s2['Age'] = np.random.randint(32,40,500)\n",
    "df_s3 = df.sample(200)\n",
    "df_s3.reset_index(drop = True, inplace= True)\n",
    "DF = pd.concat([df, df_sample, df_s2, df_s3], axis = 0)\n",
    "DF.to_csv('telecome_company_data.csv', index=False) </code>"
   ]
  },
  {
   "cell_type": "code",
   "execution_count": 1,
   "id": "81157a0b",
   "metadata": {},
   "outputs": [],
   "source": [
    "# the excel file has three headers, so it is multi-index header\n",
    "import pandas as pd\n",
    "df = pd.read_csv('c:/Users/nafis/Documents/Learn_data_python/telecome_company_data.csv')"
   ]
  },
  {
   "cell_type": "code",
   "execution_count": 2,
   "id": "86ca90f9",
   "metadata": {},
   "outputs": [
    {
     "data": {
      "text/html": [
       "<div>\n",
       "<style scoped>\n",
       "    .dataframe tbody tr th:only-of-type {\n",
       "        vertical-align: middle;\n",
       "    }\n",
       "\n",
       "    .dataframe tbody tr th {\n",
       "        vertical-align: top;\n",
       "    }\n",
       "\n",
       "    .dataframe thead th {\n",
       "        text-align: right;\n",
       "    }\n",
       "</style>\n",
       "<table border=\"1\" class=\"dataframe\">\n",
       "  <thead>\n",
       "    <tr style=\"text-align: right;\">\n",
       "      <th></th>\n",
       "      <th>Call Failure</th>\n",
       "      <th>Complains</th>\n",
       "      <th>Subscription Length</th>\n",
       "      <th>Charge Amount</th>\n",
       "      <th>Seconds of Use</th>\n",
       "      <th>Frequency of use</th>\n",
       "      <th>Frequency of SMS</th>\n",
       "      <th>Distinct Called Numbers</th>\n",
       "      <th>Age Group</th>\n",
       "      <th>Tariff Plan</th>\n",
       "      <th>Status</th>\n",
       "      <th>Age</th>\n",
       "      <th>Customer Value</th>\n",
       "      <th>Churn</th>\n",
       "    </tr>\n",
       "  </thead>\n",
       "  <tbody>\n",
       "    <tr>\n",
       "      <th>0</th>\n",
       "      <td>8</td>\n",
       "      <td>0</td>\n",
       "      <td>38</td>\n",
       "      <td>0</td>\n",
       "      <td>4370</td>\n",
       "      <td>71</td>\n",
       "      <td>5</td>\n",
       "      <td>17</td>\n",
       "      <td>3</td>\n",
       "      <td>1</td>\n",
       "      <td>1</td>\n",
       "      <td>30</td>\n",
       "      <td>197.640</td>\n",
       "      <td>0</td>\n",
       "    </tr>\n",
       "    <tr>\n",
       "      <th>1</th>\n",
       "      <td>0</td>\n",
       "      <td>0</td>\n",
       "      <td>39</td>\n",
       "      <td>0</td>\n",
       "      <td>318</td>\n",
       "      <td>5</td>\n",
       "      <td>7</td>\n",
       "      <td>4</td>\n",
       "      <td>2</td>\n",
       "      <td>1</td>\n",
       "      <td>2</td>\n",
       "      <td>25</td>\n",
       "      <td>46.035</td>\n",
       "      <td>0</td>\n",
       "    </tr>\n",
       "    <tr>\n",
       "      <th>2</th>\n",
       "      <td>10</td>\n",
       "      <td>0</td>\n",
       "      <td>37</td>\n",
       "      <td>0</td>\n",
       "      <td>2453</td>\n",
       "      <td>60</td>\n",
       "      <td>359</td>\n",
       "      <td>24</td>\n",
       "      <td>3</td>\n",
       "      <td>1</td>\n",
       "      <td>1</td>\n",
       "      <td>30</td>\n",
       "      <td>1536.520</td>\n",
       "      <td>0</td>\n",
       "    </tr>\n",
       "    <tr>\n",
       "      <th>3</th>\n",
       "      <td>10</td>\n",
       "      <td>0</td>\n",
       "      <td>38</td>\n",
       "      <td>0</td>\n",
       "      <td>4198</td>\n",
       "      <td>66</td>\n",
       "      <td>1</td>\n",
       "      <td>35</td>\n",
       "      <td>1</td>\n",
       "      <td>1</td>\n",
       "      <td>1</td>\n",
       "      <td>15</td>\n",
       "      <td>240.020</td>\n",
       "      <td>0</td>\n",
       "    </tr>\n",
       "    <tr>\n",
       "      <th>4</th>\n",
       "      <td>3</td>\n",
       "      <td>0</td>\n",
       "      <td>38</td>\n",
       "      <td>0</td>\n",
       "      <td>2393</td>\n",
       "      <td>58</td>\n",
       "      <td>2</td>\n",
       "      <td>33</td>\n",
       "      <td>1</td>\n",
       "      <td>1</td>\n",
       "      <td>1</td>\n",
       "      <td>15</td>\n",
       "      <td>145.805</td>\n",
       "      <td>0</td>\n",
       "    </tr>\n",
       "  </tbody>\n",
       "</table>\n",
       "</div>"
      ],
      "text/plain": [
       "   Call Failure  Complains  Subscription Length  Charge Amount  \\\n",
       "0             8          0                   38              0   \n",
       "1             0          0                   39              0   \n",
       "2            10          0                   37              0   \n",
       "3            10          0                   38              0   \n",
       "4             3          0                   38              0   \n",
       "\n",
       "   Seconds of Use  Frequency of use  Frequency of SMS  \\\n",
       "0            4370                71                 5   \n",
       "1             318                 5                 7   \n",
       "2            2453                60               359   \n",
       "3            4198                66                 1   \n",
       "4            2393                58                 2   \n",
       "\n",
       "   Distinct Called Numbers  Age Group  Tariff Plan  Status  Age  \\\n",
       "0                       17          3            1       1   30   \n",
       "1                        4          2            1       2   25   \n",
       "2                       24          3            1       1   30   \n",
       "3                       35          1            1       1   15   \n",
       "4                       33          1            1       1   15   \n",
       "\n",
       "   Customer Value  Churn  \n",
       "0         197.640      0  \n",
       "1          46.035      0  \n",
       "2        1536.520      0  \n",
       "3         240.020      0  \n",
       "4         145.805      0  "
      ]
     },
     "execution_count": 2,
     "metadata": {},
     "output_type": "execute_result"
    }
   ],
   "source": [
    "df.head()"
   ]
  },
  {
   "cell_type": "markdown",
   "id": "272520a6",
   "metadata": {},
   "source": [
    "### Q1. \n",
    "- Count the number of customers for each Age group\n",
    "- Calculate the probability of a customer to fall into a each age group\n",
    "- If you randomly select one of customers, what's the probability that the customer fall into age group 3 "
   ]
  },
  {
   "cell_type": "code",
   "execution_count": 113,
   "id": "4267af21",
   "metadata": {},
   "outputs": [
    {
     "data": {
      "text/plain": [
       "array([3, 2, 1, 4, 5], dtype=int64)"
      ]
     },
     "execution_count": 113,
     "metadata": {},
     "output_type": "execute_result"
    }
   ],
   "source": [
    "df['Age Group'].unique()"
   ]
  },
  {
   "cell_type": "code",
   "execution_count": 114,
   "id": "fe432c58",
   "metadata": {},
   "outputs": [
    {
     "data": {
      "text/plain": [
       "3    1018\n",
       "2     843\n",
       "4     259\n",
       "1     108\n",
       "5     100\n",
       "Name: Age Group, dtype: int64"
      ]
     },
     "execution_count": 114,
     "metadata": {},
     "output_type": "execute_result"
    }
   ],
   "source": [
    "# Count the number of customers for each Age group\n",
    "df['Age Group'].value_counts()"
   ]
  },
  {
   "cell_type": "code",
   "execution_count": 115,
   "id": "59cdea9e",
   "metadata": {},
   "outputs": [],
   "source": [
    "# Calculate the probability of a customer to fall into a each age group\n",
    "counts = df['Age Group'].value_counts()\n",
    "total_counts = counts.sum()\n",
    "prob_age_group = counts/total_counts"
   ]
  },
  {
   "cell_type": "code",
   "execution_count": 116,
   "id": "534df7d9",
   "metadata": {},
   "outputs": [
    {
     "data": {
      "text/plain": [
       "3    0.437285\n",
       "2    0.362113\n",
       "4    0.111254\n",
       "1    0.046392\n",
       "5    0.042955\n",
       "Name: Age Group, dtype: float64"
      ]
     },
     "execution_count": 116,
     "metadata": {},
     "output_type": "execute_result"
    }
   ],
   "source": [
    "prob_age_group"
   ]
  },
  {
   "cell_type": "code",
   "execution_count": 117,
   "id": "511ad165",
   "metadata": {},
   "outputs": [
    {
     "data": {
      "text/plain": [
       "3    1018\n",
       "Name: Age Group, dtype: int64"
      ]
     },
     "execution_count": 117,
     "metadata": {},
     "output_type": "execute_result"
    }
   ],
   "source": [
    "counts[counts.index == 3]"
   ]
  },
  {
   "cell_type": "code",
   "execution_count": 118,
   "id": "6d839cd1",
   "metadata": {},
   "outputs": [
    {
     "data": {
      "text/plain": [
       "3    43.728522\n",
       "Name: Age Group, dtype: float64"
      ]
     },
     "execution_count": 118,
     "metadata": {},
     "output_type": "execute_result"
    }
   ],
   "source": [
    "#  If you randomly select one of customers, what's the probability that the customer fall into age group 3 \n",
    "prob_3  = (counts[counts.index == 3]/total_counts)*100\n",
    "prob_3"
   ]
  },
  {
   "cell_type": "markdown",
   "id": "452c4d5b",
   "metadata": {},
   "source": [
    "### Q2. Sampling data\n",
    "- Take a sample of 5 customers without replacement and store them as sample_without_replacement\n",
    "- Take a sample of 5 deals with replacement"
   ]
  },
  {
   "cell_type": "code",
   "execution_count": 119,
   "id": "7724d727",
   "metadata": {},
   "outputs": [
    {
     "data": {
      "text/html": [
       "<div>\n",
       "<style scoped>\n",
       "    .dataframe tbody tr th:only-of-type {\n",
       "        vertical-align: middle;\n",
       "    }\n",
       "\n",
       "    .dataframe tbody tr th {\n",
       "        vertical-align: top;\n",
       "    }\n",
       "\n",
       "    .dataframe thead th {\n",
       "        text-align: right;\n",
       "    }\n",
       "</style>\n",
       "<table border=\"1\" class=\"dataframe\">\n",
       "  <thead>\n",
       "    <tr style=\"text-align: right;\">\n",
       "      <th></th>\n",
       "      <th>Call Failure</th>\n",
       "      <th>Complains</th>\n",
       "      <th>Subscription Length</th>\n",
       "      <th>Charge Amount</th>\n",
       "      <th>Seconds of Use</th>\n",
       "      <th>Frequency of use</th>\n",
       "      <th>Frequency of SMS</th>\n",
       "      <th>Distinct Called Numbers</th>\n",
       "      <th>Age Group</th>\n",
       "      <th>Tariff Plan</th>\n",
       "      <th>Status</th>\n",
       "      <th>Age</th>\n",
       "      <th>Customer Value</th>\n",
       "      <th>Churn</th>\n",
       "    </tr>\n",
       "  </thead>\n",
       "  <tbody>\n",
       "    <tr>\n",
       "      <th>1594</th>\n",
       "      <td>1</td>\n",
       "      <td>0</td>\n",
       "      <td>30</td>\n",
       "      <td>0</td>\n",
       "      <td>905</td>\n",
       "      <td>12</td>\n",
       "      <td>31</td>\n",
       "      <td>7</td>\n",
       "      <td>4</td>\n",
       "      <td>1</td>\n",
       "      <td>2</td>\n",
       "      <td>34</td>\n",
       "      <td>100.425</td>\n",
       "      <td>0</td>\n",
       "    </tr>\n",
       "    <tr>\n",
       "      <th>1989</th>\n",
       "      <td>7</td>\n",
       "      <td>0</td>\n",
       "      <td>36</td>\n",
       "      <td>0</td>\n",
       "      <td>2078</td>\n",
       "      <td>43</td>\n",
       "      <td>25</td>\n",
       "      <td>28</td>\n",
       "      <td>3</td>\n",
       "      <td>1</td>\n",
       "      <td>2</td>\n",
       "      <td>33</td>\n",
       "      <td>184.840</td>\n",
       "      <td>1</td>\n",
       "    </tr>\n",
       "    <tr>\n",
       "      <th>313</th>\n",
       "      <td>0</td>\n",
       "      <td>0</td>\n",
       "      <td>32</td>\n",
       "      <td>0</td>\n",
       "      <td>2835</td>\n",
       "      <td>17</td>\n",
       "      <td>468</td>\n",
       "      <td>2</td>\n",
       "      <td>3</td>\n",
       "      <td>1</td>\n",
       "      <td>1</td>\n",
       "      <td>30</td>\n",
       "      <td>1986.080</td>\n",
       "      <td>0</td>\n",
       "    </tr>\n",
       "    <tr>\n",
       "      <th>1662</th>\n",
       "      <td>0</td>\n",
       "      <td>0</td>\n",
       "      <td>24</td>\n",
       "      <td>0</td>\n",
       "      <td>1263</td>\n",
       "      <td>33</td>\n",
       "      <td>23</td>\n",
       "      <td>66</td>\n",
       "      <td>4</td>\n",
       "      <td>1</td>\n",
       "      <td>1</td>\n",
       "      <td>32</td>\n",
       "      <td>89.900</td>\n",
       "      <td>0</td>\n",
       "    </tr>\n",
       "    <tr>\n",
       "      <th>806</th>\n",
       "      <td>6</td>\n",
       "      <td>0</td>\n",
       "      <td>43</td>\n",
       "      <td>1</td>\n",
       "      <td>2360</td>\n",
       "      <td>45</td>\n",
       "      <td>293</td>\n",
       "      <td>19</td>\n",
       "      <td>4</td>\n",
       "      <td>1</td>\n",
       "      <td>1</td>\n",
       "      <td>45</td>\n",
       "      <td>792.625</td>\n",
       "      <td>0</td>\n",
       "    </tr>\n",
       "  </tbody>\n",
       "</table>\n",
       "</div>"
      ],
      "text/plain": [
       "      Call Failure  Complains  Subscription Length  Charge Amount  \\\n",
       "1594             1          0                   30              0   \n",
       "1989             7          0                   36              0   \n",
       "313              0          0                   32              0   \n",
       "1662             0          0                   24              0   \n",
       "806              6          0                   43              1   \n",
       "\n",
       "      Seconds of Use  Frequency of use  Frequency of SMS  \\\n",
       "1594             905                12                31   \n",
       "1989            2078                43                25   \n",
       "313             2835                17               468   \n",
       "1662            1263                33                23   \n",
       "806             2360                45               293   \n",
       "\n",
       "      Distinct Called Numbers  Age Group  Tariff Plan  Status  Age  \\\n",
       "1594                        7          4            1       2   34   \n",
       "1989                       28          3            1       2   33   \n",
       "313                         2          3            1       1   30   \n",
       "1662                       66          4            1       1   32   \n",
       "806                        19          4            1       1   45   \n",
       "\n",
       "      Customer Value  Churn  \n",
       "1594         100.425      0  \n",
       "1989         184.840      1  \n",
       "313         1986.080      0  \n",
       "1662          89.900      0  \n",
       "806          792.625      0  "
      ]
     },
     "execution_count": 119,
     "metadata": {},
     "output_type": "execute_result"
    }
   ],
   "source": [
    "# Take a sample of 5 customers without replacement and store them as sample_without_replacement\n",
    "# set random seed enabiling replication\n",
    "import numpy as np\n",
    "np.random.seed(20)\n",
    "sample_without_replacement = df.sample(5, replace = False)\n",
    "sample_without_replacement"
   ]
  },
  {
   "cell_type": "code",
   "execution_count": 120,
   "id": "d1c6dd51",
   "metadata": {},
   "outputs": [
    {
     "data": {
      "text/html": [
       "<div>\n",
       "<style scoped>\n",
       "    .dataframe tbody tr th:only-of-type {\n",
       "        vertical-align: middle;\n",
       "    }\n",
       "\n",
       "    .dataframe tbody tr th {\n",
       "        vertical-align: top;\n",
       "    }\n",
       "\n",
       "    .dataframe thead th {\n",
       "        text-align: right;\n",
       "    }\n",
       "</style>\n",
       "<table border=\"1\" class=\"dataframe\">\n",
       "  <thead>\n",
       "    <tr style=\"text-align: right;\">\n",
       "      <th></th>\n",
       "      <th>Call Failure</th>\n",
       "      <th>Complains</th>\n",
       "      <th>Subscription Length</th>\n",
       "      <th>Charge Amount</th>\n",
       "      <th>Seconds of Use</th>\n",
       "      <th>Frequency of use</th>\n",
       "      <th>Frequency of SMS</th>\n",
       "      <th>Distinct Called Numbers</th>\n",
       "      <th>Age Group</th>\n",
       "      <th>Tariff Plan</th>\n",
       "      <th>Status</th>\n",
       "      <th>Age</th>\n",
       "      <th>Customer Value</th>\n",
       "      <th>Churn</th>\n",
       "    </tr>\n",
       "  </thead>\n",
       "  <tbody>\n",
       "    <tr>\n",
       "      <th>1230</th>\n",
       "      <td>0</td>\n",
       "      <td>0</td>\n",
       "      <td>35</td>\n",
       "      <td>1</td>\n",
       "      <td>6560</td>\n",
       "      <td>93</td>\n",
       "      <td>17</td>\n",
       "      <td>24</td>\n",
       "      <td>4</td>\n",
       "      <td>1</td>\n",
       "      <td>1</td>\n",
       "      <td>45</td>\n",
       "      <td>208.825</td>\n",
       "      <td>0</td>\n",
       "    </tr>\n",
       "    <tr>\n",
       "      <th>515</th>\n",
       "      <td>0</td>\n",
       "      <td>0</td>\n",
       "      <td>37</td>\n",
       "      <td>0</td>\n",
       "      <td>5900</td>\n",
       "      <td>76</td>\n",
       "      <td>165</td>\n",
       "      <td>11</td>\n",
       "      <td>3</td>\n",
       "      <td>1</td>\n",
       "      <td>1</td>\n",
       "      <td>30</td>\n",
       "      <td>899.040</td>\n",
       "      <td>0</td>\n",
       "    </tr>\n",
       "    <tr>\n",
       "      <th>2296</th>\n",
       "      <td>11</td>\n",
       "      <td>0</td>\n",
       "      <td>41</td>\n",
       "      <td>1</td>\n",
       "      <td>2533</td>\n",
       "      <td>62</td>\n",
       "      <td>369</td>\n",
       "      <td>28</td>\n",
       "      <td>3</td>\n",
       "      <td>1</td>\n",
       "      <td>1</td>\n",
       "      <td>18</td>\n",
       "      <td>1579.800</td>\n",
       "      <td>0</td>\n",
       "    </tr>\n",
       "    <tr>\n",
       "      <th>841</th>\n",
       "      <td>2</td>\n",
       "      <td>0</td>\n",
       "      <td>31</td>\n",
       "      <td>0</td>\n",
       "      <td>825</td>\n",
       "      <td>16</td>\n",
       "      <td>29</td>\n",
       "      <td>4</td>\n",
       "      <td>4</td>\n",
       "      <td>1</td>\n",
       "      <td>2</td>\n",
       "      <td>45</td>\n",
       "      <td>93.525</td>\n",
       "      <td>0</td>\n",
       "    </tr>\n",
       "    <tr>\n",
       "      <th>465</th>\n",
       "      <td>7</td>\n",
       "      <td>0</td>\n",
       "      <td>37</td>\n",
       "      <td>3</td>\n",
       "      <td>7100</td>\n",
       "      <td>96</td>\n",
       "      <td>207</td>\n",
       "      <td>41</td>\n",
       "      <td>3</td>\n",
       "      <td>1</td>\n",
       "      <td>1</td>\n",
       "      <td>30</td>\n",
       "      <td>1115.840</td>\n",
       "      <td>0</td>\n",
       "    </tr>\n",
       "  </tbody>\n",
       "</table>\n",
       "</div>"
      ],
      "text/plain": [
       "      Call Failure  Complains  Subscription Length  Charge Amount  \\\n",
       "1230             0          0                   35              1   \n",
       "515              0          0                   37              0   \n",
       "2296            11          0                   41              1   \n",
       "841              2          0                   31              0   \n",
       "465              7          0                   37              3   \n",
       "\n",
       "      Seconds of Use  Frequency of use  Frequency of SMS  \\\n",
       "1230            6560                93                17   \n",
       "515             5900                76               165   \n",
       "2296            2533                62               369   \n",
       "841              825                16                29   \n",
       "465             7100                96               207   \n",
       "\n",
       "      Distinct Called Numbers  Age Group  Tariff Plan  Status  Age  \\\n",
       "1230                       24          4            1       1   45   \n",
       "515                        11          3            1       1   30   \n",
       "2296                       28          3            1       1   18   \n",
       "841                         4          4            1       2   45   \n",
       "465                        41          3            1       1   30   \n",
       "\n",
       "      Customer Value  Churn  \n",
       "1230         208.825      0  \n",
       "515          899.040      0  \n",
       "2296        1579.800      0  \n",
       "841           93.525      0  \n",
       "465         1115.840      0  "
      ]
     },
     "execution_count": 120,
     "metadata": {},
     "output_type": "execute_result"
    }
   ],
   "source": [
    "# Take a sample of 5 deals with replacement\n",
    "sample_with_replacement = df.sample(5, replace = True)\n",
    "sample_with_replacement"
   ]
  },
  {
   "cell_type": "markdown",
   "id": "dfae9f72",
   "metadata": {},
   "source": [
    "## Discrete distributions"
   ]
  },
  {
   "cell_type": "markdown",
   "id": "6d762b5c",
   "metadata": {},
   "source": [
    "- Probability distribution : describe the probability of each possible outcome in a scenario\n",
    "- Expected value: mean of a probability distribution: for example for a fair dice it is :\n",
    "> (1 × 1/6) + (2 × 1/6) + (3 × 1/6) + (4 ×1/6 ) + (5 × 1/6) + (6 ×1/6 ) = 3.5\n",
    "- Visualizing a probability distribution: plot a diagram with probabilty of each outcome in y-axis and the outcome in x-axis, the probabilty is surface under the plot\n",
    "P(die roll)≤2=1/3\n",
    "<img src=probability_plot.png>\n",
    "\n",
    "- \n"
   ]
  },
  {
   "cell_type": "code",
   "execution_count": 121,
   "id": "24c854ed",
   "metadata": {},
   "outputs": [],
   "source": [
    "# each side of a dice has a similar probability of 1/6 or .166667\n",
    "d = [[1, 0.166667],\n",
    "[2, 0.166667],\n",
    "[3, 0.166667],\n",
    "[4 ,0.166667],\n",
    "[5, 0.166667],\n",
    "[6, 0.166667 ]]\n"
   ]
  },
  {
   "cell_type": "code",
   "execution_count": 122,
   "id": "36151f6a",
   "metadata": {},
   "outputs": [
    {
     "data": {
      "text/html": [
       "<div>\n",
       "<style scoped>\n",
       "    .dataframe tbody tr th:only-of-type {\n",
       "        vertical-align: middle;\n",
       "    }\n",
       "\n",
       "    .dataframe tbody tr th {\n",
       "        vertical-align: top;\n",
       "    }\n",
       "\n",
       "    .dataframe thead th {\n",
       "        text-align: right;\n",
       "    }\n",
       "</style>\n",
       "<table border=\"1\" class=\"dataframe\">\n",
       "  <thead>\n",
       "    <tr style=\"text-align: right;\">\n",
       "      <th></th>\n",
       "      <th>number</th>\n",
       "      <th>prob</th>\n",
       "    </tr>\n",
       "  </thead>\n",
       "  <tbody>\n",
       "    <tr>\n",
       "      <th>0</th>\n",
       "      <td>1</td>\n",
       "      <td>0.166667</td>\n",
       "    </tr>\n",
       "    <tr>\n",
       "      <th>1</th>\n",
       "      <td>2</td>\n",
       "      <td>0.166667</td>\n",
       "    </tr>\n",
       "    <tr>\n",
       "      <th>2</th>\n",
       "      <td>3</td>\n",
       "      <td>0.166667</td>\n",
       "    </tr>\n",
       "    <tr>\n",
       "      <th>3</th>\n",
       "      <td>4</td>\n",
       "      <td>0.166667</td>\n",
       "    </tr>\n",
       "    <tr>\n",
       "      <th>4</th>\n",
       "      <td>5</td>\n",
       "      <td>0.166667</td>\n",
       "    </tr>\n",
       "    <tr>\n",
       "      <th>5</th>\n",
       "      <td>6</td>\n",
       "      <td>0.166667</td>\n",
       "    </tr>\n",
       "  </tbody>\n",
       "</table>\n",
       "</div>"
      ],
      "text/plain": [
       "   number      prob\n",
       "0       1  0.166667\n",
       "1       2  0.166667\n",
       "2       3  0.166667\n",
       "3       4  0.166667\n",
       "4       5  0.166667\n",
       "5       6  0.166667"
      ]
     },
     "execution_count": 122,
     "metadata": {},
     "output_type": "execute_result"
    }
   ],
   "source": [
    " df_dice = pd. DataFrame(d, columns =['number', 'prob'])\n",
    "df_dice"
   ]
  },
  {
   "cell_type": "code",
   "execution_count": 123,
   "id": "f5f35868",
   "metadata": {},
   "outputs": [
    {
     "data": {
      "text/html": [
       "<div>\n",
       "<style scoped>\n",
       "    .dataframe tbody tr th:only-of-type {\n",
       "        vertical-align: middle;\n",
       "    }\n",
       "\n",
       "    .dataframe tbody tr th {\n",
       "        vertical-align: top;\n",
       "    }\n",
       "\n",
       "    .dataframe thead th {\n",
       "        text-align: right;\n",
       "    }\n",
       "</style>\n",
       "<table border=\"1\" class=\"dataframe\">\n",
       "  <thead>\n",
       "    <tr style=\"text-align: right;\">\n",
       "      <th></th>\n",
       "      <th>number</th>\n",
       "      <th>prob</th>\n",
       "    </tr>\n",
       "  </thead>\n",
       "  <tbody>\n",
       "    <tr>\n",
       "      <th>2</th>\n",
       "      <td>3</td>\n",
       "      <td>0.166667</td>\n",
       "    </tr>\n",
       "    <tr>\n",
       "      <th>3</th>\n",
       "      <td>4</td>\n",
       "      <td>0.166667</td>\n",
       "    </tr>\n",
       "    <tr>\n",
       "      <th>2</th>\n",
       "      <td>3</td>\n",
       "      <td>0.166667</td>\n",
       "    </tr>\n",
       "    <tr>\n",
       "      <th>4</th>\n",
       "      <td>5</td>\n",
       "      <td>0.166667</td>\n",
       "    </tr>\n",
       "    <tr>\n",
       "      <th>4</th>\n",
       "      <td>5</td>\n",
       "      <td>0.166667</td>\n",
       "    </tr>\n",
       "    <tr>\n",
       "      <th>3</th>\n",
       "      <td>4</td>\n",
       "      <td>0.166667</td>\n",
       "    </tr>\n",
       "    <tr>\n",
       "      <th>5</th>\n",
       "      <td>6</td>\n",
       "      <td>0.166667</td>\n",
       "    </tr>\n",
       "    <tr>\n",
       "      <th>3</th>\n",
       "      <td>4</td>\n",
       "      <td>0.166667</td>\n",
       "    </tr>\n",
       "    <tr>\n",
       "      <th>0</th>\n",
       "      <td>1</td>\n",
       "      <td>0.166667</td>\n",
       "    </tr>\n",
       "    <tr>\n",
       "      <th>4</th>\n",
       "      <td>5</td>\n",
       "      <td>0.166667</td>\n",
       "    </tr>\n",
       "  </tbody>\n",
       "</table>\n",
       "</div>"
      ],
      "text/plain": [
       "   number      prob\n",
       "2       3  0.166667\n",
       "3       4  0.166667\n",
       "2       3  0.166667\n",
       "4       5  0.166667\n",
       "4       5  0.166667\n",
       "3       4  0.166667\n",
       "5       6  0.166667\n",
       "3       4  0.166667\n",
       "0       1  0.166667\n",
       "4       5  0.166667"
      ]
     },
     "execution_count": 123,
     "metadata": {},
     "output_type": "execute_result"
    }
   ],
   "source": [
    "# sample of 10 with replacment from dice dataframe\n",
    "sample_10 = df_dice.sample(10,replace = True)\n",
    "sample_10"
   ]
  },
  {
   "cell_type": "code",
   "execution_count": 124,
   "id": "5c32e767",
   "metadata": {},
   "outputs": [
    {
     "data": {
      "text/plain": [
       "<AxesSubplot:>"
      ]
     },
     "execution_count": 124,
     "metadata": {},
     "output_type": "execute_result"
    },
    {
     "data": {
      "image/png": "[encoded data removed]",
      "text/plain": [
       "<Figure size 432x288 with 1 Axes>"
      ]
     },
     "metadata": {
      "needs_background": "light"
     },
     "output_type": "display_data"
    }
   ],
   "source": [
    "import matplotlib.pyplot as plt\n",
    "sample_10['number'].hist(bins = np.linspace(1,7,7))\n"
   ]
  },
  {
   "cell_type": "code",
   "execution_count": 125,
   "id": "5536d850",
   "metadata": {},
   "outputs": [
    {
     "data": {
      "text/plain": [
       "4.0"
      ]
     },
     "execution_count": 125,
     "metadata": {},
     "output_type": "execute_result"
    }
   ],
   "source": [
    "np.mean(sample_10['number'])\n",
    "# theorically in a uniform distibution the mean is mean(df_dice['number']) = 3.5"
   ]
  },
  {
   "cell_type": "code",
   "execution_count": 126,
   "id": "e9440693",
   "metadata": {},
   "outputs": [
    {
     "data": {
      "text/plain": [
       "<AxesSubplot:>"
      ]
     },
     "execution_count": 126,
     "metadata": {},
     "output_type": "execute_result"
    },
    {
     "data": {
      "image/png": "[encoded data removed]",
      "text/plain": [
       "<Figure size 432x288 with 1 Axes>"
      ]
     },
     "metadata": {
      "needs_background": "light"
     },
     "output_type": "display_data"
    }
   ],
   "source": [
    "# increase number of samples to 100\n",
    "sample_100  = df_dice.sample(100, replace = True)\n",
    "sample_100['number'].hist(bins = np.linspace(1,7,7))"
   ]
  },
  {
   "cell_type": "code",
   "execution_count": 127,
   "id": "4bce08f9",
   "metadata": {},
   "outputs": [
    {
     "data": {
      "text/plain": [
       "3.25"
      ]
     },
     "execution_count": 127,
     "metadata": {},
     "output_type": "execute_result"
    }
   ],
   "source": [
    "np.mean(sample_100['number'])\n",
    "# with increase of number of samples it gets more similar to theroy to expected value of 3.5"
   ]
  },
  {
   "cell_type": "code",
   "execution_count": 128,
   "id": "14f9c0c0",
   "metadata": {},
   "outputs": [
    {
     "data": {
      "text/plain": [
       "<AxesSubplot:>"
      ]
     },
     "execution_count": 128,
     "metadata": {},
     "output_type": "execute_result"
    },
    {
     "data": {
      "image/png": "[encoded data removed]",
      "text/plain": [
       "<Figure size 432x288 with 1 Axes>"
      ]
     },
     "metadata": {
      "needs_background": "light"
     },
     "output_type": "display_data"
    }
   ],
   "source": [
    "# increase number of samples to 100\n",
    "sample_1000  = df_dice.sample(1000, replace = True)\n",
    "sample_1000['number'].hist(bins = np.linspace(1,7,7))"
   ]
  },
  {
   "cell_type": "code",
   "execution_count": 129,
   "id": "e676a3c9",
   "metadata": {},
   "outputs": [
    {
     "data": {
      "text/plain": [
       "3.467"
      ]
     },
     "execution_count": 129,
     "metadata": {},
     "output_type": "execute_result"
    }
   ],
   "source": [
    "np.mean(sample_1000['number'])"
   ]
  },
  {
   "cell_type": "markdown",
   "id": "cff7074e",
   "metadata": {},
   "source": [
    "#### Law of large numbers:\n",
    ">As the size of your sample increases, the sample mean will approach the expected value."
   ]
  },
  {
   "cell_type": "markdown",
   "id": "c2f8a439",
   "metadata": {},
   "source": [
    "### Q1\n",
    "- Create a histogram of the Age Group column of telecome company, setting bins to the group numbers\n",
    "- we calculated before prob_age_group whihc is count of the number of each Age_group divide by the number of rows indicating number of unique customers to calculate the probability of randomly selecting a group of each size. \n",
    "- Calculate the expected value of the prob_age_group, which represents the expected customer group, by multiplying the age_group by the prob and taking the sum."
   ]
  },
  {
   "cell_type": "code",
   "execution_count": 130,
   "id": "6a92bceb",
   "metadata": {},
   "outputs": [
    {
     "data": {
      "text/html": [
       "<div>\n",
       "<style scoped>\n",
       "    .dataframe tbody tr th:only-of-type {\n",
       "        vertical-align: middle;\n",
       "    }\n",
       "\n",
       "    .dataframe tbody tr th {\n",
       "        vertical-align: top;\n",
       "    }\n",
       "\n",
       "    .dataframe thead th {\n",
       "        text-align: right;\n",
       "    }\n",
       "</style>\n",
       "<table border=\"1\" class=\"dataframe\">\n",
       "  <thead>\n",
       "    <tr style=\"text-align: right;\">\n",
       "      <th></th>\n",
       "      <th>Call Failure</th>\n",
       "      <th>Complains</th>\n",
       "      <th>Subscription Length</th>\n",
       "      <th>Charge Amount</th>\n",
       "      <th>Seconds of Use</th>\n",
       "      <th>Frequency of use</th>\n",
       "      <th>Frequency of SMS</th>\n",
       "      <th>Distinct Called Numbers</th>\n",
       "      <th>Age Group</th>\n",
       "      <th>Tariff Plan</th>\n",
       "      <th>Status</th>\n",
       "      <th>Age</th>\n",
       "      <th>Customer Value</th>\n",
       "      <th>Churn</th>\n",
       "    </tr>\n",
       "  </thead>\n",
       "  <tbody>\n",
       "    <tr>\n",
       "      <th>0</th>\n",
       "      <td>8</td>\n",
       "      <td>0</td>\n",
       "      <td>38</td>\n",
       "      <td>0</td>\n",
       "      <td>4370</td>\n",
       "      <td>71</td>\n",
       "      <td>5</td>\n",
       "      <td>17</td>\n",
       "      <td>3</td>\n",
       "      <td>1</td>\n",
       "      <td>1</td>\n",
       "      <td>30</td>\n",
       "      <td>197.640</td>\n",
       "      <td>0</td>\n",
       "    </tr>\n",
       "    <tr>\n",
       "      <th>1</th>\n",
       "      <td>0</td>\n",
       "      <td>0</td>\n",
       "      <td>39</td>\n",
       "      <td>0</td>\n",
       "      <td>318</td>\n",
       "      <td>5</td>\n",
       "      <td>7</td>\n",
       "      <td>4</td>\n",
       "      <td>2</td>\n",
       "      <td>1</td>\n",
       "      <td>2</td>\n",
       "      <td>25</td>\n",
       "      <td>46.035</td>\n",
       "      <td>0</td>\n",
       "    </tr>\n",
       "    <tr>\n",
       "      <th>2</th>\n",
       "      <td>10</td>\n",
       "      <td>0</td>\n",
       "      <td>37</td>\n",
       "      <td>0</td>\n",
       "      <td>2453</td>\n",
       "      <td>60</td>\n",
       "      <td>359</td>\n",
       "      <td>24</td>\n",
       "      <td>3</td>\n",
       "      <td>1</td>\n",
       "      <td>1</td>\n",
       "      <td>30</td>\n",
       "      <td>1536.520</td>\n",
       "      <td>0</td>\n",
       "    </tr>\n",
       "    <tr>\n",
       "      <th>3</th>\n",
       "      <td>10</td>\n",
       "      <td>0</td>\n",
       "      <td>38</td>\n",
       "      <td>0</td>\n",
       "      <td>4198</td>\n",
       "      <td>66</td>\n",
       "      <td>1</td>\n",
       "      <td>35</td>\n",
       "      <td>1</td>\n",
       "      <td>1</td>\n",
       "      <td>1</td>\n",
       "      <td>15</td>\n",
       "      <td>240.020</td>\n",
       "      <td>0</td>\n",
       "    </tr>\n",
       "    <tr>\n",
       "      <th>4</th>\n",
       "      <td>3</td>\n",
       "      <td>0</td>\n",
       "      <td>38</td>\n",
       "      <td>0</td>\n",
       "      <td>2393</td>\n",
       "      <td>58</td>\n",
       "      <td>2</td>\n",
       "      <td>33</td>\n",
       "      <td>1</td>\n",
       "      <td>1</td>\n",
       "      <td>1</td>\n",
       "      <td>15</td>\n",
       "      <td>145.805</td>\n",
       "      <td>0</td>\n",
       "    </tr>\n",
       "  </tbody>\n",
       "</table>\n",
       "</div>"
      ],
      "text/plain": [
       "   Call Failure  Complains  Subscription Length  Charge Amount  \\\n",
       "0             8          0                   38              0   \n",
       "1             0          0                   39              0   \n",
       "2            10          0                   37              0   \n",
       "3            10          0                   38              0   \n",
       "4             3          0                   38              0   \n",
       "\n",
       "   Seconds of Use  Frequency of use  Frequency of SMS  \\\n",
       "0            4370                71                 5   \n",
       "1             318                 5                 7   \n",
       "2            2453                60               359   \n",
       "3            4198                66                 1   \n",
       "4            2393                58                 2   \n",
       "\n",
       "   Distinct Called Numbers  Age Group  Tariff Plan  Status  Age  \\\n",
       "0                       17          3            1       1   30   \n",
       "1                        4          2            1       2   25   \n",
       "2                       24          3            1       1   30   \n",
       "3                       35          1            1       1   15   \n",
       "4                       33          1            1       1   15   \n",
       "\n",
       "   Customer Value  Churn  \n",
       "0         197.640      0  \n",
       "1          46.035      0  \n",
       "2        1536.520      0  \n",
       "3         240.020      0  \n",
       "4         145.805      0  "
      ]
     },
     "execution_count": 130,
     "metadata": {},
     "output_type": "execute_result"
    }
   ],
   "source": [
    "# dataframe of telecome company\n",
    "df.head()"
   ]
  },
  {
   "cell_type": "code",
   "execution_count": 131,
   "id": "2cc3168a",
   "metadata": {},
   "outputs": [
    {
     "data": {
      "text/plain": [
       "<AxesSubplot:>"
      ]
     },
     "execution_count": 131,
     "metadata": {},
     "output_type": "execute_result"
    },
    {
     "data": {
      "image/png": "[encoded data removed]",
      "text/plain": [
       "<Figure size 432x288 with 1 Axes>"
      ]
     },
     "metadata": {
      "needs_background": "light"
     },
     "output_type": "display_data"
    }
   ],
   "source": [
    "# Create a histogram of the Age Group column of telecome company, setting bins to the group numbers\n",
    "bins = sorted(df['Age Group'].unique())\n",
    "df['Age Group'].hist(bins = bins)"
   ]
  },
  {
   "cell_type": "code",
   "execution_count": 132,
   "id": "70fdc7fa",
   "metadata": {},
   "outputs": [],
   "source": [
    "# reset index\n",
    "prob_age_group = prob_age_group.reset_index()\n",
    "# change column names\n",
    "prob_age_group.columns = ['age_group', 'prob']"
   ]
  },
  {
   "cell_type": "code",
   "execution_count": 133,
   "id": "5c4cd826",
   "metadata": {},
   "outputs": [
    {
     "data": {
      "text/html": [
       "<div>\n",
       "<style scoped>\n",
       "    .dataframe tbody tr th:only-of-type {\n",
       "        vertical-align: middle;\n",
       "    }\n",
       "\n",
       "    .dataframe tbody tr th {\n",
       "        vertical-align: top;\n",
       "    }\n",
       "\n",
       "    .dataframe thead th {\n",
       "        text-align: right;\n",
       "    }\n",
       "</style>\n",
       "<table border=\"1\" class=\"dataframe\">\n",
       "  <thead>\n",
       "    <tr style=\"text-align: right;\">\n",
       "      <th></th>\n",
       "      <th>age_group</th>\n",
       "      <th>prob</th>\n",
       "    </tr>\n",
       "  </thead>\n",
       "  <tbody>\n",
       "    <tr>\n",
       "      <th>0</th>\n",
       "      <td>3</td>\n",
       "      <td>0.437285</td>\n",
       "    </tr>\n",
       "    <tr>\n",
       "      <th>1</th>\n",
       "      <td>2</td>\n",
       "      <td>0.362113</td>\n",
       "    </tr>\n",
       "    <tr>\n",
       "      <th>2</th>\n",
       "      <td>4</td>\n",
       "      <td>0.111254</td>\n",
       "    </tr>\n",
       "    <tr>\n",
       "      <th>3</th>\n",
       "      <td>1</td>\n",
       "      <td>0.046392</td>\n",
       "    </tr>\n",
       "    <tr>\n",
       "      <th>4</th>\n",
       "      <td>5</td>\n",
       "      <td>0.042955</td>\n",
       "    </tr>\n",
       "  </tbody>\n",
       "</table>\n",
       "</div>"
      ],
      "text/plain": [
       "   age_group      prob\n",
       "0          3  0.437285\n",
       "1          2  0.362113\n",
       "2          4  0.111254\n",
       "3          1  0.046392\n",
       "4          5  0.042955"
      ]
     },
     "execution_count": 133,
     "metadata": {},
     "output_type": "execute_result"
    }
   ],
   "source": [
    "prob_age_group"
   ]
  },
  {
   "cell_type": "code",
   "execution_count": 134,
   "id": "874a7e65",
   "metadata": {},
   "outputs": [],
   "source": [
    "# Calculate the expected value of the prob_age_group, which represents the expected customer group, by multiplying the age_group by the prob and taking the sum.\n",
    "multiply = prob_age_group['age_group']*prob_age_group['prob'] \n",
    "expected_value = sum(multiply)"
   ]
  },
  {
   "cell_type": "code",
   "execution_count": 135,
   "id": "6f10831a",
   "metadata": {},
   "outputs": [
    {
     "data": {
      "text/plain": [
       "2.7422680412371134"
      ]
     },
     "execution_count": 135,
     "metadata": {},
     "output_type": "execute_result"
    }
   ],
   "source": [
    "expected_value"
   ]
  },
  {
   "cell_type": "markdown",
   "id": "89924ff8",
   "metadata": {},
   "source": [
    "## Continues Distribution"
   ]
  },
  {
   "cell_type": "markdown",
   "id": "45100470",
   "metadata": {},
   "source": [
    "- To have continues uniform distribuation in python we can import uniform from  scipy.stats\n",
    "- To calulate a probability less than a value in a uniform continues ditributaion we can call cdf from uniform libarary\n",
    "- for example if bus pass a station every 12 minues, so waiting time can be every possible number between 0-12 minues \n",
    "- > To calculate probability of waiting time less than 7 minues in python we have   \n",
    "<code> from scipy.stats import uniform\n",
    "uniform.cdf(7,0,12)</code>\n",
    "\n",
    "- To creat random number with a uniform distribuation with a range of upper and lower values we can use uniform.rvs\n",
    "<code> from scipy.stats import uniform\n",
    "uniform.rvs(upper,lower,size  = number_of_random_values )</code>"
   ]
  },
  {
   "cell_type": "code",
   "execution_count": 136,
   "id": "a2c88b09",
   "metadata": {},
   "outputs": [
    {
     "data": {
      "text/plain": [
       "0.25000000000000006"
      ]
     },
     "execution_count": 136,
     "metadata": {},
     "output_type": "execute_result"
    }
   ],
   "source": [
    "from scipy.stats import uniform\n",
    "# probability of waiting time less than 7 minues\n",
    "uniform.cdf(7,0,12)\n",
    "# probability of waiting time less than 7 minues and more than 4 minutes\n",
    "uniform.cdf(7,0,12)- uniform.cdf(4,0,12)"
   ]
  },
  {
   "cell_type": "markdown",
   "id": "46d079ce",
   "metadata": {},
   "source": [
    "### Q1:\n",
    "- if the back up of the telecome company happens every 30 minutes, but no one knows exactly what time the back-ups happen. It is known, however, that back-ups happen exactly every 30 minutes. If a new call is made what is the pobabilitythat it need to wait for this newly-entered data for 5 min?Calculate the probability the a call needs to wait between 10 and 20 minutes?\n",
    "- to have better idea of how long a  random call have to wait to be backed up, we simulate 1000 times the waiting time and create a histogram to show what he should expect\n",
    "- "
   ]
  },
  {
   "cell_type": "code",
   "execution_count": 137,
   "id": "81736922",
   "metadata": {},
   "outputs": [
    {
     "data": {
      "text/plain": [
       "True"
      ]
     },
     "execution_count": 137,
     "metadata": {},
     "output_type": "execute_result"
    }
   ],
   "source": [
    "# If a new call is made what is the pobabilitythat it need to wait for this newly-entered data for 5 min?\n",
    "from scipy.stats import uniform\n",
    "max_time = 30\n",
    "min_time = 0\n",
    "waiting_time = 5\n",
    "prob1 = uniform.cdf(waiting_time, min_time,max_time)\n",
    "# or we can calculate a surface under a rectangular with height of 1/30 and width of (5-0)\n",
    "prob2 = 5*(1/30) \n",
    "prob1 == prob2"
   ]
  },
  {
   "cell_type": "code",
   "execution_count": 138,
   "id": "d829286c",
   "metadata": {},
   "outputs": [
    {
     "data": {
      "text/plain": [
       "0.3333333333333333"
      ]
     },
     "execution_count": 138,
     "metadata": {},
     "output_type": "execute_result"
    }
   ],
   "source": [
    "# Calculate the probability the a call needs to wait between 10 and 20 minutes?\n",
    "\n",
    "prob_10_20 = uniform.cdf(20, min_time,max_time)- uniform.cdf(10, min_time,max_time)\n",
    "prob_10_20"
   ]
  },
  {
   "cell_type": "code",
   "execution_count": 139,
   "id": "ce5f8521",
   "metadata": {},
   "outputs": [
    {
     "data": {
      "text/plain": [
       "15.025258348145732"
      ]
     },
     "execution_count": 139,
     "metadata": {},
     "output_type": "execute_result"
    },
    {
     "data": {
      "image/png": "[encoded data removed]",
      "text/plain": [
       "<Figure size 432x288 with 1 Axes>"
      ]
     },
     "metadata": {
      "needs_background": "light"
     },
     "output_type": "display_data"
    }
   ],
   "source": [
    "# simulate 1000 times the waiting time and create a histogram to show what he should expect\n",
    "import numpy as np\n",
    "from scipy.stats import uniform\n",
    "import matplotlib.pyplot as plt\n",
    "np.random.seed(126)\n",
    "# Generate 1000 wait times between 0 and 30 mins\n",
    "random_back_time = uniform.rvs(0,30,size = 1000)\n",
    "# Create a histogram of the simulated wait times and show the plot\n",
    "p = plt.hist(random_back_time)\n",
    "ave_time  = np.mean(random_back_time)\n",
    "ave_time"
   ]
  },
  {
   "cell_type": "markdown",
   "id": "ff269d8e",
   "metadata": {},
   "source": [
    "# Binomial Distribution"
   ]
  },
  {
   "cell_type": "markdown",
   "id": "e7d173db",
   "metadata": {},
   "source": [
    "- Binomial distribution has two posssible outcomes like win or loss, pass fail 0 or 1 and so on\n",
    "- we can call the binomial distribution from scipy.stats in python \n",
    "> <code>from scipy.stats import binom</code>\n",
    "- for instance to have a random values in the distribution of heads of tails in throwing coins we can use the  bellow line note that the throwing of the coins are independant of eachother    \n",
    "> <code>binom.rvs(# of coins, probability of heads/success, size=# of trials)</code>\n",
    "- prbibility of getting a certin number of head   \n",
    "> <code> binom.pmf(num heads, num trials, prob of heads)</code>\n",
    "- Expected value\n",
    "> Expected value = n × p\n",
    "> Expected number of heads out of 10 is  ex_v= 10 × 0.5 = 5"
   ]
  },
  {
   "cell_type": "code",
   "execution_count": 140,
   "id": "54d97ca1",
   "metadata": {},
   "outputs": [
    {
     "data": {
      "text/plain": [
       "array([0, 1, 0, 1, 1, 1, 0, 0])"
      ]
     },
     "execution_count": 140,
     "metadata": {},
     "output_type": "execute_result"
    }
   ],
   "source": [
    "# random sample of the one unifrom coin(50% chance for each side) throwing fopr 8 times\n",
    "from scipy.stats import binom\n",
    "binom.rvs(1, .5, size = 8)"
   ]
  },
  {
   "cell_type": "code",
   "execution_count": 141,
   "id": "c6bac7d8",
   "metadata": {},
   "outputs": [
    {
     "data": {
      "text/plain": [
       "array([5])"
      ]
     },
     "execution_count": 141,
     "metadata": {},
     "output_type": "execute_result"
    }
   ],
   "source": [
    "# or 8 coins for throwing one time\n",
    "binom.rvs(8,.5,size = 1) # represents the total number of heads in the 8 coins "
   ]
  },
  {
   "cell_type": "code",
   "execution_count": 142,
   "id": "8c6eee6d",
   "metadata": {},
   "outputs": [
    {
     "data": {
      "text/plain": [
       "array([2, 2, 1, 2, 1, 2, 2, 2])"
      ]
     },
     "execution_count": 142,
     "metadata": {},
     "output_type": "execute_result"
    }
   ],
   "source": [
    "# what is random sample for 3 coins with chance of .5 for having tails, the throwing is repeated for 8 times\n",
    "binom.rvs(3, .5,size = 8 ) # each element in the outcome is total number of heads in each trail for all 3 coins"
   ]
  },
  {
   "cell_type": "code",
   "execution_count": 143,
   "id": "b09fa5b6",
   "metadata": {},
   "outputs": [
    {
     "data": {
      "text/plain": [
       "array([0, 2, 0, 1, 0, 0, 1, 0])"
      ]
     },
     "execution_count": 143,
     "metadata": {},
     "output_type": "execute_result"
    }
   ],
   "source": [
    "# what is random sample for 3 coins with chance of .75 for having tails, the throwing is repeated for 8 times\n",
    "binom.rvs(3, .25,size = 8 )# the chance of having head is .25"
   ]
  },
  {
   "cell_type": "code",
   "execution_count": 144,
   "id": "9f0436c2",
   "metadata": {},
   "outputs": [
    {
     "data": {
      "text/plain": [
       "0.11718749999999999"
      ]
     },
     "execution_count": 144,
     "metadata": {},
     "output_type": "execute_result"
    }
   ],
   "source": [
    "# probability of 7 heads in throwing 10 coins? binom.pmf(num heads, num trials, prob of heads)\n",
    "binom.pmf(7, 10, .5)"
   ]
  },
  {
   "cell_type": "code",
   "execution_count": 145,
   "id": "d4eaab9b",
   "metadata": {},
   "outputs": [
    {
     "data": {
      "text/plain": [
       "0.9453125"
      ]
     },
     "execution_count": 145,
     "metadata": {},
     "output_type": "execute_result"
    }
   ],
   "source": [
    "# probability of less than 7 heads in throwing 10 coins?\n",
    "binom.cdf(7,10, .5)"
   ]
  },
  {
   "cell_type": "markdown",
   "id": "a73bca2b",
   "metadata": {},
   "source": [
    "### Q.1\n",
    "- Calculate the probility of two different values in status\n",
    "- Each status has a binary outcome: it's either 1(sucess), or 2(failure). so you can model the status of call with a binomial distribution. simulate the status for further 10 new customers\n",
    "- What's the probability of having 10 sucess in the previous simulation\n",
    "- What's the probability that  4 or fewer sucess in the simulation\n",
    "- what's the probability that there is  more than 4 sucess?"
   ]
  },
  {
   "cell_type": "code",
   "execution_count": 146,
   "id": "cd7aedd2",
   "metadata": {},
   "outputs": [
    {
     "data": {
      "text/plain": [
       "1    0.756443\n",
       "2    0.243557\n",
       "Name: Status, dtype: float64"
      ]
     },
     "execution_count": 146,
     "metadata": {},
     "output_type": "execute_result"
    }
   ],
   "source": [
    "# Calculate the probility of two different values in status\n",
    "p_status = df['Status'].value_counts()/sum(df['Status'].value_counts())\n",
    "p_status"
   ]
  },
  {
   "cell_type": "code",
   "execution_count": 147,
   "id": "83a87785",
   "metadata": {},
   "outputs": [],
   "source": [
    "# model the status of call with a binomial distribution. simulate the status for further 10 new customers\n",
    "from scipy.stats import binom\n",
    "np.random.seed(126)\n",
    "staus_distru = binom.rvs(10, .756, size = 20 ) # lets have 20 trials"
   ]
  },
  {
   "cell_type": "code",
   "execution_count": 148,
   "id": "218680ac",
   "metadata": {},
   "outputs": [
    {
     "data": {
      "text/plain": [
       "array([ 9,  9,  9,  9,  7,  8,  7, 10,  8,  8,  6,  6,  8,  5, 10,  9,  8,\n",
       "        7,  8,  7])"
      ]
     },
     "execution_count": 148,
     "metadata": {},
     "output_type": "execute_result"
    }
   ],
   "source": [
    "staus_distru"
   ]
  },
  {
   "cell_type": "code",
   "execution_count": 149,
   "id": "035f1956",
   "metadata": {},
   "outputs": [
    {
     "data": {
      "text/plain": [
       "0.056313514709472656"
      ]
     },
     "execution_count": 149,
     "metadata": {},
     "output_type": "execute_result"
    }
   ],
   "source": [
    "# What's the probability of having 10 sucess in the previous simulation\n",
    "binom.pmf(10,10, .75)"
   ]
  },
  {
   "cell_type": "code",
   "execution_count": 150,
   "id": "d92b9ba0",
   "metadata": {},
   "outputs": [
    {
     "data": {
      "text/plain": [
       "0.019727706909179688"
      ]
     },
     "execution_count": 150,
     "metadata": {},
     "output_type": "execute_result"
    }
   ],
   "source": [
    "#What's the probability that  4 or fewer sucess in the simulation\n",
    "binom.cdf(4,10,.75)"
   ]
  },
  {
   "cell_type": "code",
   "execution_count": 151,
   "id": "92bc4ba0",
   "metadata": {},
   "outputs": [
    {
     "data": {
      "text/plain": [
       "0.9802722930908203"
      ]
     },
     "execution_count": 151,
     "metadata": {},
     "output_type": "execute_result"
    }
   ],
   "source": [
    "# what's the probability that there is  more than 4 sucess?\n",
    "1-binom.cdf(4,10,.75)"
   ]
  },
  {
   "cell_type": "markdown",
   "id": "a5b92fde",
   "metadata": {},
   "source": [
    "# Normal Distribution"
   ]
  },
  {
   "cell_type": "markdown",
   "id": "7d87dffe",
   "metadata": {},
   "source": [
    "- is a continous and symmetric distribution \n",
    "- bell shape diagram\n",
    "- 68% of the surface is under the 1 SD(standard Deviation) of the mean, 95% is under the 2*SD and 99.7 under 3*SD\n",
    "- "
   ]
  },
  {
   "cell_type": "markdown",
   "id": "e2c296d7",
   "metadata": {},
   "source": [
    "# Q1\n",
    "-  if height of women in the world is a normal distribution with SD= 7 and mean= 161 then calculate\n",
    "-> percentage of women shorter than 154\n",
    "-> percentage of women taller than 154\n",
    "-> percent of women are 154-157 cm\n",
    "-> What height are 90% of women shorter than?\n",
    "-> What height are 90% of women taller than?\n",
    "-> Generate 10 random heights"
   ]
  },
  {
   "cell_type": "code",
   "execution_count": 152,
   "id": "563fd26e",
   "metadata": {},
   "outputs": [
    {
     "data": {
      "text/plain": [
       "0.15865525393145707"
      ]
     },
     "execution_count": 152,
     "metadata": {},
     "output_type": "execute_result"
    }
   ],
   "source": [
    "#percentage of women shorter than 154\n",
    "from scipy.stats import norm \n",
    "norm.cdf(154,161,7)"
   ]
  },
  {
   "cell_type": "code",
   "execution_count": 153,
   "id": "e12a2dea",
   "metadata": {},
   "outputs": [
    {
     "data": {
      "text/plain": [
       "0.8413447460685429"
      ]
     },
     "execution_count": 153,
     "metadata": {},
     "output_type": "execute_result"
    }
   ],
   "source": [
    "# percentage of women taller than 154\n",
    "1-norm.cdf(154,161,7)"
   ]
  },
  {
   "cell_type": "code",
   "execution_count": 154,
   "id": "ffd5e335",
   "metadata": {},
   "outputs": [
    {
     "data": {
      "text/plain": [
       "0.1251993291672192"
      ]
     },
     "execution_count": 154,
     "metadata": {},
     "output_type": "execute_result"
    }
   ],
   "source": [
    "# percent of women are 154-157 cm\n",
    "norm.cdf(157,161,7) - norm.cdf(154,161,7)"
   ]
  },
  {
   "cell_type": "code",
   "execution_count": 155,
   "id": "2ae8ab99",
   "metadata": {},
   "outputs": [
    {
     "data": {
      "text/plain": [
       "169.9708609588122"
      ]
     },
     "execution_count": 155,
     "metadata": {},
     "output_type": "execute_result"
    }
   ],
   "source": [
    "# What height are 90% of women shorter than?\n",
    "norm.ppf(.9,161,7)"
   ]
  },
  {
   "cell_type": "code",
   "execution_count": 156,
   "id": "4e82c86e",
   "metadata": {},
   "outputs": [
    {
     "data": {
      "text/plain": [
       "152.0291390411878"
      ]
     },
     "execution_count": 156,
     "metadata": {},
     "output_type": "execute_result"
    }
   ],
   "source": [
    "# What height are 90% of women taller than?\n",
    "norm.ppf((1-.9),161,7) #it means 10% is shorter than  "
   ]
  },
  {
   "cell_type": "code",
   "execution_count": 157,
   "id": "6708d7db",
   "metadata": {},
   "outputs": [
    {
     "data": {
      "text/plain": [
       "array([155.69406119, 171.58021385, 168.87704687, 166.50420722,\n",
       "       152.85625858, 162.91507991, 170.03211109, 165.57318596,\n",
       "       151.07674042, 160.83952583])"
      ]
     },
     "execution_count": 157,
     "metadata": {},
     "output_type": "execute_result"
    }
   ],
   "source": [
    "# Generating 10 random numbers\n",
    "norm.rvs(161,7, size = 10)"
   ]
  },
  {
   "cell_type": "markdown",
   "id": "3f8ba491",
   "metadata": {},
   "source": [
    "### Q2.\n",
    "- what kind of distribution the Age in the telecome dataframe follows.\n",
    "- What's the probability of the age is less than 25?\n",
    "- What's the probability of the age is more than 40?\n",
    "- What's the probability of age between 25  and 40 ?\n",
    "- What number will 25% of age be less than?"
   ]
  },
  {
   "cell_type": "code",
   "execution_count": 5,
   "id": "1fd624cb",
   "metadata": {},
   "outputs": [
    {
     "data": {
      "text/plain": [
       "(array([ 184.,  598., 1006.,  477.,   63.]),\n",
       " array([10., 19., 28., 37., 46., 55.]),\n",
       " <BarContainer object of 5 artists>)"
      ]
     },
     "execution_count": 5,
     "metadata": {},
     "output_type": "execute_result"
    },
    {
     "data": {
      "image/png": "[encoded data removed]",
      "text/plain": [
       "<Figure size 432x288 with 1 Axes>"
      ]
     },
     "metadata": {
      "needs_background": "light"
     },
     "output_type": "display_data"
    }
   ],
   "source": [
    "#  what kind of distribution the Age in the telecome dataframe follows: Almost a noraml distribution\n",
    "import matplotlib.pyplot as plt\n",
    "plt. hist(df['Age'], bins = 5)"
   ]
  },
  {
   "cell_type": "code",
   "execution_count": 172,
   "id": "b0c8d438",
   "metadata": {},
   "outputs": [
    {
     "data": {
      "text/plain": [
       "0.24158819420122052"
      ]
     },
     "execution_count": 172,
     "metadata": {},
     "output_type": "execute_result"
    }
   ],
   "source": [
    "# What's the probability of the age is less than 25?\n",
    "from scipy.stats import norm\n",
    "sd = np.std(df['Age'])\n",
    "mean = np.mean(df['Age'])\n",
    "prob_less_25 = norm.cdf(25, mean,sd) # cdf stands for cumulative distribution function\n",
    "prob_less_25"
   ]
  },
  {
   "cell_type": "code",
   "execution_count": 176,
   "id": "49fc1c08",
   "metadata": {},
   "outputs": [
    {
     "data": {
      "text/plain": [
       "0.14474515828741685"
      ]
     },
     "execution_count": 176,
     "metadata": {},
     "output_type": "execute_result"
    }
   ],
   "source": [
    "# What's the probability of the age is more than 40?\n",
    "prob_more_48 = 1- norm.cdf(40, mean, sd)\n",
    "prob_more_48"
   ]
  },
  {
   "cell_type": "code",
   "execution_count": 178,
   "id": "9e1b8567",
   "metadata": {},
   "outputs": [
    {
     "data": {
      "text/plain": [
       "0.6136666475113626"
      ]
     },
     "execution_count": 178,
     "metadata": {},
     "output_type": "execute_result"
    }
   ],
   "source": [
    "# - What's the probability of age between 25  and 40 ?\n",
    "prob_between_25_40 = norm.cdf(40,mean, sd)- norm.cdf(25,mean,sd)\n",
    "prob_between_25_40"
   ]
  },
  {
   "cell_type": "code",
   "execution_count": 181,
   "id": "f329cdef",
   "metadata": {},
   "outputs": [
    {
     "data": {
      "text/plain": [
       "25.227611722495283"
      ]
     },
     "execution_count": 181,
     "metadata": {},
     "output_type": "execute_result"
    }
   ],
   "source": [
    "# What number will 25% of age be less than?\n",
    "pct_25 = norm.ppf(.25, mean, sd)#ppf: percent point function (or inverse cumulative distribution function)\n",
    "pct_25"
   ]
  },
  {
   "cell_type": "markdown",
   "id": "dea189c8",
   "metadata": {},
   "source": [
    "### Q2\n",
    "if company attract more elderly customers in next year in a way that  mean of customers age increase 15% but at the same time the standard deviation of the age distribution will increase by 23%. we want to simulate new customers age "
   ]
  },
  {
   "cell_type": "code",
   "execution_count": 182,
   "id": "f4057c7a",
   "metadata": {},
   "outputs": [],
   "source": [
    "new_mean = mean+ mean*.15\n",
    "new_sd = sd+ sd*.23"
   ]
  },
  {
   "cell_type": "code",
   "execution_count": 184,
   "id": "8f36d54c",
   "metadata": {},
   "outputs": [],
   "source": [
    "# Random variables(RVs) to simulate for 2100 customers\n",
    "new_age = norm.rvs(new_mean, new_sd, size = 2100)"
   ]
  },
  {
   "cell_type": "code",
   "execution_count": 186,
   "id": "d5e3028c",
   "metadata": {},
   "outputs": [
    {
     "data": {
      "text/plain": [
       "(array([  7.,  18.,  94., 265., 459., 550., 459., 187.,  54.,   7.]),\n",
       " array([-2.32744063,  4.82452488, 11.97649039, 19.12845589, 26.2804214 ,\n",
       "        33.43238691, 40.58435241, 47.73631792, 54.88828342, 62.04024893,\n",
       "        69.19221444]),\n",
       " <BarContainer object of 10 artists>)"
      ]
     },
     "execution_count": 186,
     "metadata": {},
     "output_type": "execute_result"
    },
    {
     "data": {
      "image/png": "[encoded data removed]",
      "text/plain": [
       "<Figure size 432x288 with 1 Axes>"
      ]
     },
     "metadata": {
      "needs_background": "light"
     },
     "output_type": "display_data"
    }
   ],
   "source": [
    "plt.hist(new_age, bins = 10)"
   ]
  },
  {
   "cell_type": "code",
   "execution_count": 188,
   "id": "10195b23",
   "metadata": {},
   "outputs": [
    {
     "data": {
      "text/plain": [
       "28.55198991007813"
      ]
     },
     "execution_count": 188,
     "metadata": {},
     "output_type": "execute_result"
    }
   ],
   "source": [
    "# to Calculate amount that 25% of deals will be less than for new_age\n",
    "pct_25 = norm.ppf(.25,new_mean,new_sd)\n",
    "pct_25"
   ]
  },
  {
   "cell_type": "markdown",
   "id": "7edc6b03",
   "metadata": {},
   "source": [
    "# The central limit theorem"
   ]
  },
  {
   "cell_type": "code",
   "execution_count": 4,
   "id": "a38e517c",
   "metadata": {},
   "outputs": [
    {
     "name": "stdout",
     "output_type": "stream",
     "text": [
      "1    2\n",
      "4    5\n",
      "3    4\n",
      "1    2\n",
      "3    4\n",
      "dtype: int64\n"
     ]
    }
   ],
   "source": [
    "# if we roll a dice 5 times we can simulate this 5 time like bellow:\n",
    "die = pd.Series([1, 2, 3, 4, 5, 6])\n",
    "# Roll 5 times\n",
    "samp_5 = die.sample(5, replace=True)\n",
    "print(samp_5)"
   ]
  },
  {
   "cell_type": "code",
   "execution_count": 192,
   "id": "a365f8dc",
   "metadata": {},
   "outputs": [
    {
     "data": {
      "text/plain": [
       "3.2"
      ]
     },
     "execution_count": 192,
     "metadata": {},
     "output_type": "execute_result"
    }
   ],
   "source": [
    "np.mean(samp_5)"
   ]
  },
  {
   "cell_type": "code",
   "execution_count": 48,
   "id": "7880d597",
   "metadata": {},
   "outputs": [],
   "source": [
    "# to repeat sampling of the defined size from array for times \n",
    "def mean_samples(array,size_sample, times ):\n",
    "    sample_means = []\n",
    "    for i in range(times):\n",
    "        samp = array.sample(size_sample, replace = True)\n",
    "        sample_means.append(np.mean(samp))\n",
    "    return sample_means\n",
    "    "
   ]
  },
  {
   "cell_type": "code",
   "execution_count": 49,
   "id": "e95319b6",
   "metadata": {},
   "outputs": [
    {
     "data": {
      "image/png": "[encoded data removed]",
      "text/plain": [
       "<Figure size 432x288 with 1 Axes>"
      ]
     },
     "metadata": {
      "needs_background": "light"
     },
     "output_type": "display_data"
    }
   ],
   "source": [
    "# lets repete the 5 times rolling for 10 times\n",
    "sample_means = mean_samples(die, 5,10 )\n",
    "p = plt.hist(sample_means)"
   ]
  },
  {
   "cell_type": "code",
   "execution_count": 50,
   "id": "62285816",
   "metadata": {},
   "outputs": [
    {
     "data": {
      "image/png": "[encoded data removed]",
      "text/plain": [
       "<Figure size 432x288 with 1 Axes>"
      ]
     },
     "metadata": {
      "needs_background": "light"
     },
     "output_type": "display_data"
    }
   ],
   "source": [
    "# lets repete the 5 times rolling for 100 times\n",
    "sample_means = mean_samples(die, 5,100 )\n",
    "p = plt.hist(sample_means)"
   ]
  },
  {
   "cell_type": "code",
   "execution_count": 51,
   "id": "5db43e2a",
   "metadata": {},
   "outputs": [
    {
     "data": {
      "image/png": "[encoded data removed]",
      "text/plain": [
       "<Figure size 432x288 with 1 Axes>"
      ]
     },
     "metadata": {
      "needs_background": "light"
     },
     "output_type": "display_data"
    }
   ],
   "source": [
    "# lets repete the 5 times rolling for 1000 times\n",
    "sample_means = mean_samples(die, 5,1000 )\n",
    "p= plt.hist(sample_means)"
   ]
  },
  {
   "cell_type": "code",
   "execution_count": 207,
   "id": "c61228fa",
   "metadata": {},
   "outputs": [
    {
     "data": {
      "image/png": "[encoded data removed]",
      "text/plain": [
       "<Figure size 432x288 with 1 Axes>"
      ]
     },
     "metadata": {
      "needs_background": "light"
     },
     "output_type": "display_data"
    }
   ],
   "source": [
    "# lets repete the 5 times rolling for 100 times\n",
    "sample_means = mean_samples(die, 5,10000 )\n",
    "p = plt.hist(sample_means)"
   ]
  },
  {
   "cell_type": "markdown",
   "id": "796f37c9",
   "metadata": {},
   "source": [
    "As we can see at the above example, taking mean of samples which are random and independant , distribution of means are normal especially when the number of trails increase"
   ]
  },
  {
   "cell_type": "markdown",
   "id": "9ca703e6",
   "metadata": {},
   "source": [
    "### The central limit theorem: \n",
    ">The sampling distribution of a statistic becomes closer to the normal distribution as the number of trials increases.  \n",
    "> - Samples should be random and independent"
   ]
  },
  {
   "cell_type": "code",
   "execution_count": 52,
   "id": "7e742f2d",
   "metadata": {},
   "outputs": [],
   "source": [
    "# if we repeat what we did for standard deviation agin we can see that the trails standard deviation is distributed normally\n",
    "# to repeat sampling of the defined size from array for times \n",
    "import numpy as np\n",
    "def std_samples(array,size_sample, times ):\n",
    "    sample_std = []\n",
    "    for i in range(times):\n",
    "        samp = array.sample(size_sample, replace = True)\n",
    "        sample_std.append(np.std(samp))\n",
    "    return sample_std"
   ]
  },
  {
   "cell_type": "code",
   "execution_count": 11,
   "id": "5b4dcd9e",
   "metadata": {},
   "outputs": [
    {
     "data": {
      "image/png": "[encoded data removed]",
      "text/plain": [
       "<Figure size 432x288 with 1 Axes>"
      ]
     },
     "metadata": {
      "needs_background": "light"
     },
     "output_type": "display_data"
    }
   ],
   "source": [
    "stds = std_samples(die,5, 200 )\n",
    "p = plt.hist(stds)\n"
   ]
  },
  {
   "cell_type": "code",
   "execution_count": 12,
   "id": "d4136804",
   "metadata": {},
   "outputs": [
    {
     "data": {
      "image/png": "[encoded data removed]",
      "text/plain": [
       "<Figure size 432x288 with 1 Axes>"
      ]
     },
     "metadata": {
      "needs_background": "light"
     },
     "output_type": "display_data"
    }
   ],
   "source": [
    "stds = std_samples(die,5, 2000 )\n",
    "p = plt.hist(stds)"
   ]
  },
  {
   "cell_type": "code",
   "execution_count": 13,
   "id": "ae68b968",
   "metadata": {},
   "outputs": [
    {
     "data": {
      "image/png": "[encoded data removed]",
      "text/plain": [
       "<Figure size 432x288 with 1 Axes>"
      ]
     },
     "metadata": {
      "needs_background": "light"
     },
     "output_type": "display_data"
    }
   ],
   "source": [
    "stds = std_samples(die,5, 10000)\n",
    "p = plt.hist(stds)"
   ]
  },
  {
   "cell_type": "code",
   "execution_count": 16,
   "id": "90399613",
   "metadata": {},
   "outputs": [
    {
     "data": {
      "text/plain": [
       "0      Jack\n",
       "0      Jack\n",
       "3    Damian\n",
       "0      Jack\n",
       "3    Damian\n",
       "0      Jack\n",
       "2    Claire\n",
       "1     Brian\n",
       "1     Brian\n",
       "2    Claire\n",
       "dtype: object"
      ]
     },
     "execution_count": 16,
     "metadata": {},
     "output_type": "execute_result"
    }
   ],
   "source": [
    "# we can do the same for distribution of proportion for instance if we have the bellow employess\n",
    "employees = pd.Series([\"Jack\", \"Brian\", \"Claire\", \"Damian\"])\n",
    "# to chose a sample of 10 from the employess\n",
    "s_10 = employees.sample(10, replace = True)\n",
    "s_10"
   ]
  },
  {
   "cell_type": "code",
   "execution_count": 22,
   "id": "71d8ab6f",
   "metadata": {},
   "outputs": [
    {
     "data": {
      "text/plain": [
       "0.4"
      ]
     },
     "execution_count": 22,
     "metadata": {},
     "output_type": "execute_result"
    }
   ],
   "source": [
    "# in the sample the proportion of the Jack is\n",
    "counts = s_10.value_counts()\n",
    "p_jack  = counts['Jack']/sum(counts)\n",
    "p_jack"
   ]
  },
  {
   "cell_type": "code",
   "execution_count": 36,
   "id": "a89ca568",
   "metadata": {},
   "outputs": [],
   "source": [
    "# lets repeate the sampling trails for times \n",
    "def prop_samples(array,size_sample,item, times ):\n",
    "    sample_prop = []\n",
    "    for i in range(times):\n",
    "        samp = array.sample(size_sample, replace = True)\n",
    "        counts = samp.value_counts()\n",
    "        try:\n",
    "            sample_prop.append(counts[item]/sum(counts))\n",
    "        except:\n",
    "            sample_prop.append(0)\n",
    "    return sample_prop"
   ]
  },
  {
   "cell_type": "code",
   "execution_count": 44,
   "id": "dea09d2b",
   "metadata": {},
   "outputs": [
    {
     "data": {
      "image/png": "[encoded data removed]",
      "text/plain": [
       "<Figure size 432x288 with 1 Axes>"
      ]
     },
     "metadata": {
      "needs_background": "light"
     },
     "output_type": "display_data"
    }
   ],
   "source": [
    "array = employees\n",
    "size_sample = 10\n",
    "item = \"Jack\"\n",
    "times = 200\n",
    "props = prop_samples(array,size_sample,item, times )\n",
    "p = plt.hist(props)"
   ]
  },
  {
   "cell_type": "code",
   "execution_count": 45,
   "id": "0106bf1f",
   "metadata": {},
   "outputs": [
    {
     "data": {
      "image/png": "[encoded data removed]",
      "text/plain": [
       "<Figure size 432x288 with 1 Axes>"
      ]
     },
     "metadata": {
      "needs_background": "light"
     },
     "output_type": "display_data"
    }
   ],
   "source": [
    "array = employees\n",
    "size_sample = 10\n",
    "item = \"Jack\"\n",
    "times = 2000\n",
    "props = prop_samples(array,size_sample,item, times )\n",
    "p = plt.hist(props)"
   ]
  },
  {
   "cell_type": "code",
   "execution_count": 46,
   "id": "7e8c2788",
   "metadata": {},
   "outputs": [
    {
     "data": {
      "image/png": "[encoded data removed]",
      "text/plain": [
       "<Figure size 432x288 with 1 Axes>"
      ]
     },
     "metadata": {
      "needs_background": "light"
     },
     "output_type": "display_data"
    }
   ],
   "source": [
    "array = employees\n",
    "size_sample = 10\n",
    "item = \"Jack\"\n",
    "times = 20000\n",
    "props = prop_samples(array,size_sample,item, times )\n",
    "p = plt.hist(props)"
   ]
  },
  {
   "cell_type": "markdown",
   "id": "04315c72",
   "metadata": {},
   "source": [
    "### Important results\n",
    " - Estimate expected value is equal to mean of mean of smaples  \n",
    "<code>np.mean(sample_means)</code>  \n",
    "Accordingly :\n",
    ">- Estimate characteristics of unknown underlying distribution  \n",
    ">- More easily estimate characteristics of large populations  "
   ]
  },
  {
   "cell_type": "code",
   "execution_count": 57,
   "id": "04d145e8",
   "metadata": {},
   "outputs": [
    {
     "name": "stdout",
     "output_type": "stream",
     "text": [
      "expected_value_fair_die = 3.5\n",
      "mean of mean of samples = 3.5048000000000004\n"
     ]
    }
   ],
   "source": [
    "# for above eamples \n",
    "# die mean of mean of samples \n",
    "sample_means = mean_samples(die, 5,1000 )\n",
    "mean_mean = np.mean(sample_means)\n",
    "expected_value_fair_die = (1 * 1/6) + (2 * 1/6 ) + (3 * 1/6 ) + (4 * 1/6 ) + (5 * 1/6 ) + (6 * 1/6 ) \n",
    "print('expected_value_fair_die =', expected_value_fair_die)\n",
    "print('mean of mean of samples =', mean_mean)"
   ]
  },
  {
   "cell_type": "code",
   "execution_count": 61,
   "id": "11f02ee9",
   "metadata": {},
   "outputs": [
    {
     "name": "stdout",
     "output_type": "stream",
     "text": [
      "expected_value_fair_die = 0.2510200000000001\n",
      "proportion_jack = 0.25\n"
     ]
    }
   ],
   "source": [
    "#Estimate proportion of \"Jack\"s\n",
    "# array = employees\n",
    "# size_sample = 10\n",
    "# item = \"Jack\"\n",
    "# times = 20000\n",
    "# props = prop_samples(array,size_sample,item, times )\n",
    "mean_proportion = np.mean(props)\n",
    "proportion_jack = 1/4 \n",
    "print('expected_value_fair_die =', mean_proportion)\n",
    "print('proportion_jack =', proportion_jack)"
   ]
  },
  {
   "cell_type": "markdown",
   "id": "a9359274",
   "metadata": {},
   "source": [
    "### CLT Q1\n",
    "In this exercise, we focus on the sample mean and see the central limit theorem in action while examining the 'Frequency of use' column of telecome more closely\n",
    "- Create a histogram of the 'Frequency of use' column \n",
    "- Take a sample of size 20 with replacement from the 'Frequency of use' column and take the mean.\n",
    "- Repeat this 100 times using a for loop and store as sample_means. This will take 100 different samples and calculate the mean of each\n",
    "- Convert sample_means into a pd.Series, create a histogram of the sample_means, and show the plot."
   ]
  },
  {
   "cell_type": "code",
   "execution_count": 62,
   "id": "7dca9d05",
   "metadata": {},
   "outputs": [
    {
     "data": {
      "text/plain": [
       "<AxesSubplot:>"
      ]
     },
     "execution_count": 62,
     "metadata": {},
     "output_type": "execute_result"
    },
    {
     "data": {
      "image/png": "[encoded data removed]",
      "text/plain": [
       "<Figure size 432x288 with 1 Axes>"
      ]
     },
     "metadata": {
      "needs_background": "light"
     },
     "output_type": "display_data"
    }
   ],
   "source": [
    "#Create a histogram of the 'Frequency of use' column\n",
    "df[ 'Frequency of use' ].hist()"
   ]
  },
  {
   "cell_type": "code",
   "execution_count": 65,
   "id": "8999fa69",
   "metadata": {},
   "outputs": [
    {
     "data": {
      "text/plain": [
       "59.3"
      ]
     },
     "execution_count": 65,
     "metadata": {},
     "output_type": "execute_result"
    }
   ],
   "source": [
    "samp = df['Frequency of use'].sample(20, replace = True)\n",
    "mean_samp = np.mean(samp)\n",
    "mean_samp"
   ]
  },
  {
   "cell_type": "code",
   "execution_count": null,
   "id": "9fdc2298",
   "metadata": {},
   "outputs": [],
   "source": [
    "# to repeat sampling of the defined size from array for times \n",
    "def mean_samples(array,size_sample, times ):\n",
    "    sample_means = []\n",
    "    for i in range(times):\n",
    "        samp = array.sample(size_sample, replace = True)\n",
    "        sample_means.append(np.mean(samp))\n",
    "    return sample_means"
   ]
  },
  {
   "cell_type": "code",
   "execution_count": 68,
   "id": "16ed5521",
   "metadata": {},
   "outputs": [],
   "source": [
    "# Repeat this 100 times using a for loop and store as sample_means. This will take 100 different samples and calculate the mean of each\n",
    "array = df['Frequency of use']\n",
    "size_sample = 20\n",
    "times = 100\n",
    "means = mean_samples(array,size_sample, times )"
   ]
  },
  {
   "cell_type": "code",
   "execution_count": 73,
   "id": "6317dba1",
   "metadata": {},
   "outputs": [
    {
     "data": {
      "image/png": "[encoded data removed]",
      "text/plain": [
       "<Figure size 432x288 with 1 Axes>"
      ]
     },
     "metadata": {
      "needs_background": "light"
     },
     "output_type": "display_data"
    }
   ],
   "source": [
    "#Convert sample_means into a pd.Series, create a histogram of the sample_means, and show the plot.\n",
    "means = pd.Series(means)\n",
    "p = plt.hist(means)"
   ]
  },
  {
   "cell_type": "code",
   "execution_count": 74,
   "id": "c1d37797",
   "metadata": {},
   "outputs": [
    {
     "data": {
      "text/plain": [
       "68.87099999999998"
      ]
     },
     "execution_count": 74,
     "metadata": {},
     "output_type": "execute_result"
    }
   ],
   "source": [
    "np.mean(means)"
   ]
  },
  {
   "cell_type": "code",
   "execution_count": 75,
   "id": "e75c2511",
   "metadata": {},
   "outputs": [
    {
     "data": {
      "text/plain": [
       "67.34278350515464"
      ]
     },
     "execution_count": 75,
     "metadata": {},
     "output_type": "execute_result"
    }
   ],
   "source": [
    "np.mean(df['Frequency of use']) # based on "
   ]
  },
  {
   "cell_type": "markdown",
   "id": "b5380c8f",
   "metadata": {},
   "source": [
    "#### based on Law of large numbers:\n",
    "> As the size of your sample increases, the sample mean will approach the expected value\n",
    "#### based on central limit theorem, CLT:\n",
    "> As number of trials increase estimate of the expected value is equal to mean of mean of smaples\n",
    ">> Accordingly: mean of the initial population is almost same as expected value of the population and almost equal as mean of mean of smaples"
   ]
  },
  {
   "cell_type": "markdown",
   "id": "ad2be5d1",
   "metadata": {},
   "source": [
    "# The Poisson distribution"
   ]
  },
  {
   "cell_type": "markdown",
   "id": "b06c9988",
   "metadata": {},
   "source": [
    "### Poisson processes:\n",
    "Events appear to happen at a certain rate, but completely at random\n",
    "#### Examples\n",
    "- Number of animals adopted from an animal shelter per week  \n",
    "- Number of people arriving at a restaurant per hour  \n",
    "- Number of earthquakes in California per year"
   ]
  },
  {
   "cell_type": "markdown",
   "id": "c5190d25",
   "metadata": {},
   "source": [
    "### Poisson distribution:\n",
    "is a discrete probability distribution. It is probability of some number of events occurring over a fixed period of time\n",
    "#### Examples\n",
    "> Probability of ≥ 5 animals adopted from an animal shelter per week  \n",
    "> Probability of 12 people arriving at a restaurant per hour  \n",
    "> Probability of < 20 earthquakes in California per year  "
   ]
  },
  {
   "cell_type": "markdown",
   "id": "b2964c43",
   "metadata": {},
   "source": [
    "- Possion distribution is defined by Lambda (λ) \n",
    "- λ = average number of events per time interval\n",
    "Average number of adoptions per week = 8 -> λ = 8"
   ]
  },
  {
   "cell_type": "markdown",
   "id": "854408dd",
   "metadata": {},
   "source": [
    "### Probability of a single value, pmf\n",
    "- pmf : probability mass function: A probability mass function (pmf) is a function over the sample space of a discrete random variable X which gives the probability that X is equal to a certain value.\n",
    "> If the average number of adoptions per week is 8, what is P (# adoptions in a week = 5)? pmf\n"
   ]
  },
  {
   "cell_type": "code",
   "execution_count": 76,
   "id": "580d9257",
   "metadata": {},
   "outputs": [
    {
     "data": {
      "text/plain": [
       "0.09160366159257921"
      ]
     },
     "execution_count": 76,
     "metadata": {},
     "output_type": "execute_result"
    }
   ],
   "source": [
    "# If the average number of adoptions per week is 8, what is P (# adoptions in a week = 5)?\n",
    "from scipy.stats import poisson\n",
    "poisson.pmf(5,8)"
   ]
  },
  {
   "cell_type": "markdown",
   "id": "b478b83b",
   "metadata": {},
   "source": [
    "### Probability of less than or equal to CDF(cumulative distribution function) \n",
    ">  If the average number of adoptions per week is 8, what is P (# adoptions in a week ≤ 5)?"
   ]
  },
  {
   "cell_type": "code",
   "execution_count": 77,
   "id": "2e33425e",
   "metadata": {},
   "outputs": [
    {
     "data": {
      "text/plain": [
       "0.19123606207962532"
      ]
     },
     "execution_count": 77,
     "metadata": {},
     "output_type": "execute_result"
    }
   ],
   "source": [
    "# If the average number of adoptions per week is 8, what is P (# adoptions in a week ≤ 5)?\n",
    "from scipy.stats import poisson \n",
    "poisson.cdf(5,8)"
   ]
  },
  {
   "cell_type": "markdown",
   "id": "33c000ab",
   "metadata": {},
   "source": [
    "### Probability of greater than (1-cdf)\n",
    "> If the average number of adoptions per week is 8, what is P (# adoptions in a week > 5)?"
   ]
  },
  {
   "cell_type": "code",
   "execution_count": 78,
   "id": "10bfeb11",
   "metadata": {},
   "outputs": [
    {
     "data": {
      "text/plain": [
       "0.8087639379203747"
      ]
     },
     "execution_count": 78,
     "metadata": {},
     "output_type": "execute_result"
    }
   ],
   "source": [
    "# If the average number of adoptions per week is 8, what is P (# adoptions in a week > 5)?\n",
    "from scipy.stats import poisson \n",
    "1-poisson.cdf(5,8)"
   ]
  },
  {
   "cell_type": "markdown",
   "id": "fce99f60",
   "metadata": {},
   "source": [
    "### Sampling from a Poisson distribution (RVs)\n",
    "<code> from scipy.stats import poisson\n",
    "poisson.rvs(8, size=10)</code>"
   ]
  },
  {
   "cell_type": "code",
   "execution_count": 79,
   "id": "1aef57ff",
   "metadata": {},
   "outputs": [
    {
     "data": {
      "text/plain": [
       "array([ 3, 11,  7,  7,  5,  3, 11, 12,  4, 13])"
      ]
     },
     "execution_count": 79,
     "metadata": {},
     "output_type": "execute_result"
    }
   ],
   "source": [
    "from scipy.stats import poisson\n",
    "poisson.rvs(8, size=10)"
   ]
  },
  {
   "cell_type": "markdown",
   "id": "69337c24",
   "metadata": {},
   "source": [
    "# Exponential distribution\n",
    "### Probability of time between Poisson events it also uses lambda (rate) ans is continuous (time)\n",
    ">Examples\n",
    "- Probability of > 1 day between adoptions\n",
    "- Probability of < 10 minutes between restaurant arrivals\n",
    "- Probability of 6-8 months between earthquakes\n"
   ]
  },
  {
   "cell_type": "markdown",
   "id": "dbccdbe5",
   "metadata": {},
   "source": [
    "#### Ex On average, one customer service ticket is created every 2 minutes\n",
    " > λ = 0.5 customer service tickets created each minute \n"
   ]
  },
  {
   "cell_type": "markdown",
   "id": "e2b28e95",
   "metadata": {},
   "source": [
    " > expon.pdf(x, loc, scale) is identically equivalent to expon.pdf(y) / scale with y = (x - loc) / scale\n",
    "> - pdf = lambda * exp(-lambda * x)"
   ]
  },
  {
   "cell_type": "code",
   "execution_count": 14,
   "id": "11d120c8",
   "metadata": {},
   "outputs": [],
   "source": [
    "import matplotlib.pyplot as plt\n",
    "from scipy.stats import expon\n",
    "import numpy as np\n"
   ]
  },
  {
   "cell_type": "code",
   "execution_count": null,
   "id": "4b9c8c6d",
   "metadata": {},
   "outputs": [],
   "source": [
    "r = expon.rvs(size = 1000)"
   ]
  },
  {
   "cell_type": "code",
   "execution_count": 18,
   "id": "43a50aa7",
   "metadata": {},
   "outputs": [
    {
     "data": {
      "image/png": "[encoded data removed]",
      "text/plain": [
       "<Figure size 432x288 with 1 Axes>"
      ]
     },
     "metadata": {
      "needs_background": "light"
     },
     "output_type": "display_data"
    }
   ],
   "source": [
    "#Display the probability density function (pdf)\n",
    "fig, ax = plt.subplots(1, 1)\n",
    "x = np.linspace(expon.ppf(0.01),\n",
    "                expon.ppf(0.99), 100)  # to get 100 values for them probabilities is between 0.01 and .99\n",
    "ax.plot(x, expon.pdf(x),\n",
    "       'r-', lw=2, alpha=0.6, label='expon pdf')\n",
    "ax.hist(r, density=True, histtype='stepfilled', alpha=0.2)\n",
    "ax.legend(loc='best', frameon=False)\n",
    "plt.show()"
   ]
  },
  {
   "cell_type": "code",
   "execution_count": null,
   "id": "ca85f3ad",
   "metadata": {},
   "outputs": [],
   "source": [
    "# P (1 min < wait < 3 min) =\n",
    "expon.cdf(3, scale=0.5) - expon.cdf(1, scale=0.5)"
   ]
  },
  {
   "cell_type": "markdown",
   "id": "a34a9460",
   "metadata": {},
   "source": [
    "# t-distribution\n",
    "> Similar shape as the normal distribution\n",
    "- Has parameter degrees of freedom (df) which a(ects the thickness of the tails\n",
    "- Lower df = thicker tails, higher standard deviation\n",
    "- Higher df = closer to normal distribution"
   ]
  },
  {
   "cell_type": "code",
   "execution_count": 29,
   "id": "3dbed560",
   "metadata": {},
   "outputs": [
    {
     "data": {
      "image/png": "[encoded data removed]",
      "text/plain": [
       "<Figure size 432x288 with 1 Axes>"
      ]
     },
     "metadata": {
      "needs_background": "light"
     },
     "output_type": "display_data"
    }
   ],
   "source": [
    "from scipy.stats import norm \n",
    "from scipy.stats import t\n",
    "fig, ax = plt.subplots(1, 1)\n",
    "# pdf normal distribution\n",
    "x = np.linspace(norm.ppf(.01),norm.ppf(.99),100)\n",
    "ax.plot(norm.pdf(x),'g-', lw=2, label='norm pdf')\n",
    "# pdf t-distribution\n",
    "df = 2.74\n",
    "ax.plot(t.pdf(x,df),'r-', lw=2, alpha=0.6, label='t_2.74 pdf')\n",
    "df = 100\n",
    "ax.plot(t.pdf(x,df),'y-', lw=5, alpha=0.3, label='t_100 pdf')\n",
    "ax.legend(loc='best', frameon=False)\n",
    "plt.show()"
   ]
  },
  {
   "cell_type": "markdown",
   "id": "36951be3",
   "metadata": {},
   "source": [
    "# Log-normal distribution\n",
    "### Variable whose logarithm is normally distributed\n",
    "> Examples:\n",
    "- Length of chess games\n",
    "- Adult blood pressure\n",
    "- Number of hospitalizations in the 2003\n",
    "- SARS outbreak"
   ]
  },
  {
   "cell_type": "code",
   "execution_count": 33,
   "id": "4871bbac",
   "metadata": {},
   "outputs": [
    {
     "data": {
      "image/png": "[encoded data removed]",
      "text/plain": [
       "<Figure size 432x288 with 1 Axes>"
      ]
     },
     "metadata": {
      "needs_background": "light"
     },
     "output_type": "display_data"
    }
   ],
   "source": [
    "from scipy.stats import lognorm\n",
    "fig, ax = plt.subplots(1, 1)\n",
    "s = 0.954\n",
    "x = np.linspace(lognorm.ppf(0.01, s),\n",
    "                lognorm.ppf(0.99, s), 100)\n",
    "ax.plot(x, lognorm.pdf(x, s),\n",
    "       'r-', lw=5, alpha=0.6, label='lognorm pdf')\n",
    "plt.show()"
   ]
  },
  {
   "cell_type": "code",
   "execution_count": null,
   "id": "2badc1fd",
   "metadata": {},
   "outputs": [],
   "source": []
  }
 ],
 "metadata": {
  "kernelspec": {
   "display_name": "Python 3 (ipykernel)",
   "language": "python",
   "name": "python3"
  },
  "language_info": {
   "codemirror_mode": {
    "name": "ipython",
    "version": 3
   },
   "file_extension": ".py",
   "mimetype": "text/x-python",
   "name": "python",
   "nbconvert_exporter": "python",
   "pygments_lexer": "ipython3",
   "version": "3.8.13"
  }
 },
 "nbformat": 4,
 "nbformat_minor": 5
}
