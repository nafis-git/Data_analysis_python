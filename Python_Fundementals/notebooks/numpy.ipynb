{
 "cells": [
  {
   "cell_type": "markdown",
   "id": "77d237c4",
   "metadata": {},
   "source": [
    " # Numpy (Numeric Python)\n",
    " ### numpy array\n",
    " > Alternative to Python List: NumPy Array\n",
    "- Calculations over entire arrays\n",
    "- Easy and Fast\n",
    "- elementwise\n",
    "- all elements should have a similar type,  otherwise the array change them to onetype,this is known as type coercion\n"
   ]
  },
  {
   "cell_type": "markdown",
   "id": "eefb5cf2",
   "metadata": {},
   "source": [
    "### Q.1 calculate the BMI of each baseball player\n",
    "-  first should cahneg the scale from inch to meter(*0.0254) and pound to kg (*0.453592) \n",
    "-  then calculte the BMI = weight(kg)/height(m)**2 \n",
    "- Print out BMIs of all baseball players whose BMI is below 24"
   ]
  },
  {
   "cell_type": "code",
   "execution_count": 10,
   "id": "e88e724d",
   "metadata": {},
   "outputs": [],
   "source": [
    "import numpy as np"
   ]
  },
  {
   "cell_type": "code",
   "execution_count": 6,
   "id": "185ac9a4",
   "metadata": {},
   "outputs": [],
   "source": [
    "height_in = [ 4, 74, 73, 74, 75, 77, 73, 74, 76, 74, 75,73, 76, 78, 75, 73, 77,\n",
    " 74, 72,74, 72, 71, 73, 75, 73, 67, 67, 76, 74, 73, 70, 75, 70, 72, 77,79, 78]"
   ]
  },
  {
   "cell_type": "code",
   "execution_count": 7,
   "id": "3b4c3f29",
   "metadata": {},
   "outputs": [],
   "source": [
    "weight_lb =  [228, 190, 204, 165, 216, 220, 208, 210, 215, 195, 200, 215, 229, 240, 207, 205, 208, 185, 190, 170, 208,\n",
    " 225, 190, 225, 185, 180, 165, 240, 220, 212, 163, 215, 175, 205, 210, 205, 208]"
   ]
  },
  {
   "cell_type": "code",
   "execution_count": 11,
   "id": "2e6e80e7",
   "metadata": {},
   "outputs": [],
   "source": [
    "# if we want to work with list it is more complicated and slow so first lets convert them to numpy array\n",
    "np_height_in = np.array(height_in)\n",
    "np_weight_lb = np.array(weight_lb)"
   ]
  },
  {
   "cell_type": "code",
   "execution_count": 12,
   "id": "50913652",
   "metadata": {},
   "outputs": [],
   "source": [
    "#  chaneg the scale from inch to meter(*0.0254) and pound to kg (*0.453592)\n",
    "height_m = np_height_in * 0.0254\n",
    "weight_kg = np_weight_lb *0.453592"
   ]
  },
  {
   "cell_type": "code",
   "execution_count": 13,
   "id": "bde299df",
   "metadata": {},
   "outputs": [],
   "source": [
    "# then calculte the BMI = weight(kg)/height(m)**2 \n",
    "bmis = weight_kg/height_m**2"
   ]
  },
  {
   "cell_type": "code",
   "execution_count": 14,
   "id": "bc1c186f",
   "metadata": {},
   "outputs": [
    {
     "data": {
      "text/plain": [
       "array([10018.73333747,    24.39428619,    26.91425732,    21.18451169,\n",
       "          26.99784984,    26.08790375,    27.44198785,    26.96210579,\n",
       "          26.17033177,    25.03624109,    24.99800911,    28.36551629,\n",
       "          27.8744464 ,    27.73447756,    25.87293943,    27.04618995,\n",
       "          24.66492718,    23.75233129,    25.76834706,    21.82646659,\n",
       "          28.20955889,    31.38078286,    25.06720044,    28.12276025,\n",
       "          24.40753727,    28.19167322,    25.84236712,    29.21339361,\n",
       "          28.24601559,    27.96971839,    23.38780571,    26.87285979,\n",
       "          25.10960736,    27.80269025,    24.90208995,    23.09391864,\n",
       "          24.03654722])"
      ]
     },
     "execution_count": 14,
     "metadata": {},
     "output_type": "execute_result"
    }
   ],
   "source": [
    "bmis "
   ]
  },
  {
   "cell_type": "code",
   "execution_count": 17,
   "id": "e44a2f96",
   "metadata": {},
   "outputs": [
    {
     "data": {
      "text/plain": [
       "array([21.18451169, 23.75233129, 21.82646659, 23.38780571, 23.09391864])"
      ]
     },
     "execution_count": 17,
     "metadata": {},
     "output_type": "execute_result"
    }
   ],
   "source": [
    "#Print out BMIs of all baseball players whose BMI is below 24\n",
    "bmis[bmis<24]"
   ]
  },
  {
   "cell_type": "code",
   "execution_count": 18,
   "id": "25b9ec76",
   "metadata": {},
   "outputs": [
    {
     "data": {
      "text/plain": [
       "array([4, 5, 2])"
      ]
     },
     "execution_count": 18,
     "metadata": {},
     "output_type": "execute_result"
    }
   ],
   "source": [
    "# ex; numpy array type coercion\n",
    "np.array([True, 1, 2]) + np.array([3, 4, False])"
   ]
  },
  {
   "cell_type": "code",
   "execution_count": 23,
   "id": "43b18675",
   "metadata": {},
   "outputs": [
    {
     "data": {
      "text/plain": [
       "array([[  4,  74,  73,  74,  75,  77,  73,  74,  76,  74,  75,  73,  76,\n",
       "         78,  75,  73,  77,  74,  72,  74,  72,  71,  73,  75,  73,  67,\n",
       "         67,  76,  74,  73,  70,  75,  70,  72,  77,  79,  78],\n",
       "       [228, 190, 204, 165, 216, 220, 208, 210, 215, 195, 200, 215, 229,\n",
       "        240, 207, 205, 208, 185, 190, 170, 208, 225, 190, 225, 185, 180,\n",
       "        165, 240, 220, 212, 163, 215, 175, 205, 210, 205, 208]])"
      ]
     },
     "execution_count": 23,
     "metadata": {},
     "output_type": "execute_result"
    }
   ],
   "source": [
    "# create a 2D numpy array from baseball\n",
    "baseball = [height_in, weight_lb]\n",
    "np_baseball = np.array(baseball)\n",
    "np_baseball"
   ]
  },
  {
   "cell_type": "code",
   "execution_count": 25,
   "id": "1bd785fb",
   "metadata": {},
   "outputs": [
    {
     "name": "stdout",
     "output_type": "stream",
     "text": [
      "[ 74 170]\n"
     ]
    }
   ],
   "source": [
    "# Print out the 18th row of np_baseball\n",
    "print((np_baseball[:,19]))"
   ]
  },
  {
   "cell_type": "code",
   "execution_count": 33,
   "id": "c9e2505b",
   "metadata": {},
   "outputs": [],
   "source": [
    "#baseball list columns representing height (in inches), weight (in pounds) and age (in years)\n",
    "baseballs = [\n",
    "    [74.0, 228.0, 42.6], [74.0, 190.0, 26.22], [73.0, 204.0, 21.85], [74.0, 165.0, 24.28], [75.0, 216.0, 22.41],\n",
    " [77.0, 220.0, 32.56], [73.0, 208.0, 32.74], [74.0, 210.0, 26.39], [76.0, 215.0, 28.8], [74.0, 195.0, 28.2],\n",
    " [75.0, 200.0, 26.52], [73.0, 215.0, 34.52], [76.0, 229.0, 34.32], [78.0, 240.0, 26.98], [75.0, 207.0, 28.86],\n",
    " [73.0, 205.0, 24.96], [77.0, 208.0, 25.3], [74.0, 185.0, 27.06], [72.0, 190.0, 25.44], [74.0, 170.0, 25.53],\n",
    " [72.0, 208.0, 34.87], [71.0, 225.0, 24.63], [73.0, 190.0, 27.99], [75.0, 225.0, 27.12], [73.0, 185.0, 31.14],\n",
    " [67.0, 180.0, 30.21], [67.0, 165.0, 32.11], [76.0, 240.0, 31.91], [74.0, 220.0, 34.44], [73.0, 212.0, 36.68],\n",
    " [70.0, 163.0, 37.66], [75.0, 215.0, 30.98], [70.0, 175.0, 27.07], [72.0, 205.0, 29.11], [77.0, 210.0, 25.82],\n",
    " [79.0, 205.0, 25.5], [78.0, 208.0, 29.57]\n",
    "]"
   ]
  },
  {
   "cell_type": "code",
   "execution_count": 34,
   "id": "244b38bc",
   "metadata": {},
   "outputs": [],
   "source": [
    "np_baseballs= np.array(baseballs)"
   ]
  },
  {
   "cell_type": "code",
   "execution_count": 40,
   "id": "7f89c99c",
   "metadata": {},
   "outputs": [],
   "source": [
    "#changes in height, weight and age of all baseball players.\n",
    "updated = [\n",
    "       [ 1.23035590e+00, -1.11622490e+01,  1.00000000e+00],[ 1.01614715e+00,  5.40345796e+00,  1.00000000e+00],\n",
    "       [ 1.02614252e+00,  1.60973231e+01,  1.00000000e+00], [ 1.15442280e+00,  5.08167641e+00,  1.00000000e+00],\n",
    "       [ 6.44275321e-01, -5.09538071e+00,  1.00000000e+00],[ 1.00590086e+00,  2.24342718e+00,  1.00000000e+00],\n",
    "       [ 9.79535475e-01,  1.21984176e+01,  1.00000000e+00],[ 6.28743238e-01,  1.37232422e+01,  1.00000000e+00],\n",
    "       [ 1.27075194e+00, -8.87946313e+00,  1.00000000e+00], [ 4.76559454e-01, -1.08249554e+01,  1.00000000e+00],\n",
    "       [ 9.16993762e-01, -7.01116249e+00,  1.00000000e+00], [ 1.17179326e+00,  1.19946614e+00,  1.00000000e+00],\n",
    "       [ 1.14509104e+00, -1.20038568e+01,  1.00000000e+00],[ 1.20684945e+00, -1.32983065e+01,  1.00000000e+00],\n",
    "       [ 1.03436155e+00,  3.01324251e+00,  1.00000000e+00], [ 8.77474537e-01,  1.05177950e+01,  1.00000000e+00],\n",
    "       [ 9.81330796e-01, -1.55666485e+00,  1.00000000e+00], [ 1.03051228e+00,  4.47971582e+00,  1.00000000e+00],\n",
    "       [ 1.21042271e+00, -1.90450274e+01,  1.00000000e+00], [ 1.34612414e+00,  6.74418894e+00,  1.00000000e+00],\n",
    "       [ 9.75447264e-01,  7.27211497e+00,  1.00000000e+00],[ 8.47118513e-01,  2.28271492e-02,  1.00000000e+00],\n",
    "       [ 8.26148637e-01,  4.64024712e+00,  1.00000000e+00],[ 5.53648712e-01, -2.94317618e+00,  1.00000000e+00],\n",
    "       [ 7.55670499e-01,  1.11495499e+01,  1.00000000e+00], [ 9.85196660e-01, -2.56945239e+01,  1.00000000e+00],\n",
    "       [ 8.62126373e-01,  2.01882766e+00,  1.00000000e+00],[ 7.19775782e-01,  1.48238842e+01,  1.00000000e+00],\n",
    "       [ 8.44751158e-01,  5.92416221e+00,  1.00000000e+00], [ 9.91904732e-01, -9.42474862e+00,  1.00000000e+00],\n",
    "       [ 1.04509915e+00, -1.28390028e+01,  1.00000000e+00], [ 1.01190093e+00, -6.61469619e+00,  1.00000000e+00],\n",
    "       [ 7.44336986e-01, -1.41233042e+01,  1.00000000e+00],[ 8.53119610e-01,  4.59921617e+00,  1.00000000e+00],\n",
    "       [ 7.59425518e-01,  8.02401300e+00,  1.00000000e+00],[ 5.87570351e-01,  1.12257852e+01,  1.00000000e+00],\n",
    "       [ 1.24227730e+00,  7.85257416e+00,  1.00000000e+00]\n",
    "]"
   ]
  },
  {
   "cell_type": "code",
   "execution_count": 41,
   "id": "7b15ac13",
   "metadata": {},
   "outputs": [],
   "source": [
    "np_baseballs = np.array(baseballs)\n",
    "np_updated = np.array(updated)"
   ]
  },
  {
   "cell_type": "code",
   "execution_count": 43,
   "id": "6cd4e76e",
   "metadata": {},
   "outputs": [
    {
     "data": {
      "text/plain": [
       "(37, 3)"
      ]
     },
     "execution_count": 43,
     "metadata": {},
     "output_type": "execute_result"
    }
   ],
   "source": [
    "np_baseballs.shape"
   ]
  },
  {
   "cell_type": "code",
   "execution_count": 47,
   "id": "b3eb0e7d",
   "metadata": {},
   "outputs": [
    {
     "data": {
      "text/plain": [
       "array([ 75.2303559, 216.837751 ,  43.6      ])"
      ]
     },
     "execution_count": 47,
     "metadata": {},
     "output_type": "execute_result"
    }
   ],
   "source": [
    "# add the update to the original values of baseball players\n",
    "new_baseball = np_baseball+np_updated\n",
    "new_baseball[0,:]"
   ]
  },
  {
   "cell_type": "markdown",
   "id": "de1c1dbc",
   "metadata": {},
   "source": [
    "### Q2.we want to convert the units of height and weight to metric (meters and kilograms, respectively). "
   ]
  },
  {
   "cell_type": "code",
   "execution_count": 51,
   "id": "0b8bb744",
   "metadata": {},
   "outputs": [
    {
     "data": {
      "text/plain": [
       "array([  1.8796  , 103.418976,  42.6     ])"
      ]
     },
     "execution_count": 51,
     "metadata": {},
     "output_type": "execute_result"
    }
   ],
   "source": [
    "import numpy as np\n",
    "\n",
    "# Create a numpy array with three values: 0.0254, 0.453592 and 1: conversion, \n",
    "conversion = [0.0254, 0.453592 , 1]\n",
    "\n",
    "# Print out product of np_baseball and conversion\n",
    "metric_baseball = np_baseballs* conversion\n",
    "metric_baseball[0,:]"
   ]
  },
  {
   "cell_type": "code",
   "execution_count": 52,
   "id": "151adfc0",
   "metadata": {},
   "outputs": [
    {
     "name": "stdout",
     "output_type": "stream",
     "text": [
      "Correlation: [[1.         0.57293107]\n",
      " [0.57293107 1.        ]]\n"
     ]
    }
   ],
   "source": [
    "# Print out correlation between first and second column. Replace 'None'\n",
    "corr = np.corrcoef(np_baseballs[:,0], np_baseballs[:,1])\n",
    "print(\"Correlation: \" + str(corr))"
   ]
  },
  {
   "cell_type": "code",
   "execution_count": 55,
   "id": "ab01d439",
   "metadata": {},
   "outputs": [],
   "source": [
    "\"\"\"The first list, positions, contains strings representing each player's position.\n",
    "The possible positions are: 'GK' (goalkeeper), 'M' (midfield), 'A' (attack) and 'D' (defense). \n",
    "The second list, heights, contains integers representing the height of the player in cm. The first player in the lists is a goalkeeper and is pretty tall (191 cm).\"\"\"\n",
    "positions = ['GK', 'M', 'A', 'D', 'M', 'D', 'M', 'M', 'M', 'A', 'M', 'M', 'A', 'A', 'A', 'M', 'D', 'A', 'D', 'M', 'GK',\n",
    " 'D', 'D', 'M', 'M', 'M', 'M', 'D', 'M', 'GK','D', 'GK', 'D', 'D', 'M', 'A', 'M', 'D', 'M', 'GK', 'M', 'GK', 'A', 'D', 'GK']\n",
    "heights = [191, 184, 185, 180, 181, 187, 170, 179, 183, 186, 185, 170, 187, 183, 173, 188, 183, 180, 188, 175, 193, 180, 185, 170,\n",
    " 183, 173, 185, 185, 168, 190,178, 185, 185, 193, 183, 184, 178, 180, 177, 188, 177, 187, 186, 183, 189]\n"
   ]
  },
  {
   "cell_type": "code",
   "execution_count": 56,
   "id": "caa5288a",
   "metadata": {},
   "outputs": [
    {
     "name": "stdout",
     "output_type": "stream",
     "text": [
      "Median height of goalkeepers: 189.0\n",
      "Median height of other players: 183.0\n"
     ]
    }
   ],
   "source": [
    "# heights and positions are available as lists\n",
    "\n",
    "# Import numpy\n",
    "import numpy as np\n",
    "\n",
    "# Convert positions and heights to numpy arrays: np_positions, np_heights\n",
    "np_positions = np.array(positions)\n",
    "np_heights = np.array(heights)\n",
    "\n",
    "\n",
    "# Heights of the goalkeepers: gk_heights\n",
    "gk_heights = np_heights[np_positions == 'GK']\n",
    "\n",
    "# Heights of the other players: other_heights\n",
    "other_heights = np_heights[np_positions != 'GK']\n",
    "\n",
    "# Print out the median height of goalkeepers. Replace 'None'\n",
    "print(\"Median height of goalkeepers: \" + str(np.median(gk_heights)))\n",
    "\n",
    "# Print out the median height of other players. Replace 'None'\n",
    "print(\"Median height of other players: \" + str(np.median(other_heights)))"
   ]
  },
  {
   "cell_type": "code",
   "execution_count": null,
   "id": "6bfe59e5",
   "metadata": {},
   "outputs": [],
   "source": []
  },
  {
   "cell_type": "code",
   "execution_count": null,
   "id": "466baa28",
   "metadata": {},
   "outputs": [],
   "source": []
  },
  {
   "cell_type": "code",
   "execution_count": null,
   "id": "92adc2f9",
   "metadata": {},
   "outputs": [],
   "source": []
  }
 ],
 "metadata": {
  "kernelspec": {
   "display_name": "Python 3 (ipykernel)",
   "language": "python",
   "name": "python3"
  },
  "language_info": {
   "codemirror_mode": {
    "name": "ipython",
    "version": 3
   },
   "file_extension": ".py",
   "mimetype": "text/x-python",
   "name": "python",
   "nbconvert_exporter": "python",
   "pygments_lexer": "ipython3",
   "version": "3.8.13"
  }
 },
 "nbformat": 4,
 "nbformat_minor": 5
}
